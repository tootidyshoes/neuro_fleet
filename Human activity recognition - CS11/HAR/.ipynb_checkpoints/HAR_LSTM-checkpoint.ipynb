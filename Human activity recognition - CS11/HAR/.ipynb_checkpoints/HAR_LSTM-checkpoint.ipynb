{
 "cells": [
  {
   "cell_type": "markdown",
   "metadata": {},
   "source": [
    "## LSTM Models "
   ]
  },
  {
   "cell_type": "markdown",
   "metadata": {
    "collapsed": true
   },
   "source": [
    "### Importing Libraries"
   ]
  },
  {
   "cell_type": "code",
   "execution_count": 33,
   "metadata": {},
   "outputs": [],
   "source": [
    "import pandas as pd\n",
    "import numpy as np\n",
    "\n",
    "# Importing libraries\n",
    "from keras.models import Sequential\n",
    "from keras.layers import LSTM\n",
    "from keras.layers.core import Dense, Dropout\n",
    "from keras.layers import BatchNormalization\n",
    "from keras.initializers import he_normal\n",
    "from keras.regularizers import l2"
   ]
  },
  {
   "cell_type": "code",
   "execution_count": 3,
   "metadata": {},
   "outputs": [],
   "source": [
    "# Activities are the class labels\n",
    "# It is a 6 class classification\n",
    "ACTIVITIES = {\n",
    "    0: 'WALKING',\n",
    "    1: 'WALKING_UPSTAIRS',\n",
    "    2: 'WALKING_DOWNSTAIRS',\n",
    "    3: 'SITTING',\n",
    "    4: 'STANDING',\n",
    "    5: 'LAYING',\n",
    "}\n",
    "\n",
    "# Utility function to print the confusion matrix\n",
    "def confusion_matrix(Y_true, Y_pred):\n",
    "    Y_true = pd.Series([ACTIVITIES[y] for y in np.argmax(Y_true, axis=1)])\n",
    "    Y_pred = pd.Series([ACTIVITIES[y] for y in np.argmax(Y_pred, axis=1)])\n",
    "\n",
    "    return pd.crosstab(Y_true, Y_pred, rownames=['True'], colnames=['Pred'])"
   ]
  },
  {
   "cell_type": "markdown",
   "metadata": {},
   "source": [
    "### Data"
   ]
  },
  {
   "cell_type": "code",
   "execution_count": 4,
   "metadata": {},
   "outputs": [],
   "source": [
    "# Data directory\n",
    "DATADIR = 'UCI_HAR_Dataset'"
   ]
  },
  {
   "cell_type": "code",
   "execution_count": 5,
   "metadata": {},
   "outputs": [],
   "source": [
    "# Raw data signals\n",
    "# Signals are from Accelerometer and Gyroscope\n",
    "# The signals are in x,y,z directions\n",
    "# Sensor signals are filtered to have only body acceleration\n",
    "# excluding the acceleration due to gravity\n",
    "# Triaxial acceleration from the accelerometer is total acceleration\n",
    "SIGNALS = [\n",
    "    \"body_acc_x\",\n",
    "    \"body_acc_y\",\n",
    "    \"body_acc_z\",\n",
    "    \"body_gyro_x\",\n",
    "    \"body_gyro_y\",\n",
    "    \"body_gyro_z\",\n",
    "    \"total_acc_x\",\n",
    "    \"total_acc_y\",\n",
    "    \"total_acc_z\"\n",
    "]"
   ]
  },
  {
   "cell_type": "code",
   "execution_count": 6,
   "metadata": {},
   "outputs": [],
   "source": [
    "# Utility function to read the data from csv file\n",
    "def _read_csv(filename):\n",
    "    return pd.read_csv(filename, delim_whitespace=True, header=None)\n",
    "\n",
    "# Utility function to load the load\n",
    "def load_signals(subset):\n",
    "    signals_data = []\n",
    "\n",
    "    for signal in SIGNALS:\n",
    "        filename = f'UCI_HAR_Dataset/{subset}/Inertial Signals/{signal}_{subset}.txt'\n",
    "        signals_data.append(\n",
    "            _read_csv(filename).as_matrix()\n",
    "        ) \n",
    "\n",
    "    # Transpose is used to change the dimensionality of the output,\n",
    "    # aggregating the signals by combination of sample/timestep.\n",
    "    # Resultant shape is (7352 train/2947 test samples, 128 timesteps, 9 signals)\n",
    "    return np.transpose(signals_data, (1, 2, 0))"
   ]
  },
  {
   "cell_type": "code",
   "execution_count": 7,
   "metadata": {},
   "outputs": [],
   "source": [
    "\n",
    "def load_y(subset):\n",
    "    \"\"\"\n",
    "    The objective that we are trying to predict is a integer, from 1 to 6,\n",
    "    that represents a human activity. We return a binary representation of \n",
    "    every sample objective as a 6 bits vector using One Hot Encoding\n",
    "    (https://pandas.pydata.org/pandas-docs/stable/generated/pandas.get_dummies.html)\n",
    "    \"\"\"\n",
    "    filename = f'UCI_HAR_Dataset/{subset}/y_{subset}.txt'\n",
    "    y = _read_csv(filename)[0]\n",
    "\n",
    "    return pd.get_dummies(y).as_matrix()"
   ]
  },
  {
   "cell_type": "code",
   "execution_count": 8,
   "metadata": {},
   "outputs": [],
   "source": [
    "def load_data():\n",
    "    \"\"\"\n",
    "    Obtain the dataset from multiple files.\n",
    "    Returns: X_train, X_test, y_train, y_test\n",
    "    \"\"\"\n",
    "    X_train, X_test = load_signals('train'), load_signals('test')\n",
    "    y_train, y_test = load_y('train'), load_y('test')\n",
    "\n",
    "    return X_train, X_test, y_train, y_test"
   ]
  },
  {
   "cell_type": "code",
   "execution_count": 9,
   "metadata": {},
   "outputs": [],
   "source": [
    "# Importing tensorflow\n",
    "np.random.seed(42)\n",
    "import tensorflow as tf\n",
    "tf.set_random_seed(42)"
   ]
  },
  {
   "cell_type": "code",
   "execution_count": 10,
   "metadata": {},
   "outputs": [],
   "source": [
    "# Configuring a session\n",
    "session_conf = tf.ConfigProto(\n",
    "    intra_op_parallelism_threads=1,\n",
    "    inter_op_parallelism_threads=1\n",
    ")"
   ]
  },
  {
   "cell_type": "code",
   "execution_count": 11,
   "metadata": {},
   "outputs": [
    {
     "name": "stderr",
     "output_type": "stream",
     "text": [
      "Using TensorFlow backend.\n"
     ]
    }
   ],
   "source": [
    "# Import Keras\n",
    "from keras import backend as K\n",
    "sess = tf.Session(graph=tf.get_default_graph(), config=session_conf)\n",
    "K.set_session(sess)"
   ]
  },
  {
   "cell_type": "code",
   "execution_count": 13,
   "metadata": {},
   "outputs": [],
   "source": [
    "# Initializing parameters\n",
    "epochs = 30\n",
    "batch_size = 16\n",
    "n_hidden = 32"
   ]
  },
  {
   "cell_type": "code",
   "execution_count": 14,
   "metadata": {},
   "outputs": [],
   "source": [
    "# Utility function to count the number of classes\n",
    "def _count_classes(y):\n",
    "    return len(set([tuple(category) for category in y]))"
   ]
  },
  {
   "cell_type": "code",
   "execution_count": 15,
   "metadata": {},
   "outputs": [
    {
     "name": "stderr",
     "output_type": "stream",
     "text": [
      "C:\\Users\\vansh\\Anaconda3\\envs\\env\\lib\\site-packages\\ipykernel_launcher.py:12: FutureWarning: Method .as_matrix will be removed in a future version. Use .values instead.\n",
      "  if sys.path[0] == '':\n",
      "C:\\Users\\vansh\\Anaconda3\\envs\\env\\lib\\site-packages\\ipykernel_launcher.py:11: FutureWarning: Method .as_matrix will be removed in a future version. Use .values instead.\n",
      "  # This is added back by InteractiveShellApp.init_path()\n"
     ]
    }
   ],
   "source": [
    "# Loading the train and test data\n",
    "X_train, X_test, Y_train, Y_test = load_data()"
   ]
  },
  {
   "cell_type": "code",
   "execution_count": 16,
   "metadata": {},
   "outputs": [
    {
     "name": "stdout",
     "output_type": "stream",
     "text": [
      "128\n",
      "9\n",
      "7352\n"
     ]
    }
   ],
   "source": [
    "timesteps = len(X_train[0])\n",
    "input_dim = len(X_train[0][0])\n",
    "n_classes = _count_classes(Y_train)\n",
    "\n",
    "print(timesteps)\n",
    "print(input_dim)\n",
    "print(len(X_train))"
   ]
  },
  {
   "cell_type": "markdown",
   "metadata": {},
   "source": [
    "## LSTM -  Model 1"
   ]
  },
  {
   "cell_type": "code",
   "execution_count": 17,
   "metadata": {},
   "outputs": [
    {
     "name": "stdout",
     "output_type": "stream",
     "text": [
      "WARNING:tensorflow:From C:\\Users\\vansh\\Anaconda3\\envs\\env\\lib\\site-packages\\keras\\backend\\tensorflow_backend.py:517: The name tf.placeholder is deprecated. Please use tf.compat.v1.placeholder instead.\n",
      "\n",
      "WARNING:tensorflow:From C:\\Users\\vansh\\Anaconda3\\envs\\env\\lib\\site-packages\\keras\\backend\\tensorflow_backend.py:4138: The name tf.random_uniform is deprecated. Please use tf.random.uniform instead.\n",
      "\n",
      "WARNING:tensorflow:From C:\\Users\\vansh\\Anaconda3\\envs\\env\\lib\\site-packages\\keras\\backend\\tensorflow_backend.py:133: The name tf.placeholder_with_default is deprecated. Please use tf.compat.v1.placeholder_with_default instead.\n",
      "\n",
      "WARNING:tensorflow:From C:\\Users\\vansh\\Anaconda3\\envs\\env\\lib\\site-packages\\keras\\backend\\tensorflow_backend.py:3445: calling dropout (from tensorflow.python.ops.nn_ops) with keep_prob is deprecated and will be removed in a future version.\n",
      "Instructions for updating:\n",
      "Please use `rate` instead of `keep_prob`. Rate should be set to `rate = 1 - keep_prob`.\n",
      "_________________________________________________________________\n",
      "Layer (type)                 Output Shape              Param #   \n",
      "=================================================================\n",
      "lstm_1 (LSTM)                (None, 32)                5376      \n",
      "_________________________________________________________________\n",
      "dropout_1 (Dropout)          (None, 32)                0         \n",
      "_________________________________________________________________\n",
      "dense_1 (Dense)              (None, 6)                 198       \n",
      "=================================================================\n",
      "Total params: 5,574\n",
      "Trainable params: 5,574\n",
      "Non-trainable params: 0\n",
      "_________________________________________________________________\n"
     ]
    }
   ],
   "source": [
    "# Initiliazing the sequential model\n",
    "model = Sequential()\n",
    "# Configuring the parameters\n",
    "model.add(LSTM(n_hidden, input_shape=(timesteps, input_dim)))\n",
    "# Adding a dropout layer\n",
    "model.add(Dropout(0.5))\n",
    "# Adding a dense output layer with sigmoid activation\n",
    "model.add(Dense(n_classes, activation='sigmoid'))\n",
    "model.summary()"
   ]
  },
  {
   "cell_type": "code",
   "execution_count": 18,
   "metadata": {},
   "outputs": [
    {
     "name": "stdout",
     "output_type": "stream",
     "text": [
      "WARNING:tensorflow:From C:\\Users\\vansh\\Anaconda3\\envs\\env\\lib\\site-packages\\keras\\optimizers.py:790: The name tf.train.Optimizer is deprecated. Please use tf.compat.v1.train.Optimizer instead.\n",
      "\n",
      "WARNING:tensorflow:From C:\\Users\\vansh\\Anaconda3\\envs\\env\\lib\\site-packages\\keras\\backend\\tensorflow_backend.py:3295: The name tf.log is deprecated. Please use tf.math.log instead.\n",
      "\n"
     ]
    }
   ],
   "source": [
    "# Compiling the model\n",
    "model.compile(loss='categorical_crossentropy',\n",
    "              optimizer='rmsprop',\n",
    "              metrics=['accuracy'])"
   ]
  },
  {
   "cell_type": "code",
   "execution_count": 19,
   "metadata": {},
   "outputs": [
    {
     "name": "stdout",
     "output_type": "stream",
     "text": [
      "WARNING:tensorflow:From C:\\Users\\vansh\\Anaconda3\\envs\\env\\lib\\site-packages\\tensorflow_core\\python\\ops\\math_grad.py:1424: where (from tensorflow.python.ops.array_ops) is deprecated and will be removed in a future version.\n",
      "Instructions for updating:\n",
      "Use tf.where in 2.0, which has the same broadcast rule as np.where\n",
      "WARNING:tensorflow:From C:\\Users\\vansh\\Anaconda3\\envs\\env\\lib\\site-packages\\keras\\backend\\tensorflow_backend.py:986: The name tf.assign_add is deprecated. Please use tf.compat.v1.assign_add instead.\n",
      "\n",
      "WARNING:tensorflow:From C:\\Users\\vansh\\Anaconda3\\envs\\env\\lib\\site-packages\\keras\\backend\\tensorflow_backend.py:973: The name tf.assign is deprecated. Please use tf.compat.v1.assign instead.\n",
      "\n",
      "Train on 7352 samples, validate on 2947 samples\n",
      "Epoch 1/30\n",
      "WARNING:tensorflow:From C:\\Users\\vansh\\Anaconda3\\envs\\env\\lib\\site-packages\\keras\\backend\\tensorflow_backend.py:174: The name tf.get_default_session is deprecated. Please use tf.compat.v1.get_default_session instead.\n",
      "\n",
      "WARNING:tensorflow:From C:\\Users\\vansh\\Anaconda3\\envs\\env\\lib\\site-packages\\keras\\backend\\tensorflow_backend.py:190: The name tf.global_variables is deprecated. Please use tf.compat.v1.global_variables instead.\n",
      "\n",
      "WARNING:tensorflow:From C:\\Users\\vansh\\Anaconda3\\envs\\env\\lib\\site-packages\\keras\\backend\\tensorflow_backend.py:199: The name tf.is_variable_initialized is deprecated. Please use tf.compat.v1.is_variable_initialized instead.\n",
      "\n",
      "WARNING:tensorflow:From C:\\Users\\vansh\\Anaconda3\\envs\\env\\lib\\site-packages\\keras\\backend\\tensorflow_backend.py:206: The name tf.variables_initializer is deprecated. Please use tf.compat.v1.variables_initializer instead.\n",
      "\n",
      "7352/7352 [==============================] - 80s 11ms/step - loss: 1.3145 - acc: 0.4391 - val_loss: 1.1425 - val_acc: 0.4706\n",
      "Epoch 2/30\n",
      "7352/7352 [==============================] - 80s 11ms/step - loss: 0.9646 - acc: 0.5866 - val_loss: 0.9298 - val_acc: 0.5697\n",
      "Epoch 3/30\n",
      "7352/7352 [==============================] - 79s 11ms/step - loss: 0.7937 - acc: 0.6491 - val_loss: 0.7873 - val_acc: 0.6077\n",
      "Epoch 4/30\n",
      "7352/7352 [==============================] - 80s 11ms/step - loss: 0.7387 - acc: 0.6498 - val_loss: 0.7440 - val_acc: 0.6105\n",
      "Epoch 5/30\n",
      "7352/7352 [==============================] - 80s 11ms/step - loss: 0.6669 - acc: 0.6707 - val_loss: 0.8933 - val_acc: 0.6176\n",
      "Epoch 6/30\n",
      "7352/7352 [==============================] - 80s 11ms/step - loss: 0.6285 - acc: 0.6789 - val_loss: 0.7532 - val_acc: 0.6121\n",
      "Epoch 7/30\n",
      "7352/7352 [==============================] - 80s 11ms/step - loss: 0.5989 - acc: 0.7099 - val_loss: 0.8453 - val_acc: 0.6641\n",
      "Epoch 8/30\n",
      "7352/7352 [==============================] - 79s 11ms/step - loss: 0.5829 - acc: 0.7274 - val_loss: 0.7612 - val_acc: 0.7448\n",
      "Epoch 9/30\n",
      "7352/7352 [==============================] - 81s 11ms/step - loss: 0.5506 - acc: 0.7764 - val_loss: 0.7463 - val_acc: 0.7547\n",
      "Epoch 10/30\n",
      "7352/7352 [==============================] - 80s 11ms/step - loss: 0.4984 - acc: 0.7979 - val_loss: 0.6463 - val_acc: 0.7533\n",
      "Epoch 11/30\n",
      "7352/7352 [==============================] - 80s 11ms/step - loss: 0.4851 - acc: 0.8054 - val_loss: 0.6000 - val_acc: 0.7645\n",
      "Epoch 12/30\n",
      "7352/7352 [==============================] - 78s 11ms/step - loss: 0.4486 - acc: 0.8107 - val_loss: 0.6281 - val_acc: 0.7906\n",
      "Epoch 13/30\n",
      "7352/7352 [==============================] - 78s 11ms/step - loss: 0.4317 - acc: 0.8277 - val_loss: 0.4967 - val_acc: 0.7923\n",
      "Epoch 14/30\n",
      "7352/7352 [==============================] - 79s 11ms/step - loss: 0.3837 - acc: 0.8577 - val_loss: 0.6017 - val_acc: 0.8446\n",
      "Epoch 15/30\n",
      "7352/7352 [==============================] - 79s 11ms/step - loss: 0.3772 - acc: 0.8817 - val_loss: 0.4081 - val_acc: 0.8687\n",
      "Epoch 16/30\n",
      "7352/7352 [==============================] - 77s 10ms/step - loss: 0.3266 - acc: 0.9057 - val_loss: 0.6228 - val_acc: 0.8378\n",
      "Epoch 17/30\n",
      "7352/7352 [==============================] - 77s 10ms/step - loss: 0.3081 - acc: 0.9053 - val_loss: 0.4625 - val_acc: 0.8775\n",
      "Epoch 18/30\n",
      "7352/7352 [==============================] - 78s 11ms/step - loss: 0.3094 - acc: 0.9089 - val_loss: 0.4791 - val_acc: 0.8761\n",
      "Epoch 19/30\n",
      "7352/7352 [==============================] - 78s 11ms/step - loss: 0.2536 - acc: 0.9271 - val_loss: 0.7268 - val_acc: 0.8537\n",
      "Epoch 20/30\n",
      "7352/7352 [==============================] - 78s 11ms/step - loss: 0.2463 - acc: 0.9293 - val_loss: 0.3567 - val_acc: 0.8833\n",
      "Epoch 21/30\n",
      "7352/7352 [==============================] - 78s 11ms/step - loss: 0.2241 - acc: 0.9334 - val_loss: 0.3577 - val_acc: 0.8863\n",
      "Epoch 22/30\n",
      "7352/7352 [==============================] - 78s 11ms/step - loss: 0.2333 - acc: 0.9332 - val_loss: 0.4015 - val_acc: 0.8904\n",
      "Epoch 23/30\n",
      "7352/7352 [==============================] - 79s 11ms/step - loss: 0.2159 - acc: 0.9361 - val_loss: 0.3943 - val_acc: 0.9040\n",
      "Epoch 24/30\n",
      "7352/7352 [==============================] - 78s 11ms/step - loss: 0.2002 - acc: 0.9402 - val_loss: 0.4446 - val_acc: 0.8951\n",
      "Epoch 25/30\n",
      "7352/7352 [==============================] - 79s 11ms/step - loss: 0.2062 - acc: 0.9411 - val_loss: 0.3382 - val_acc: 0.8996\n",
      "Epoch 26/30\n",
      "7352/7352 [==============================] - 78s 11ms/step - loss: 0.1912 - acc: 0.9381 - val_loss: 0.3304 - val_acc: 0.8958\n",
      "Epoch 27/30\n",
      "7352/7352 [==============================] - 78s 11ms/step - loss: 0.1788 - acc: 0.9408 - val_loss: 0.4011 - val_acc: 0.8975\n",
      "Epoch 28/30\n",
      "7352/7352 [==============================] - 78s 11ms/step - loss: 0.1867 - acc: 0.9403 - val_loss: 0.3953 - val_acc: 0.9091\n",
      "Epoch 29/30\n",
      "7352/7352 [==============================] - 78s 11ms/step - loss: 0.1798 - acc: 0.9437 - val_loss: 0.3486 - val_acc: 0.9216\n",
      "Epoch 30/30\n",
      "7352/7352 [==============================] - 78s 11ms/step - loss: 0.1789 - acc: 0.9437 - val_loss: 0.5675 - val_acc: 0.8839\n"
     ]
    },
    {
     "data": {
      "text/plain": [
       "<keras.callbacks.History at 0x1f24fade400>"
      ]
     },
     "execution_count": 19,
     "metadata": {},
     "output_type": "execute_result"
    }
   ],
   "source": [
    "# Training the model\n",
    "model.fit(X_train,\n",
    "          Y_train,\n",
    "          batch_size=batch_size,\n",
    "          validation_data=(X_test, Y_test),\n",
    "          epochs=epochs)"
   ]
  },
  {
   "cell_type": "code",
   "execution_count": 20,
   "metadata": {},
   "outputs": [
    {
     "name": "stdout",
     "output_type": "stream",
     "text": [
      "Pred                LAYING  SITTING  STANDING  WALKING  WALKING_DOWNSTAIRS  \\\n",
      "True                                                                         \n",
      "LAYING                 512        0        25        0                   0   \n",
      "SITTING                  1      419        69        2                   0   \n",
      "STANDING                 0      104       424        4                   0   \n",
      "WALKING                  0        1         0      464                  28   \n",
      "WALKING_DOWNSTAIRS       0        0         0       41                 374   \n",
      "WALKING_UPSTAIRS         0        0         0       47                  12   \n",
      "\n",
      "Pred                WALKING_UPSTAIRS  \n",
      "True                                  \n",
      "LAYING                             0  \n",
      "SITTING                            0  \n",
      "STANDING                           0  \n",
      "WALKING                            3  \n",
      "WALKING_DOWNSTAIRS                 5  \n",
      "WALKING_UPSTAIRS                 412  \n"
     ]
    }
   ],
   "source": [
    "# Confusion Matrix\n",
    "print(confusion_matrix(Y_test, model.predict(X_test)))"
   ]
  },
  {
   "cell_type": "code",
   "execution_count": 21,
   "metadata": {},
   "outputs": [
    {
     "name": "stdout",
     "output_type": "stream",
     "text": [
      "2947/2947 [==============================] - 6s 2ms/step\n"
     ]
    }
   ],
   "source": [
    "score = model.evaluate(X_test, Y_test)"
   ]
  },
  {
   "cell_type": "code",
   "execution_count": 22,
   "metadata": {},
   "outputs": [
    {
     "data": {
      "text/plain": [
       "[0.5675176959584709, 0.8839497794367153]"
      ]
     },
     "execution_count": 22,
     "metadata": {},
     "output_type": "execute_result"
    }
   ],
   "source": [
    "score"
   ]
  },
  {
   "cell_type": "markdown",
   "metadata": {},
   "source": [
    "<h1><font color=\"red\">******************************Assignment*********************************</font></h1>"
   ]
  },
  {
   "cell_type": "markdown",
   "metadata": {},
   "source": [
    "## LSTM - Model 2"
   ]
  },
  {
   "cell_type": "code",
   "execution_count": 55,
   "metadata": {},
   "outputs": [
    {
     "name": "stdout",
     "output_type": "stream",
     "text": [
      "_________________________________________________________________\n",
      "Layer (type)                 Output Shape              Param #   \n",
      "=================================================================\n",
      "lstm_41 (LSTM)               (None, 128, 32)           5376      \n",
      "_________________________________________________________________\n",
      "dropout_12 (Dropout)         (None, 128, 32)           0         \n",
      "_________________________________________________________________\n",
      "lstm_42 (LSTM)               (None, 128)               82432     \n",
      "_________________________________________________________________\n",
      "dropout_13 (Dropout)         (None, 128)               0         \n",
      "_________________________________________________________________\n",
      "dense_18 (Dense)             (None, 6)                 774       \n",
      "=================================================================\n",
      "Total params: 88,582\n",
      "Trainable params: 88,582\n",
      "Non-trainable params: 0\n",
      "_________________________________________________________________\n"
     ]
    }
   ],
   "source": [
    "# Initiliazing the sequential model\n",
    "model = Sequential()\n",
    "\n",
    "model.add(LSTM(n_hidden, return_sequences=True, input_shape=(timesteps, input_dim)))\n",
    "\n",
    "model.add(Dropout(0.5))\n",
    "\n",
    "model.add(LSTM(128))\n",
    "\n",
    "model.add(Dropout(0.5))\n",
    "\n",
    "model.add(Dense(n_classes, activation='sigmoid'))\n",
    "\n",
    "model.summary()\n",
    "          \n",
    "#Compiling the model\n",
    "model.compile(loss='categorical_crossentropy',\n",
    "              optimizer='rmsprop',\n",
    "              metrics=['accuracy'])"
   ]
  },
  {
   "cell_type": "code",
   "execution_count": 56,
   "metadata": {},
   "outputs": [
    {
     "name": "stdout",
     "output_type": "stream",
     "text": [
      "Train on 7352 samples, validate on 2947 samples\n",
      "Epoch 1/20\n",
      "7352/7352 [==============================] - 171s 23ms/step - loss: 1.1026 - acc: 0.5165 - val_loss: 0.9234 - val_acc: 0.6244\n",
      "Epoch 2/20\n",
      "7352/7352 [==============================] - 161s 22ms/step - loss: 0.7388 - acc: 0.6445 - val_loss: 0.9137 - val_acc: 0.5955\n",
      "Epoch 3/20\n",
      "7352/7352 [==============================] - 160s 22ms/step - loss: 0.6810 - acc: 0.6670 - val_loss: 0.9706 - val_acc: 0.6481\n",
      "Epoch 4/20\n",
      "7352/7352 [==============================] - 170s 23ms/step - loss: 0.6570 - acc: 0.7048 - val_loss: 0.7484 - val_acc: 0.7248\n",
      "Epoch 5/20\n",
      "7352/7352 [==============================] - 163s 22ms/step - loss: 0.5314 - acc: 0.7889 - val_loss: 0.7865 - val_acc: 0.7435\n",
      "Epoch 6/20\n",
      "7352/7352 [==============================] - 161s 22ms/step - loss: 0.3786 - acc: 0.8702 - val_loss: 0.5916 - val_acc: 0.8310\n",
      "Epoch 7/20\n",
      "7352/7352 [==============================] - 161s 22ms/step - loss: 0.2507 - acc: 0.9162 - val_loss: 0.5266 - val_acc: 0.8595\n",
      "Epoch 8/20\n",
      "7352/7352 [==============================] - 165s 22ms/step - loss: 0.1897 - acc: 0.9293 - val_loss: 0.5853 - val_acc: 0.8734\n",
      "Epoch 9/20\n",
      "7352/7352 [==============================] - 163s 22ms/step - loss: 0.1792 - acc: 0.9353 - val_loss: 0.5424 - val_acc: 0.8870\n",
      "Epoch 10/20\n",
      "7352/7352 [==============================] - 162s 22ms/step - loss: 0.1713 - acc: 0.9392 - val_loss: 0.5154 - val_acc: 0.8907\n",
      "Epoch 11/20\n",
      "7352/7352 [==============================] - 182s 25ms/step - loss: 0.1544 - acc: 0.9448 - val_loss: 0.6427 - val_acc: 0.8914\n",
      "Epoch 12/20\n",
      "7352/7352 [==============================] - 174s 24ms/step - loss: 0.1533 - acc: 0.9449 - val_loss: 0.4199 - val_acc: 0.8951\n",
      "Epoch 13/20\n",
      "7352/7352 [==============================] - 161s 22ms/step - loss: 0.1517 - acc: 0.9478 - val_loss: 0.3070 - val_acc: 0.8962\n",
      "Epoch 14/20\n",
      "7352/7352 [==============================] - 162s 22ms/step - loss: 0.1506 - acc: 0.9470 - val_loss: 0.3353 - val_acc: 0.9087\n",
      "Epoch 15/20\n",
      "7352/7352 [==============================] - 170s 23ms/step - loss: 0.1416 - acc: 0.9489 - val_loss: 0.4073 - val_acc: 0.9111\n",
      "Epoch 16/20\n",
      "7352/7352 [==============================] - 178s 24ms/step - loss: 0.1444 - acc: 0.9479 - val_loss: 0.3104 - val_acc: 0.9135\n",
      "Epoch 17/20\n",
      "7352/7352 [==============================] - 161s 22ms/step - loss: 0.1397 - acc: 0.9453 - val_loss: 0.4851 - val_acc: 0.9009\n",
      "Epoch 18/20\n",
      "7352/7352 [==============================] - 160s 22ms/step - loss: 0.1329 - acc: 0.9493 - val_loss: 0.4147 - val_acc: 0.8958\n",
      "Epoch 19/20\n",
      "7352/7352 [==============================] - 163s 22ms/step - loss: 0.1495 - acc: 0.9472 - val_loss: 0.3235 - val_acc: 0.9030\n",
      "Epoch 20/20\n",
      "7352/7352 [==============================] - 166s 23ms/step - loss: 0.1291 - acc: 0.9525 - val_loss: 0.4471 - val_acc: 0.8962\n"
     ]
    },
    {
     "data": {
      "text/plain": [
       "<keras.callbacks.History at 0x1f339622f28>"
      ]
     },
     "execution_count": 56,
     "metadata": {},
     "output_type": "execute_result"
    }
   ],
   "source": [
    "# Training the model\n",
    "model.fit(X_train,\n",
    "          Y_train,\n",
    "          batch_size=batch_size,\n",
    "          validation_data=(X_test, Y_test),\n",
    "          epochs=20)"
   ]
  },
  {
   "cell_type": "code",
   "execution_count": 57,
   "metadata": {},
   "outputs": [
    {
     "name": "stdout",
     "output_type": "stream",
     "text": [
      "Pred                LAYING  SITTING  STANDING  WALKING  WALKING_DOWNSTAIRS  \\\n",
      "True                                                                         \n",
      "LAYING                 510        0         0        0                   0   \n",
      "SITTING                  3      397        72        1                   0   \n",
      "STANDING                 0       88       417        2                   0   \n",
      "WALKING                  0        0         0      486                   1   \n",
      "WALKING_DOWNSTAIRS       0        0         0       17                 398   \n",
      "WALKING_UPSTAIRS         0        0         0       34                   4   \n",
      "\n",
      "Pred                WALKING_UPSTAIRS  \n",
      "True                                  \n",
      "LAYING                            27  \n",
      "SITTING                           18  \n",
      "STANDING                          25  \n",
      "WALKING                            9  \n",
      "WALKING_DOWNSTAIRS                 5  \n",
      "WALKING_UPSTAIRS                 433  \n"
     ]
    }
   ],
   "source": [
    "# Confusion Matrix\n",
    "print(confusion_matrix(Y_test, model.predict(X_test)))"
   ]
  },
  {
   "cell_type": "code",
   "execution_count": 59,
   "metadata": {},
   "outputs": [
    {
     "name": "stdout",
     "output_type": "stream",
     "text": [
      "2947/2947 [==============================] - 14s 5ms/step\n",
      "[0.4471043834158044, 0.8961655921275874]\n"
     ]
    }
   ],
   "source": [
    "print(model.evaluate(X_test, Y_test))"
   ]
  },
  {
   "cell_type": "markdown",
   "metadata": {},
   "source": [
    "### LSTM Model -3"
   ]
  },
  {
   "cell_type": "code",
   "execution_count": 60,
   "metadata": {},
   "outputs": [
    {
     "name": "stdout",
     "output_type": "stream",
     "text": [
      "WARNING:tensorflow:Large dropout rate: 0.6 (>0.5). In TensorFlow 2.x, dropout() uses dropout rate instead of keep_prob. Please ensure that this is intended.\n",
      "WARNING:tensorflow:Large dropout rate: 0.6 (>0.5). In TensorFlow 2.x, dropout() uses dropout rate instead of keep_prob. Please ensure that this is intended.\n",
      "_________________________________________________________________\n",
      "Layer (type)                 Output Shape              Param #   \n",
      "=================================================================\n",
      "lstm_43 (LSTM)               (None, 128, 128)          70656     \n",
      "_________________________________________________________________\n",
      "dropout_14 (Dropout)         (None, 128, 128)          0         \n",
      "_________________________________________________________________\n",
      "lstm_44 (LSTM)               (None, 128)               131584    \n",
      "_________________________________________________________________\n",
      "dropout_15 (Dropout)         (None, 128)               0         \n",
      "_________________________________________________________________\n",
      "dense_19 (Dense)             (None, 6)                 774       \n",
      "=================================================================\n",
      "Total params: 203,014\n",
      "Trainable params: 203,014\n",
      "Non-trainable params: 0\n",
      "_________________________________________________________________\n"
     ]
    }
   ],
   "source": [
    "# Initiliazing the sequential model\n",
    "model = Sequential()\n",
    "\n",
    "model.add(LSTM(128, return_sequences=True, input_shape=(timesteps, input_dim)))\n",
    "\n",
    "model.add(Dropout(0.6))\n",
    "\n",
    "model.add(LSTM(128))\n",
    "\n",
    "model.add(Dropout(0.6))\n",
    "\n",
    "model.add(Dense(n_classes, activation='sigmoid'))\n",
    "\n",
    "model.summary()\n",
    "          \n",
    "#Compiling the model\n",
    "model.compile(loss='categorical_crossentropy',\n",
    "              optimizer='rmsprop',\n",
    "              metrics=['accuracy'])"
   ]
  },
  {
   "cell_type": "code",
   "execution_count": 61,
   "metadata": {},
   "outputs": [
    {
     "name": "stdout",
     "output_type": "stream",
     "text": [
      "Train on 7352 samples, validate on 2947 samples\n",
      "Epoch 1/25\n",
      "7352/7352 [==============================] - 176s 24ms/step - loss: 1.0692 - acc: 0.5427 - val_loss: 0.8473 - val_acc: 0.6074\n",
      "Epoch 2/25\n",
      "7352/7352 [==============================] - 175s 24ms/step - loss: 0.7608 - acc: 0.6427 - val_loss: 0.8308 - val_acc: 0.6410\n",
      "Epoch 3/25\n",
      "7352/7352 [==============================] - 171s 23ms/step - loss: 0.6352 - acc: 0.7103 - val_loss: 0.6000 - val_acc: 0.7716\n",
      "Epoch 4/25\n",
      "7352/7352 [==============================] - 174s 24ms/step - loss: 0.4290 - acc: 0.8508 - val_loss: 0.6805 - val_acc: 0.7757\n",
      "Epoch 5/25\n",
      "7352/7352 [==============================] - 172s 23ms/step - loss: 0.2704 - acc: 0.9113 - val_loss: 0.3806 - val_acc: 0.8792\n",
      "Epoch 6/25\n",
      "7352/7352 [==============================] - 184s 25ms/step - loss: 0.2038 - acc: 0.9293 - val_loss: 0.3483 - val_acc: 0.8945\n",
      "Epoch 7/25\n",
      "7352/7352 [==============================] - 177s 24ms/step - loss: 0.1870 - acc: 0.9382 - val_loss: 0.3616 - val_acc: 0.8914\n",
      "Epoch 8/25\n",
      "7352/7352 [==============================] - 176s 24ms/step - loss: 0.1635 - acc: 0.9419 - val_loss: 0.4375 - val_acc: 0.8965\n",
      "Epoch 9/25\n",
      "7352/7352 [==============================] - 172s 23ms/step - loss: 0.1500 - acc: 0.9433 - val_loss: 0.7935 - val_acc: 0.8558\n",
      "Epoch 10/25\n",
      "7352/7352 [==============================] - 164s 22ms/step - loss: 0.1538 - acc: 0.9478 - val_loss: 0.3070 - val_acc: 0.9080\n",
      "Epoch 11/25\n",
      "7352/7352 [==============================] - 179s 24ms/step - loss: 0.1601 - acc: 0.9410 - val_loss: 0.3483 - val_acc: 0.9063\n",
      "Epoch 12/25\n",
      "7352/7352 [==============================] - 157s 21ms/step - loss: 0.1366 - acc: 0.9471 - val_loss: 0.2493 - val_acc: 0.9158\n",
      "Epoch 13/25\n",
      "7352/7352 [==============================] - 155s 21ms/step - loss: 0.1428 - acc: 0.9476 - val_loss: 0.4191 - val_acc: 0.8894\n",
      "Epoch 14/25\n",
      "7352/7352 [==============================] - 156s 21ms/step - loss: 0.1385 - acc: 0.9476 - val_loss: 0.3761 - val_acc: 0.9128\n",
      "Epoch 15/25\n",
      "7352/7352 [==============================] - 158s 21ms/step - loss: 0.1510 - acc: 0.9441 - val_loss: 0.6310 - val_acc: 0.8656\n",
      "Epoch 16/25\n",
      "7352/7352 [==============================] - 157s 21ms/step - loss: 0.1439 - acc: 0.9455 - val_loss: 0.4245 - val_acc: 0.9141\n",
      "Epoch 17/25\n",
      "7352/7352 [==============================] - 157s 21ms/step - loss: 0.1636 - acc: 0.9425 - val_loss: 0.4357 - val_acc: 0.9091\n",
      "Epoch 18/25\n",
      "7352/7352 [==============================] - 157s 21ms/step - loss: 0.1415 - acc: 0.9480 - val_loss: 0.2617 - val_acc: 0.9080\n",
      "Epoch 19/25\n",
      "7352/7352 [==============================] - 167s 23ms/step - loss: 0.1354 - acc: 0.9479 - val_loss: 0.3137 - val_acc: 0.9009\n",
      "Epoch 20/25\n",
      "7352/7352 [==============================] - 172s 23ms/step - loss: 0.1323 - acc: 0.9494 - val_loss: 0.4827 - val_acc: 0.9080\n",
      "Epoch 21/25\n",
      "7352/7352 [==============================] - 167s 23ms/step - loss: 0.1299 - acc: 0.9517 - val_loss: 0.3776 - val_acc: 0.9118\n",
      "Epoch 22/25\n",
      "7352/7352 [==============================] - 169s 23ms/step - loss: 0.1439 - acc: 0.9489 - val_loss: 0.4414 - val_acc: 0.9080\n",
      "Epoch 23/25\n",
      "7352/7352 [==============================] - 172s 23ms/step - loss: 0.1314 - acc: 0.9533 - val_loss: 0.4666 - val_acc: 0.9138\n",
      "Epoch 24/25\n",
      "7352/7352 [==============================] - 163s 22ms/step - loss: 0.1374 - acc: 0.9491 - val_loss: 0.5099 - val_acc: 0.9060\n",
      "Epoch 25/25\n",
      "7352/7352 [==============================] - 170s 23ms/step - loss: 0.1281 - acc: 0.9510 - val_loss: 0.4409 - val_acc: 0.9145\n"
     ]
    },
    {
     "data": {
      "text/plain": [
       "<keras.callbacks.History at 0x1f33de7aeb8>"
      ]
     },
     "execution_count": 61,
     "metadata": {},
     "output_type": "execute_result"
    }
   ],
   "source": [
    "# Training the model\n",
    "model.fit(X_train,\n",
    "          Y_train,\n",
    "          batch_size=batch_size,\n",
    "          validation_data=(X_test, Y_test),\n",
    "          epochs=25)"
   ]
  },
  {
   "cell_type": "code",
   "execution_count": 64,
   "metadata": {},
   "outputs": [
    {
     "name": "stdout",
     "output_type": "stream",
     "text": [
      "Pred                LAYING  SITTING  STANDING  WALKING  WALKING_DOWNSTAIRS  \\\n",
      "True                                                                         \n",
      "LAYING                 510        0        26        0                   0   \n",
      "SITTING                  0      417        74        0                   0   \n",
      "STANDING                 0       93       439        0                   0   \n",
      "WALKING                  0        0         0      472                  15   \n",
      "WALKING_DOWNSTAIRS       0        0         0        4                 408   \n",
      "WALKING_UPSTAIRS         0       10         0        7                   5   \n",
      "\n",
      "Pred                WALKING_UPSTAIRS  \n",
      "True                                  \n",
      "LAYING                             1  \n",
      "SITTING                            0  \n",
      "STANDING                           0  \n",
      "WALKING                            9  \n",
      "WALKING_DOWNSTAIRS                 8  \n",
      "WALKING_UPSTAIRS                 449  \n"
     ]
    }
   ],
   "source": [
    "# Confusion Matrix\n",
    "print(confusion_matrix(Y_test, model.predict(X_test)))"
   ]
  },
  {
   "cell_type": "code",
   "execution_count": 65,
   "metadata": {},
   "outputs": [
    {
     "name": "stdout",
     "output_type": "stream",
     "text": [
      "2947/2947 [==============================] - 13s 4ms/step\n",
      "[0.4413008309662484, 0.9144893111638955]\n"
     ]
    }
   ],
   "source": [
    "print(model.evaluate(X_test, Y_test))"
   ]
  },
  {
   "cell_type": "markdown",
   "metadata": {},
   "source": [
    "## Best LSTM model - Score ~92%"
   ]
  }
 ],
 "metadata": {
  "kernelspec": {
   "display_name": "Python 3",
   "language": "python",
   "name": "python3"
  }
 },
 "nbformat": 4,
 "nbformat_minor": 2
}
