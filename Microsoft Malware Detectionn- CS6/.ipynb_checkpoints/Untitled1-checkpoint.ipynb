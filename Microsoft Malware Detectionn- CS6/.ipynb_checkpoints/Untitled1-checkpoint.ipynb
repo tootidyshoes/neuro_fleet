{
 "cells": [
  {
   "cell_type": "markdown",
   "metadata": {},
   "source": [
    "<h1><font color=\"blue\"><b>Self Case study 1: Google Analytics Customer Revenue Prediction</b></font>\n",
    "    <h2><font color=\"grey\">Predict how much GStore customers will spend</font></h2>"
   ]
  },
  {
   "cell_type": "markdown",
   "metadata": {},
   "source": [
    "<h3>What is 80/20 rule?</h3>\n",
    "The 80/20 rule means not only that 80 percent of your sales will come from 20 percent of your customers but also that 80 percent will come from 20 percent of your sales force."
   ]
  },
  {
   "cell_type": "markdown",
   "metadata": {},
   "source": [
    "As such, marketing teams are challenged to make appropriate investments in promotional strategies."
   ]
  },
  {
   "cell_type": "markdown",
   "metadata": {},
   "source": [
    "<h3>Problem Statement:</h3>"
   ]
  },
  {
   "cell_type": "markdown",
   "metadata": {},
   "source": [
    "<b>To analyze a Google Merchandise Store (also known as GStore, where Google swag is sold) customer dataset to predict revenue per customer.</b> The analysis on the customer data can be used to make better marketing budgets for those companies who choose to use data analysis on top of GA data."
   ]
  },
  {
   "cell_type": "markdown",
   "metadata": {},
   "source": [
    "<h3>Dataset:</h3>\n",
    "<p> Google is being activelt tracking the user, their search keywords to the demographic reports to know who are the customers, what are their puchase patterns, their likes and dislikes to collect all the possible datas from the users. There data are than analysed to traget to specific customers for specific products and services so as to increse the revenue and to provide better products and services to the customers.</p>\n",
    "<br>\n",
    "<br>\n",
    "This dataset provided by Google:\n",
    "    <li><b>Train_v2.csv </b>- Training set - contains user transactions from August 1st 2016 to April 30th 2018.</li>\n",
    "    <li><b>test_v2.csv </b>- Test set - contains user transactions from May 1st 2018 to October 15th 2018.</li>\n",
    "    <li><b>sample_submission_v2.csv</b> - Submission file in the correct format. Contains all fullVisitorIds in test_v2.csv.</li> \n",
    ",</p>\n",
    "\n",
    "<p>\n",
    "    <b>DataFields</b>\n",
    "    <li><b>fullVisitorId</b>- A unique identifier for each user of the Google Merchandise Store.</li>\n",
    "    <li><b>channelGrouping</b> - The channel via which the user came to the Store.</li>\n",
    "    <li><b>date</b> - The date on which the user visited the Store.</li>\n",
    "    <li><b>device</b> - The specifications for the device used to access the Store.</li>\n",
    "    <li><b>geoNetwork</b> - The Geography of the user.</li>\n",
    "    <li><b>socialEngagementType</b> - Engagement type, either \"Socially Engaged\" or \"Not Socially Engaged\".</li>\n",
    "    <li><b>totals</b> - Aggregate values across the session.</li>\n",
    "    <li><b>trafficSource</b> - Traffic Source from which the session originated </li>\n",
    "    <li><b>visitId</b> - An identifier for this session. This is only unique to the user. For a completely unique ID use a combination of fullVisitorId and visitId.</li>\n",
    "    <li><b>visitNumber</b> - The session number for this user. If this is the first session, then this is set to 1.</li>\n",
    "    <li><b>visitStartTime</b> - The timestamp (expressed as POSIX time).</li>\n",
    "    <li><b>hits</b> -  Provides a record of all page visits.</li>\n",
    "    <li><b>customDimensions</b> - User-level or session-level custom dimensions that are set for a session.\n",
    "    This is a repeated field and has an entry for each dimension that is set.</li>\n",
    "    <li><b>totals</b> - Includes high-level aggregate data.</li>\n",
    "<p>\n",
    "<br>\n",
    "This dataset provided by Google:\n",
    "    <li><b> Source: </b> https://www.kaggle.com/c/malware-classification</li>\n",
    "</p>"
   ]
  },
  {
   "cell_type": "markdown",
   "metadata": {},
   "source": [
    "<h3>What am I predicting?</h3>\n",
    "<p>PredictedLogRevenue each of these fullVisitorIds for the timeframe of December 1st 2018 to January 31st 2019.</p>"
   ]
  },
  {
   "cell_type": "markdown",
   "metadata": {},
   "source": [
    "<h3>Type of Machine learning problem:</h3>\n",
    "<p><li>To predict the logRevenue, hence this is a regression problem</li>\n",
    "    <li>Minimize the root mean square error</li><p>"
   ]
  },
  {
   "cell_type": "markdown",
   "metadata": {},
   "source": [
    "<h3>Performance Matrix:</h3>"
   ]
  },
  {
   "cell_type": "markdown",
   "metadata": {},
   "source": [
    "Source: https://www.kaggle.com/c/ga-customer-revenue-prediction/overview/evaluation\n",
    "\n",
    "Metric(s): \n",
    "* RMSE (Root Mean Squared Error)\n",
    "<img src=\"rmse.png\">"
   ]
  },
  {
   "cell_type": "markdown",
   "metadata": {},
   "source": [
    "<h3> References:</h3>"
   ]
  },
  {
   "cell_type": "code",
   "execution_count": null,
   "metadata": {},
   "outputs": [],
   "source": []
  }
 ],
 "metadata": {
  "kernelspec": {
   "display_name": "Python 3",
   "language": "python",
   "name": "python3"
  },
  "language_info": {
   "codemirror_mode": {
    "name": "ipython",
    "version": 3
   },
   "file_extension": ".py",
   "mimetype": "text/x-python",
   "name": "python",
   "nbconvert_exporter": "python",
   "pygments_lexer": "ipython3",
   "version": "3.6.9"
  }
 },
 "nbformat": 4,
 "nbformat_minor": 2
}
