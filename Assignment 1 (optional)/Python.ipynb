{
 "cells": [
  {
   "cell_type": "code",
   "execution_count": 1,
   "metadata": {},
   "outputs": [
    {
     "name": "stdout",
     "output_type": "stream",
     "text": [
      "Input a number : 14\n",
      " 14 X 1 = 14\n",
      " 14 X 2 = 28\n",
      " 14 X 3 = 42\n",
      " 14 X 4 = 56\n",
      " 14 X 5 = 70\n",
      " 14 X 6 = 84\n",
      " 14 X 7 = 98\n",
      " 14 X 8 = 112\n",
      " 14 X 9 = 126\n",
      " 14 X 10 = 140\n"
     ]
    }
   ],
   "source": [
    "#1Write a function that inputs a number and prints the multiplication table of that number\n",
    "\n",
    "num = int(input(\"Input a number : \"))\n",
    "\n",
    "for i in range(1,11): \n",
    "    print(\" {} X {} = {}\".format(num,i,num*i))\n",
    "    "
   ]
  },
  {
   "cell_type": "code",
   "execution_count": 1,
   "metadata": {},
   "outputs": [
    {
     "name": "stdout",
     "output_type": "stream",
     "text": [
      "Twin Pair : 3 and 5 \n",
      "Twin Pair : 5 and 7 \n",
      "Twin Pair : 11 and 13 \n",
      "Twin Pair : 17 and 19 \n",
      "Twin Pair : 29 and 31 \n",
      "Twin Pair : 41 and 43 \n",
      "Twin Pair : 59 and 61 \n",
      "Twin Pair : 71 and 73 \n",
      "Twin Pair : 101 and 103 \n",
      "Twin Pair : 107 and 109 \n",
      "Twin Pair : 137 and 139 \n",
      "Twin Pair : 149 and 151 \n",
      "Twin Pair : 179 and 181 \n",
      "Twin Pair : 191 and 193 \n",
      "Twin Pair : 197 and 199 \n",
      "Twin Pair : 227 and 229 \n",
      "Twin Pair : 239 and 241 \n",
      "Twin Pair : 269 and 271 \n",
      "Twin Pair : 281 and 283 \n",
      "Twin Pair : 311 and 313 \n",
      "Twin Pair : 347 and 349 \n",
      "Twin Pair : 419 and 421 \n",
      "Twin Pair : 431 and 433 \n",
      "Twin Pair : 461 and 463 \n",
      "Twin Pair : 521 and 523 \n",
      "Twin Pair : 569 and 571 \n",
      "Twin Pair : 599 and 601 \n",
      "Twin Pair : 617 and 619 \n",
      "Twin Pair : 641 and 643 \n",
      "Twin Pair : 659 and 661 \n",
      "Twin Pair : 809 and 811 \n",
      "Twin Pair : 821 and 823 \n",
      "Twin Pair : 827 and 829 \n",
      "Twin Pair : 857 and 859 \n",
      "Twin Pair : 881 and 883 \n"
     ]
    }
   ],
   "source": [
    "#2 printing twin primes <1000\n",
    "\n",
    "import sympy #sympy package has computation libraries and mathematical functions like isprime()..\n",
    "list1=[]\n",
    "def Twin_prime():\n",
    "    \n",
    "    '''This functions checks whether the number is prime or not and performs bubble searching on the list of\n",
    "    primes to find the twin primes'''\n",
    "    \n",
    "    for var in range(1000):\n",
    "        if(var%2 != 0):\n",
    "            if(sympy.isprime(var)==True):\n",
    "                list1.append(var)\n",
    "               \n",
    "    for i in range(0,(len(list1))):\n",
    "        for j in range(i+1,(len(list1))):\n",
    "            if(list1[i]+2==list1[j]):\n",
    "                print(\"Twin Pair : {} and {} \" .format(list1[i],list1[j]))\n",
    "                \n",
    "################################################################################################################                \n",
    "if __name__ == '__main__':\n",
    "    Twin_prime()"
   ]
  },
  {
   "cell_type": "code",
   "execution_count": 3,
   "metadata": {},
   "outputs": [
    {
     "name": "stdout",
     "output_type": "stream",
     "text": [
      "Enter a number : 56\n",
      "[2, 2, 2, 7]\n"
     ]
    }
   ],
   "source": [
    "#3 Write a program to find out the prime factors of a number.\n",
    "\n",
    "num = int(input(\"Enter a number : \"))\n",
    "list = []\n",
    "for i in range(2,num+1):\n",
    "    while(num%i==0):\n",
    "            list.append(i)\n",
    "            num = num/i\n",
    "            if(num%i==0):\n",
    "                continue\n",
    "            else:\n",
    "                i=i+1\n",
    "print(list)"
   ]
  },
  {
   "cell_type": "code",
   "execution_count": 4,
   "metadata": {},
   "outputs": [
    {
     "name": "stdout",
     "output_type": "stream",
     "text": [
      "Total no. of objects : 9\n",
      "Total no. objects taken at a time : 3\n",
      "Permutation :  504.0\n",
      "Combination :  84.0\n"
     ]
    }
   ],
   "source": [
    "#4 Write a program to implement these formulae of permutations and combinations.\n",
    "\n",
    "def num_fac(num):\n",
    "    \n",
    "    '''This function computes the factorial of the number by recursivly calling itself till the conditions gets\n",
    "    satisfied and then returns the factorial of the number'''\n",
    "    \n",
    "    if num == 0 or num == 1:\n",
    "        return 1\n",
    "    elif (num>1):\n",
    "        fac = num* num_fac(num-1) \n",
    "        return fac\n",
    "    \n",
    "n = int(input(\"Total no. of objects : \"))\n",
    "r = int(input(\"Total no. objects taken at a time : \"))\n",
    "    \n",
    "n_fac = num_fac(n)\n",
    "nr_fac = num_fac(n-r)\n",
    "r_fac = num_fac(r)\n",
    "\n",
    "permutation = n_fac/nr_fac\n",
    "combination = permutation/r_fac\n",
    "\n",
    "print(\"Permutation : \", permutation)\n",
    "print(\"Combination : \", combination)"
   ]
  },
  {
   "cell_type": "code",
   "execution_count": 5,
   "metadata": {},
   "outputs": [
    {
     "name": "stdout",
     "output_type": "stream",
     "text": [
      "Enter the number : 15\n",
      "[1, 1, 1, 1]\n"
     ]
    }
   ],
   "source": [
    "#5 Decimal to Binary Conversion\n",
    "\n",
    "num = int(input(\"Enter the number : \"))\n",
    "\n",
    "list=[]\n",
    "while (num>1):\n",
    "    i = int(num%2)\n",
    "    list.append(i)\n",
    "    num = num/2\n",
    "    if(num==1):\n",
    "        list.append(1)\n",
    " \n",
    "    \n",
    "list.reverse()\n",
    "print(list)"
   ]
  },
  {
   "cell_type": "code",
   "execution_count": 6,
   "metadata": {},
   "outputs": [
    {
     "name": "stdout",
     "output_type": "stream",
     "text": [
      "Input the number : 371\n",
      "371\n",
      "This is an Armstrong number\n"
     ]
    }
   ],
   "source": [
    "#6 to print Armstrong numbers and to find whether is an Armstrong number\n",
    "def cubesum(n):\n",
    "    '''This functions returns the sum of the cubes of each digit of a number and calls PrintArmstrong()'''\n",
    "    temp = int(n)  \n",
    "    sum = 0\n",
    "    n = [int(i) for i in str(n)]     \n",
    "    for i in range(len(n)):\n",
    "        sum = sum + (n[i]**3)\n",
    "    print(sum)\n",
    "    PrintArmstrong(sum,temp)\n",
    "    \n",
    "########################################################################################################################    \n",
    "def PrintArmstrong(sum,temp):\n",
    "    '''This function checks whether the number is Armstrong, returns true or false accordingly'''\n",
    "    s = sum\n",
    "    number = temp\n",
    "    if(number==s): \n",
    "            IsArmstrong(True)\n",
    "    else:\n",
    "            IsArmstrong(False)\n",
    "            \n",
    "#########################################################################################################################            \n",
    "def IsArmstrong(Bool):\n",
    "    '''This function prints the Statment whether the number is armstrong number or not'''\n",
    "    if (Bool==True):\n",
    "        print(\"This is an Armstrong number\")\n",
    "    else:\n",
    "         print(\"This is not an Armstrong number\")\n",
    "            \n",
    "##########################################################################################################################    \n",
    "if __name__ == '__main__':\n",
    "    n = input(\"Input the number : \")\n",
    "    cubesum(n)"
   ]
  },
  {
   "cell_type": "code",
   "execution_count": 7,
   "metadata": {},
   "outputs": [
    {
     "name": "stdout",
     "output_type": "stream",
     "text": [
      "Enter a number :871\n",
      "Product of digits :  56\n"
     ]
    }
   ],
   "source": [
    "#7 Write a function prodDigits() that inputs a number and returns the product of digits of that number.\n",
    "\n",
    "def prodDigits():\n",
    "    '''This function evaluates the product of the digits of a number'''\n",
    "    prod = 1\n",
    "    n = input(\"Enter a number :\")\n",
    "    n = [int(i) for i in str(n)] \n",
    "         \n",
    "    for i in range(len(n)):\n",
    "         prod = prod*n[i]\n",
    "         \n",
    "    return int(prod)\n",
    "\n",
    "############################################################################################################################\n",
    "if __name__ == '__main__':\n",
    "    product = prodDigits()\n",
    "    print(\"Product of digits : \",product)"
   ]
  },
  {
   "cell_type": "code",
   "execution_count": 1,
   "metadata": {},
   "outputs": [
    {
     "name": "stdout",
     "output_type": "stream",
     "text": [
      "Enter a number :341\n",
      "MDR :  2\n",
      "Mpersistence : 2\n"
     ]
    }
   ],
   "source": [
    "#8 Program to find multiplicative digital root and multiplicative persistence respectively\n",
    "count = 0\n",
    "def MDR(n):\n",
    "    '''This function evaluates the product of the digits of a number'''\n",
    "    prod = 1\n",
    "    \n",
    "    n = [int(i) for i in str(n)] \n",
    "         \n",
    "    for i in range(len(n)):\n",
    "         prod = prod*n[i]\n",
    "         \n",
    "    return int(prod)\n",
    "\n",
    "###########################################################################################################\n",
    "def Mpersistence():\n",
    "    '''This function counts the number of iterations'''\n",
    "    return 1\n",
    "\n",
    "###########################################################################################################\n",
    "if __name__ == '__main__':\n",
    "    n = input(\"Enter a number :\")\n",
    "    prod = 1\n",
    "    n = [int(i) for i in str(n)] \n",
    "    for i in range(len(n)):\n",
    "        prod = int(prod*n[i])\n",
    "        count = 1\n",
    "    while(prod>9):\n",
    "        prod = MDR(prod)\n",
    "        count = count + Mpersistence()\n",
    "     \n",
    "    print(\"MDR : \",prod)\n",
    "    print(\"Mpersistence :\",count)\n"
   ]
  },
  {
   "cell_type": "code",
   "execution_count": 9,
   "metadata": {
    "scrolled": true
   },
   "outputs": [
    {
     "name": "stdout",
     "output_type": "stream",
     "text": [
      "Enter the number : 45\n",
      "Proper Divisors :  [1, 3, 5, 9, 15]\n",
      "Sum of Proper divisors 33\n"
     ]
    }
   ],
   "source": [
    "#9 Write a function sumPdivisors() that finds the sum of proper divisors of a number.\n",
    "import functools\n",
    "def sumPdivisor():\n",
    "    '''This function finds the perfect divisors of the number and then finds the sum of the perfect divisors'''\n",
    "    list=[]\n",
    "    num = int(input(\"Enter the number : \"))\n",
    "    for i in range(1,num):\n",
    "        if (num%i==0):\n",
    "            list.append(i)\n",
    "            continue\n",
    "    print(\"Proper Divisors : \",list) \n",
    "    a=functools.reduce(lambda x,y:x+y,list)\n",
    "    print(\"Sum of Proper divisors\",a)\n",
    "    \n",
    "###############################################################################################################    \n",
    "if __name__ == '__main__':  \n",
    "    sumPdivisor()"
   ]
  },
  {
   "cell_type": "code",
   "execution_count": 10,
   "metadata": {},
   "outputs": [
    {
     "name": "stdout",
     "output_type": "stream",
     "text": [
      "Enter the starting number of range :1\n",
      "Enter the ending number of range :30\n",
      "6\n",
      "28\n"
     ]
    }
   ],
   "source": [
    "#10 Write a program to print all the perfect numbers in a given range\n",
    "import functools\n",
    "perfect_nu = []\n",
    "def sumPdivisor():\n",
    "    '''This function computes the sum of the perfect divisors of the number and check wether the number is perfect or not'''\n",
    "    a = int(input(\"Enter the starting number of range :\"))\n",
    "    b = int(input(\"Enter the ending number of range :\"))\n",
    "    \n",
    "    for x in range(a,b+1):\n",
    "        list=[]\n",
    "        sum=0\n",
    "        for i in range(1,x):\n",
    "            if (x%i==0):\n",
    "                list.append(i)\n",
    "                continue\n",
    "            sum=functools.reduce(lambda j,k:j+k,list)\n",
    "        if(sum==x):\n",
    "            print(x)\n",
    "            \n",
    "##############################################################################################################            \n",
    "if __name__ == '__main__': \n",
    "    sumPdivisor()"
   ]
  },
  {
   "cell_type": "code",
   "execution_count": 6,
   "metadata": {},
   "outputs": [
    {
     "name": "stdout",
     "output_type": "stream",
     "text": [
      "Enter the starting number of range :10\n",
      "Enter the ending number of range :300\n",
      "Amicables : [(284, 220), (220, 284)]\n"
     ]
    }
   ],
   "source": [
    "#Write a function to print all the amicable nubers in a range\n",
    "from functools import reduce\n",
    "nlst = []\n",
    "pairs = []\n",
    "x = int(input(\"Enter the starting number of range :\" ))\n",
    "y = int(input(\"Enter the ending number of range :\" ))\n",
    "\n",
    "#############################################################################################################       \n",
    "def checkAmicables(a,b):\n",
    "    if((sumPdivisor(a)==b and sumPdivisor(b)==a) and a!=b):\n",
    "        return True\n",
    "    else:\n",
    "        return False\n",
    "###############################################################################################################\n",
    "def sumPdivisor(n):\n",
    "    list = []\n",
    "    '''This function computes the sum of the perfect divisors of the number and check if\n",
    "       the number is perfect or not'''\n",
    "    for i in range(1, n):\n",
    "        if (n%i == 0):\n",
    "            list.append(i)\n",
    "            continue\n",
    "        \n",
    "    if (len(list)!= 0):\n",
    "        sum = reduce(lambda j,k: j+k, list)\n",
    "        return sum\n",
    "    else: \n",
    "        return 0\n",
    "#############################################################################################################   \n",
    "for i in range(x,y):\n",
    "    nlst.append(i)\n",
    "for i in range(len(nlst)):\n",
    "    b=0\n",
    "    a = sumPdivisor(nlst[i])\n",
    "    b=sumPdivisor(a)\n",
    "    if(checkAmicables(a,b)):\n",
    "        pairs.append((a,b))\n",
    "        \n",
    "print(\"Amicables : {}\".format(pairs))"
   ]
  },
  {
   "cell_type": "code",
   "execution_count": 1,
   "metadata": {},
   "outputs": [
    {
     "name": "stdout",
     "output_type": "stream",
     "text": [
      "1 2 3 4 5 6 7\n",
      "[2, 4, 6]\n"
     ]
    }
   ],
   "source": [
    "#12 Write a program which can filter odd numbers in a list by using filter function\n",
    "lst = [int(x) for x in input().split()]\n",
    " \n",
    "lst2 = list(filter(lambda x: x%2==0, lst))\n",
    "print(lst2)"
   ]
  },
  {
   "cell_type": "code",
   "execution_count": 2,
   "metadata": {},
   "outputs": [
    {
     "name": "stdout",
     "output_type": "stream",
     "text": [
      "1 2 3 4 5 6 7 8\n",
      "[1, 8, 27, 64, 125, 216, 343, 512]\n"
     ]
    }
   ],
   "source": [
    "#13 Write a program which can map() to make a list whose elements are cube of elements in a given list\n",
    "\n",
    "lst = [int(x) for x in input().split()]\n",
    "\n",
    "lst2 = list(map(lambda x: x*x*x, lst))\n",
    "print(lst2)"
   ]
  },
  {
   "cell_type": "code",
   "execution_count": 3,
   "metadata": {},
   "outputs": [
    {
     "name": "stdout",
     "output_type": "stream",
     "text": [
      "1 2 3 4 5 6 7 8 9\n",
      "[8, 64, 216, 512]\n"
     ]
    }
   ],
   "source": [
    "#14 Write a program which can map() and filter() to make a list whose elements are cube of even number in a given list\n",
    "\n",
    "lst = [int(x) for x in input().split()]\n",
    "\n",
    "lst2 = list(map(lambda x: x*x*x, filter(lambda x: x%2==0,lst)))\n",
    "print(lst2)"
   ]
  },
  {
   "cell_type": "code",
   "execution_count": null,
   "metadata": {},
   "outputs": [],
   "source": []
  }
 ],
 "metadata": {
  "kernelspec": {
   "display_name": "Python 3",
   "language": "python",
   "name": "python3"
  },
  "language_info": {
   "codemirror_mode": {
    "name": "ipython",
    "version": 3
   },
   "file_extension": ".py",
   "mimetype": "text/x-python",
   "name": "python",
   "nbconvert_exporter": "python",
   "pygments_lexer": "ipython3",
   "version": "3.6.4"
  }
 },
 "nbformat": 4,
 "nbformat_minor": 2
}
