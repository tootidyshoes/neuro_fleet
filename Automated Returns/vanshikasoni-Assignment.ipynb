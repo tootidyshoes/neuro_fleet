{
 "cells": [
  {
   "cell_type": "code",
   "execution_count": 5,
   "metadata": {
    "colab": {},
    "colab_type": "code",
    "id": "8fdxJNfDtbvq"
   },
   "outputs": [],
   "source": [
    "import pandas as pd\n",
    "from sklearn.feature_extraction.text import CountVectorizer\n",
    "import numpy as np\n",
    "from sklearn.preprocessing import Normalizer\n",
    "from scipy.sparse import hstack\n",
    "import matplotlib.pyplot as plt\n",
    "\n",
    "from sklearn.metrics import f1_score\n",
    "from sklearn.metrics import roc_curve, auc\n",
    "from sklearn.metrics import confusion_matrix\n",
    "\n",
    "import seaborn as sns\n",
    "\n",
    "from xgboost import XGBClassifier\n",
    "from sklearn.linear_model import SGDClassifier\n",
    "from sklearn.calibration import CalibratedClassifierCV\n",
    "from sklearn.model_selection import RandomizedSearchCV\n",
    "from sklearn.linear_model import LogisticRegression"
   ]
  },
  {
   "cell_type": "markdown",
   "metadata": {
    "colab_type": "text",
    "id": "RZTgI1piQ5TW"
   },
   "source": [
    "### Importing data"
   ]
  },
  {
   "cell_type": "code",
   "execution_count": 0,
   "metadata": {
    "colab": {
     "base_uri": "https://localhost:8080/",
     "height": 35
    },
    "colab_type": "code",
    "id": "Aczvjst1wjq3",
    "outputId": "f2466a12-a69a-4520-d9f6-e8ecfc51172a"
   },
   "outputs": [
    {
     "name": "stdout",
     "output_type": "stream",
     "text": [
      "Drive already mounted at gdrive; to attempt to forcibly remount, call drive.mount(\"gdrive\", force_remount=True).\n"
     ]
    }
   ],
   "source": [
    "from google.colab import drive\n",
    "drive.mount('gdrive')"
   ]
  },
  {
   "cell_type": "code",
   "execution_count": 40,
   "metadata": {
    "colab": {},
    "colab_type": "code",
    "id": "2Byd7jXhxBe2"
   },
   "outputs": [],
   "source": [
    "train = pd.read_csv(r'/content/gdrive/My Drive/train.csv')\n",
    "#train = pd.read_csv('train.csv')"
   ]
  },
  {
   "cell_type": "code",
   "execution_count": 41,
   "metadata": {
    "colab": {},
    "colab_type": "code",
    "id": "NH4gSzmoyf4j"
   },
   "outputs": [],
   "source": [
    "test = pd.read_csv(r'/content/gdrive/My Drive/test.csv')\n",
    "#test = pd.read_csv('test.csv')"
   ]
  },
  {
   "cell_type": "code",
   "execution_count": 42,
   "metadata": {
    "colab": {
     "base_uri": "https://localhost:8080/",
     "height": 135
    },
    "colab_type": "code",
    "id": "E54PYBodykrZ",
    "outputId": "a6c8615c-1134-42f4-884d-d4aadc961fbd"
   },
   "outputs": [
    {
     "data": {
      "text/html": [
       "<div>\n",
       "<style scoped>\n",
       "    .dataframe tbody tr th:only-of-type {\n",
       "        vertical-align: middle;\n",
       "    }\n",
       "\n",
       "    .dataframe tbody tr th {\n",
       "        vertical-align: top;\n",
       "    }\n",
       "\n",
       "    .dataframe thead th {\n",
       "        text-align: right;\n",
       "    }\n",
       "</style>\n",
       "<table border=\"1\" class=\"dataframe\">\n",
       "  <thead>\n",
       "    <tr style=\"text-align: right;\">\n",
       "      <th></th>\n",
       "      <th>yrs</th>\n",
       "      <th>empl</th>\n",
       "      <th>spouse</th>\n",
       "      <th>edstr</th>\n",
       "      <th>broke</th>\n",
       "      <th>bal</th>\n",
       "      <th>hm</th>\n",
       "      <th>loan</th>\n",
       "      <th>ctype</th>\n",
       "      <th>day</th>\n",
       "      <th>month</th>\n",
       "      <th>durr</th>\n",
       "      <th>cpgn</th>\n",
       "      <th>days</th>\n",
       "      <th>prev</th>\n",
       "      <th>prev_com</th>\n",
       "      <th>target</th>\n",
       "    </tr>\n",
       "  </thead>\n",
       "  <tbody>\n",
       "    <tr>\n",
       "      <th>0</th>\n",
       "      <td>53</td>\n",
       "      <td>empl_1</td>\n",
       "      <td>1</td>\n",
       "      <td>primary</td>\n",
       "      <td>no</td>\n",
       "      <td>880</td>\n",
       "      <td>no</td>\n",
       "      <td>no</td>\n",
       "      <td>c_0</td>\n",
       "      <td>31</td>\n",
       "      <td>jul</td>\n",
       "      <td>207</td>\n",
       "      <td>4</td>\n",
       "      <td>-1</td>\n",
       "      <td>0</td>\n",
       "      <td>unknown</td>\n",
       "      <td>0</td>\n",
       "    </tr>\n",
       "    <tr>\n",
       "      <th>1</th>\n",
       "      <td>52</td>\n",
       "      <td>empl_0</td>\n",
       "      <td>1</td>\n",
       "      <td>secondary</td>\n",
       "      <td>no</td>\n",
       "      <td>979</td>\n",
       "      <td>yes</td>\n",
       "      <td>no</td>\n",
       "      <td>c_0</td>\n",
       "      <td>16</td>\n",
       "      <td>apr</td>\n",
       "      <td>156</td>\n",
       "      <td>1</td>\n",
       "      <td>336</td>\n",
       "      <td>1</td>\n",
       "      <td>other</td>\n",
       "      <td>0</td>\n",
       "    </tr>\n",
       "    <tr>\n",
       "      <th>2</th>\n",
       "      <td>39</td>\n",
       "      <td>empl_9</td>\n",
       "      <td>2</td>\n",
       "      <td>tertiary</td>\n",
       "      <td>no</td>\n",
       "      <td>285</td>\n",
       "      <td>no</td>\n",
       "      <td>no</td>\n",
       "      <td>c_0</td>\n",
       "      <td>19</td>\n",
       "      <td>aug</td>\n",
       "      <td>284</td>\n",
       "      <td>2</td>\n",
       "      <td>-1</td>\n",
       "      <td>0</td>\n",
       "      <td>unknown</td>\n",
       "      <td>0</td>\n",
       "    </tr>\n",
       "  </tbody>\n",
       "</table>\n",
       "</div>"
      ],
      "text/plain": [
       "   yrs    empl  spouse      edstr broke  bal   hm loan ctype  day month  durr  \\\n",
       "0   53  empl_1       1    primary    no  880   no   no   c_0   31   jul   207   \n",
       "1   52  empl_0       1  secondary    no  979  yes   no   c_0   16   apr   156   \n",
       "2   39  empl_9       2   tertiary    no  285   no   no   c_0   19   aug   284   \n",
       "\n",
       "   cpgn  days  prev prev_com  target  \n",
       "0     4    -1     0  unknown       0  \n",
       "1     1   336     1    other       0  \n",
       "2     2    -1     0  unknown       0  "
      ]
     },
     "execution_count": 42,
     "metadata": {},
     "output_type": "execute_result"
    }
   ],
   "source": [
    "train.head(3)"
   ]
  },
  {
   "cell_type": "code",
   "execution_count": 43,
   "metadata": {
    "colab": {
     "base_uri": "https://localhost:8080/",
     "height": 135
    },
    "colab_type": "code",
    "id": "J2QLHVb8y_Qe",
    "outputId": "444a9637-469a-49c0-dae6-af131380d629"
   },
   "outputs": [
    {
     "data": {
      "text/html": [
       "<div>\n",
       "<style scoped>\n",
       "    .dataframe tbody tr th:only-of-type {\n",
       "        vertical-align: middle;\n",
       "    }\n",
       "\n",
       "    .dataframe tbody tr th {\n",
       "        vertical-align: top;\n",
       "    }\n",
       "\n",
       "    .dataframe thead th {\n",
       "        text-align: right;\n",
       "    }\n",
       "</style>\n",
       "<table border=\"1\" class=\"dataframe\">\n",
       "  <thead>\n",
       "    <tr style=\"text-align: right;\">\n",
       "      <th></th>\n",
       "      <th>yrs</th>\n",
       "      <th>empl</th>\n",
       "      <th>spouse</th>\n",
       "      <th>edstr</th>\n",
       "      <th>broke</th>\n",
       "      <th>bal</th>\n",
       "      <th>hm</th>\n",
       "      <th>loan</th>\n",
       "      <th>ctype</th>\n",
       "      <th>day</th>\n",
       "      <th>month</th>\n",
       "      <th>durr</th>\n",
       "      <th>cpgn</th>\n",
       "      <th>days</th>\n",
       "      <th>prev</th>\n",
       "      <th>prev_com</th>\n",
       "      <th>target</th>\n",
       "    </tr>\n",
       "  </thead>\n",
       "  <tbody>\n",
       "    <tr>\n",
       "      <th>0</th>\n",
       "      <td>75</td>\n",
       "      <td>empl_5</td>\n",
       "      <td>1</td>\n",
       "      <td>primary</td>\n",
       "      <td>no</td>\n",
       "      <td>1765</td>\n",
       "      <td>no</td>\n",
       "      <td>no</td>\n",
       "      <td>c_1</td>\n",
       "      <td>11</td>\n",
       "      <td>mar</td>\n",
       "      <td>282</td>\n",
       "      <td>2</td>\n",
       "      <td>181</td>\n",
       "      <td>2</td>\n",
       "      <td>success</td>\n",
       "      <td>0</td>\n",
       "    </tr>\n",
       "    <tr>\n",
       "      <th>1</th>\n",
       "      <td>36</td>\n",
       "      <td>empl_0</td>\n",
       "      <td>2</td>\n",
       "      <td>secondary</td>\n",
       "      <td>no</td>\n",
       "      <td>98</td>\n",
       "      <td>yes</td>\n",
       "      <td>no</td>\n",
       "      <td>c_2</td>\n",
       "      <td>21</td>\n",
       "      <td>may</td>\n",
       "      <td>68</td>\n",
       "      <td>1</td>\n",
       "      <td>-1</td>\n",
       "      <td>0</td>\n",
       "      <td>unknown</td>\n",
       "      <td>0</td>\n",
       "    </tr>\n",
       "    <tr>\n",
       "      <th>2</th>\n",
       "      <td>53</td>\n",
       "      <td>empl_5</td>\n",
       "      <td>0</td>\n",
       "      <td>tertiary</td>\n",
       "      <td>no</td>\n",
       "      <td>599</td>\n",
       "      <td>yes</td>\n",
       "      <td>no</td>\n",
       "      <td>c_2</td>\n",
       "      <td>13</td>\n",
       "      <td>may</td>\n",
       "      <td>322</td>\n",
       "      <td>3</td>\n",
       "      <td>-1</td>\n",
       "      <td>0</td>\n",
       "      <td>unknown</td>\n",
       "      <td>0</td>\n",
       "    </tr>\n",
       "  </tbody>\n",
       "</table>\n",
       "</div>"
      ],
      "text/plain": [
       "   yrs    empl  spouse      edstr broke   bal   hm loan ctype  day month  \\\n",
       "0   75  empl_5       1    primary    no  1765   no   no   c_1   11   mar   \n",
       "1   36  empl_0       2  secondary    no    98  yes   no   c_2   21   may   \n",
       "2   53  empl_5       0   tertiary    no   599  yes   no   c_2   13   may   \n",
       "\n",
       "   durr  cpgn  days  prev prev_com  target  \n",
       "0   282     2   181     2  success       0  \n",
       "1    68     1    -1     0  unknown       0  \n",
       "2   322     3    -1     0  unknown       0  "
      ]
     },
     "execution_count": 43,
     "metadata": {},
     "output_type": "execute_result"
    }
   ],
   "source": [
    "test.head(3)"
   ]
  },
  {
   "cell_type": "markdown",
   "metadata": {
    "colab_type": "text",
    "id": "Xp8n8OpVzZf6"
   },
   "source": [
    "Is there any missing data?"
   ]
  },
  {
   "cell_type": "code",
   "execution_count": 44,
   "metadata": {
    "colab": {
     "base_uri": "https://localhost:8080/",
     "height": 337
    },
    "colab_type": "code",
    "id": "KCdA6FLe0EGK",
    "outputId": "cefdb110-9835-4b44-9ea1-36c6e5e94bee"
   },
   "outputs": [
    {
     "data": {
      "text/plain": [
       "yrs         0\n",
       "empl        0\n",
       "spouse      0\n",
       "edstr       0\n",
       "broke       0\n",
       "bal         0\n",
       "hm          0\n",
       "loan        0\n",
       "ctype       0\n",
       "day         0\n",
       "month       0\n",
       "durr        0\n",
       "cpgn        0\n",
       "days        0\n",
       "prev        0\n",
       "prev_com    0\n",
       "target      0\n",
       "dtype: int64"
      ]
     },
     "execution_count": 44,
     "metadata": {},
     "output_type": "execute_result"
    }
   ],
   "source": [
    "#Total number of null values in each column\n",
    "train.isnull().sum(axis = 0)"
   ]
  },
  {
   "cell_type": "markdown",
   "metadata": {
    "colab_type": "text",
    "id": "XxDgNBTs_tgl"
   },
   "source": [
    "## Data Preprocessing"
   ]
  },
  {
   "cell_type": "markdown",
   "metadata": {
    "colab_type": "text",
    "id": "6snYmRGm1FiR"
   },
   "source": [
    "### Encoding categorical data: empl, edstr, broke, hm, loan, ctype,day, month, durr, prev_com"
   ]
  },
  {
   "cell_type": "code",
   "execution_count": 45,
   "metadata": {
    "colab": {
     "base_uri": "https://localhost:8080/",
     "height": 70
    },
    "colab_type": "code",
    "id": "N0kLz9Ic1Tjx",
    "outputId": "adf9fb8e-272a-42d1-9791-f6ce5f4b5097"
   },
   "outputs": [
    {
     "name": "stdout",
     "output_type": "stream",
     "text": [
      "After verctorizing\n",
      "(36168, 12) (9043, 12)\n",
      "['empl_0', 'empl_1', 'empl_10', 'empl_11', 'empl_2', 'empl_3', 'empl_4', 'empl_5', 'empl_6', 'empl_7', 'empl_8', 'empl_9']\n"
     ]
    }
   ],
   "source": [
    "vectorizer = CountVectorizer(binary=True)\n",
    "vectorizer.fit(train['empl'].values)\n",
    "\n",
    "train_empl = vectorizer.transform(train['empl'].values)\n",
    "test_empl = vectorizer.transform(test['empl'].values)\n",
    "\n",
    "print(\"After verctorizing\")\n",
    "print(train_empl.shape, test_empl.shape)\n",
    "print(vectorizer.get_feature_names())"
   ]
  },
  {
   "cell_type": "code",
   "execution_count": 46,
   "metadata": {
    "colab": {
     "base_uri": "https://localhost:8080/",
     "height": 70
    },
    "colab_type": "code",
    "id": "_HqQKJ9s0p5u",
    "outputId": "7540295c-829e-4c2d-be4a-2d73d650539a"
   },
   "outputs": [
    {
     "name": "stdout",
     "output_type": "stream",
     "text": [
      "After verctorizing\n",
      "(36168, 4) (9043, 4)\n",
      "['primary', 'secondary', 'tertiary', 'unknown']\n"
     ]
    }
   ],
   "source": [
    "vectorizer = CountVectorizer(binary=True)\n",
    "vectorizer.fit(train['edstr'].values)\n",
    "\n",
    "train_edstr = vectorizer.transform(train['edstr'].values)\n",
    "test_edstr = vectorizer.transform(test['edstr'].values)\n",
    "\n",
    "print(\"After verctorizing\")\n",
    "print(train_edstr.shape, test_edstr.shape)\n",
    "print(vectorizer.get_feature_names())"
   ]
  },
  {
   "cell_type": "code",
   "execution_count": 47,
   "metadata": {
    "colab": {
     "base_uri": "https://localhost:8080/",
     "height": 70
    },
    "colab_type": "code",
    "id": "ZxL1j1DX3DPs",
    "outputId": "17d91db5-cb88-4324-b1cb-fd857f92553d"
   },
   "outputs": [
    {
     "name": "stdout",
     "output_type": "stream",
     "text": [
      "After verctorizing\n",
      "(36168, 2) (9043, 2)\n",
      "['no', 'yes']\n"
     ]
    }
   ],
   "source": [
    "vectorizer = CountVectorizer(binary=True)\n",
    "vectorizer.fit(train['broke'].values)\n",
    "\n",
    "train_broke = vectorizer.transform(train['broke'].values)\n",
    "test_broke = vectorizer.transform(test['broke'].values)\n",
    "\n",
    "print(\"After verctorizing\")\n",
    "print(train_broke.shape, test_broke.shape)\n",
    "print(vectorizer.get_feature_names())"
   ]
  },
  {
   "cell_type": "code",
   "execution_count": 48,
   "metadata": {
    "colab": {
     "base_uri": "https://localhost:8080/",
     "height": 70
    },
    "colab_type": "code",
    "id": "iiCL7rQJ3ZDX",
    "outputId": "812c1aa7-150e-4ef6-f69f-3c873c45dd8d"
   },
   "outputs": [
    {
     "name": "stdout",
     "output_type": "stream",
     "text": [
      "After verctorizing\n",
      "(36168, 2) (9043, 2)\n",
      "['no', 'yes']\n"
     ]
    }
   ],
   "source": [
    "vectorizer = CountVectorizer(binary=True)\n",
    "vectorizer.fit(train['hm'].values)\n",
    "\n",
    "train_hm = vectorizer.transform(train['hm'].values)\n",
    "test_hm = vectorizer.transform(test['hm'].values)\n",
    "\n",
    "print(\"After verctorizing\")\n",
    "print(train_hm.shape, test_hm.shape)\n",
    "print(vectorizer.get_feature_names())"
   ]
  },
  {
   "cell_type": "code",
   "execution_count": 49,
   "metadata": {
    "colab": {
     "base_uri": "https://localhost:8080/",
     "height": 70
    },
    "colab_type": "code",
    "id": "f337u3Ld3j_A",
    "outputId": "9a346eed-32cc-49e6-a828-d1db08d6abd5"
   },
   "outputs": [
    {
     "name": "stdout",
     "output_type": "stream",
     "text": [
      "After verctorizing\n",
      "(36168, 2) (9043, 2)\n",
      "['no', 'yes']\n"
     ]
    }
   ],
   "source": [
    "vectorizer = CountVectorizer(binary=True)\n",
    "vectorizer.fit(train['loan'].values)\n",
    "\n",
    "train_loan = vectorizer.transform(train['loan'].values)\n",
    "test_loan = vectorizer.transform(test['loan'].values)\n",
    "\n",
    "print(\"After verctorizing\")\n",
    "print(train_loan.shape, test_loan.shape)\n",
    "print(vectorizer.get_feature_names())"
   ]
  },
  {
   "cell_type": "code",
   "execution_count": 50,
   "metadata": {
    "colab": {
     "base_uri": "https://localhost:8080/",
     "height": 70
    },
    "colab_type": "code",
    "id": "HGvHSBX23yl1",
    "outputId": "2be3cd5a-323e-41cc-ee50-888daea01805"
   },
   "outputs": [
    {
     "name": "stdout",
     "output_type": "stream",
     "text": [
      "After verctorizing\n",
      "(36168, 3) (9043, 3)\n",
      "['c_0', 'c_1', 'c_2']\n"
     ]
    }
   ],
   "source": [
    "vectorizer = CountVectorizer(binary=True)\n",
    "vectorizer.fit(train['ctype'].values)\n",
    "\n",
    "train_ctype = vectorizer.transform(train['ctype'].values)\n",
    "test_ctype = vectorizer.transform(test['ctype'].values)\n",
    "\n",
    "print(\"After verctorizing\")\n",
    "print(train_ctype.shape, test_ctype.shape)\n",
    "print(vectorizer.get_feature_names())"
   ]
  },
  {
   "cell_type": "code",
   "execution_count": 51,
   "metadata": {
    "colab": {
     "base_uri": "https://localhost:8080/",
     "height": 124
    },
    "colab_type": "code",
    "id": "sCMbydSb7lsB",
    "outputId": "dbdcf9d4-4690-4d59-d3f1-bc2fbe7ece2c"
   },
   "outputs": [
    {
     "name": "stdout",
     "output_type": "stream",
     "text": [
      "After encoding\n",
      "(36168, 31) (9043, 31)\n",
      "['x0_1' 'x0_2' 'x0_3' 'x0_4' 'x0_5' 'x0_6' 'x0_7' 'x0_8' 'x0_9' 'x0_10'\n",
      " 'x0_11' 'x0_12' 'x0_13' 'x0_14' 'x0_15' 'x0_16' 'x0_17' 'x0_18' 'x0_19'\n",
      " 'x0_20' 'x0_21' 'x0_22' 'x0_23' 'x0_24' 'x0_25' 'x0_26' 'x0_27' 'x0_28'\n",
      " 'x0_29' 'x0_30' 'x0_31']\n"
     ]
    }
   ],
   "source": [
    "from sklearn.preprocessing import OneHotEncoder \n",
    "  \n",
    "# creating one hot encoder object with categorical feature 0 \n",
    "# indicating the first column \n",
    "onehotencoder = OneHotEncoder() \n",
    "train_day= train['day'].values\n",
    "train_day = train_day.reshape(-1,1)\n",
    "\n",
    "test_day= test['day'].values\n",
    "test_day = test_day.reshape(-1,1)\n",
    "\n",
    "train_day = onehotencoder.fit_transform(train_day).toarray()\n",
    "test_day = onehotencoder.transform(test_day).toarray()\n",
    "\n",
    "print(\"After encoding\")\n",
    "print(train_day.shape, test_day.shape)\n",
    "print(onehotencoder.get_feature_names())"
   ]
  },
  {
   "cell_type": "code",
   "execution_count": 52,
   "metadata": {
    "colab": {
     "base_uri": "https://localhost:8080/",
     "height": 70
    },
    "colab_type": "code",
    "id": "M685VjkR4mJ0",
    "outputId": "6b61f893-11c2-407f-f2cc-157bcbd7bd53"
   },
   "outputs": [
    {
     "name": "stdout",
     "output_type": "stream",
     "text": [
      "After verctorizing\n",
      "(36168, 12) (9043, 12)\n",
      "['apr', 'aug', 'dec', 'feb', 'jan', 'jul', 'jun', 'mar', 'may', 'nov', 'oct', 'sep']\n"
     ]
    }
   ],
   "source": [
    "vectorizer = CountVectorizer(binary=True)\n",
    "vectorizer.fit(train['month'].values)\n",
    "\n",
    "train_month = vectorizer.transform(train['month'].values)\n",
    "test_month = vectorizer.transform(test['month'].values)\n",
    "\n",
    "print(\"After verctorizing\")\n",
    "print(train_month.shape, test_month.shape)\n",
    "print(vectorizer.get_feature_names())"
   ]
  },
  {
   "cell_type": "code",
   "execution_count": 53,
   "metadata": {
    "colab": {
     "base_uri": "https://localhost:8080/",
     "height": 70
    },
    "colab_type": "code",
    "id": "ANgI5qNJ6uW4",
    "outputId": "3ba3248c-abd6-42aa-8a27-adb81f475a66"
   },
   "outputs": [
    {
     "name": "stdout",
     "output_type": "stream",
     "text": [
      "After verctorizing\n",
      "(36168, 4) (9043, 4)\n",
      "['failure', 'other', 'success', 'unknown']\n"
     ]
    }
   ],
   "source": [
    "vectorizer = CountVectorizer(binary=True)\n",
    "vectorizer.fit(train['prev_com'].values)\n",
    "\n",
    "train_pcom = vectorizer.transform(train['prev_com'].values)\n",
    "test_pcom = vectorizer.transform(test['prev_com'].values)\n",
    "\n",
    "print(\"After verctorizing\")\n",
    "print(train_pcom.shape, test_pcom.shape)\n",
    "print(vectorizer.get_feature_names())"
   ]
  },
  {
   "cell_type": "markdown",
   "metadata": {
    "colab_type": "text",
    "id": "9RPLl_od9oSO"
   },
   "source": [
    "### Scaling Numerical values"
   ]
  },
  {
   "cell_type": "code",
   "execution_count": 54,
   "metadata": {
    "colab": {},
    "colab_type": "code",
    "id": "2joQVlHp9iXw"
   },
   "outputs": [],
   "source": [
    "scalar = Normalizer()\n",
    "scalar.fit(train['yrs'].values.reshape(-1,1))\n",
    "\n",
    "train_yrs = scalar.transform(train['yrs'].values.reshape(-1, 1))\n",
    "test_yrs = scalar.transform(test['yrs'].values.reshape(-1, 1))"
   ]
  },
  {
   "cell_type": "code",
   "execution_count": 55,
   "metadata": {
    "colab": {},
    "colab_type": "code",
    "id": "bLhNxdpQ-nBt"
   },
   "outputs": [],
   "source": [
    "scalar = Normalizer()\n",
    "scalar.fit(train['bal'].values.reshape(-1,1))\n",
    "\n",
    "train_bal = scalar.transform(train['bal'].values.reshape(-1, 1))\n",
    "test_bal = scalar.transform(test['bal'].values.reshape(-1, 1))"
   ]
  },
  {
   "cell_type": "code",
   "execution_count": 56,
   "metadata": {
    "colab": {},
    "colab_type": "code",
    "id": "mzYmzOwP-3us"
   },
   "outputs": [],
   "source": [
    "train_spouse = train['spouse'].values.reshape(-1, 1)\n",
    "test_spouse = test['spouse'].values.reshape(-1, 1)"
   ]
  },
  {
   "cell_type": "code",
   "execution_count": 57,
   "metadata": {
    "colab": {},
    "colab_type": "code",
    "id": "U0D8jKOL_IjQ"
   },
   "outputs": [],
   "source": [
    "scalar = Normalizer()\n",
    "scalar.fit(train['durr'].values.reshape(-1,1)) \n",
    "\n",
    "train_durr = scalar.transform(train['durr'].values.reshape(-1, 1))\n",
    "test_durr = scalar.transform(test['durr'].values.reshape(-1, 1))"
   ]
  },
  {
   "cell_type": "code",
   "execution_count": 58,
   "metadata": {
    "colab": {},
    "colab_type": "code",
    "id": "wMggo-4z_Vyj"
   },
   "outputs": [],
   "source": [
    "scalar = Normalizer()\n",
    "scalar.fit(train['cpgn'].values.reshape(-1,1)) \n",
    "\n",
    "train_cpgn = scalar.transform(train['cpgn'].values.reshape(-1, 1))\n",
    "test_cpgn = scalar.transform(test['cpgn'].values.reshape(-1, 1))"
   ]
  },
  {
   "cell_type": "code",
   "execution_count": 59,
   "metadata": {
    "colab": {},
    "colab_type": "code",
    "id": "2xrxgaA1_gJo"
   },
   "outputs": [],
   "source": [
    "scalar = Normalizer()\n",
    "scalar.fit(train['days'].values.reshape(-1,1)) \n",
    "\n",
    "train_days = scalar.transform(train['days'].values.reshape(-1, 1))\n",
    "test_days = scalar.transform(test['days'].values.reshape(-1, 1))"
   ]
  },
  {
   "cell_type": "code",
   "execution_count": 60,
   "metadata": {
    "colab": {},
    "colab_type": "code",
    "id": "5MVsJCX2BEUS"
   },
   "outputs": [],
   "source": [
    "train_prev = train['prev'].values.reshape(-1, 1)\n",
    "test_prev = test['prev'].values.reshape(-1, 1)"
   ]
  },
  {
   "cell_type": "markdown",
   "metadata": {
    "colab_type": "text",
    "id": "MzIMaJS9_21M"
   },
   "source": [
    "### Hstacking the features"
   ]
  },
  {
   "cell_type": "code",
   "execution_count": 125,
   "metadata": {
    "colab": {
     "base_uri": "https://localhost:8080/",
     "height": 35
    },
    "colab_type": "code",
    "id": "RuSqrXW-_prb",
    "outputId": "ce7bc981-cc48-4b3f-f71c-75b9b38b1446"
   },
   "outputs": [
    {
     "data": {
      "text/plain": [
       "(36168,)"
      ]
     },
     "execution_count": 125,
     "metadata": {},
     "output_type": "execute_result"
    }
   ],
   "source": [
    "y_train = train['target']\n",
    "y_train.shape"
   ]
  },
  {
   "cell_type": "code",
   "execution_count": 126,
   "metadata": {
    "colab": {
     "base_uri": "https://localhost:8080/",
     "height": 35
    },
    "colab_type": "code",
    "id": "QrWpXp2iGhPX",
    "outputId": "fa47ec1a-aa3d-489a-f5bf-4da4245da256"
   },
   "outputs": [
    {
     "data": {
      "text/plain": [
       "(9043,)"
      ]
     },
     "execution_count": 126,
     "metadata": {},
     "output_type": "execute_result"
    }
   ],
   "source": [
    "y_test = test['target']\n",
    "y_test.shape"
   ]
  },
  {
   "cell_type": "code",
   "execution_count": 127,
   "metadata": {
    "colab": {
     "base_uri": "https://localhost:8080/",
     "height": 35
    },
    "colab_type": "code",
    "id": "bIOptepxDn8u",
    "outputId": "80e8587f-d8bd-48ef-e614-5648aa9f38d9"
   },
   "outputs": [
    {
     "data": {
      "text/plain": [
       "(36168, 79)"
      ]
     },
     "execution_count": 127,
     "metadata": {},
     "output_type": "execute_result"
    }
   ],
   "source": [
    "X_train = hstack((train_yrs,train_empl,train_spouse,train_edstr,train_broke,train_bal,train_hm,train_loan,train_ctype,train_day,train_month,train_durr,train_cpgn,train_days,train_prev,train_pcom))\n",
    "X_train.shape"
   ]
  },
  {
   "cell_type": "code",
   "execution_count": 128,
   "metadata": {
    "colab": {
     "base_uri": "https://localhost:8080/",
     "height": 35
    },
    "colab_type": "code",
    "id": "UiaYhKAeEIaY",
    "outputId": "95eb29ee-919e-40d4-ce44-1b073a77688d"
   },
   "outputs": [
    {
     "data": {
      "text/plain": [
       "(9043, 79)"
      ]
     },
     "execution_count": 128,
     "metadata": {},
     "output_type": "execute_result"
    }
   ],
   "source": [
    "X_test = hstack((test_yrs,test_empl,test_spouse,test_edstr,test_broke,test_bal,test_hm,test_loan,test_ctype,test_day,test_month,test_durr,test_cpgn,test_days,test_prev,test_pcom))\n",
    "X_test.shape"
   ]
  },
  {
   "cell_type": "markdown",
   "metadata": {
    "colab_type": "text",
    "id": "I8tFeYvnEyr9"
   },
   "source": [
    "## Creating Machine learning models and Hyperparameter tuning using RandomsearchCV"
   ]
  },
  {
   "cell_type": "code",
   "execution_count": 65,
   "metadata": {
    "colab": {},
    "colab_type": "code",
    "id": "sphwoIHoJb8_"
   },
   "outputs": [],
   "source": [
    "def find_best_threshold(threshould, fpr, tpr):\n",
    "    t = threshould[np.argmax(tpr*(1-fpr))]\n",
    "    # (tpr*(1-fpr)) will be maximum if your fpr is very low and tpr is very high\n",
    "    print(\"the maximum value of tpr*(1-fpr)\", max(tpr*(1-fpr)), \"for threshold\", np.round(t,3))\n",
    "    return t\n",
    "\n",
    "def predict_with_best_t(proba, threshould):\n",
    "    predictions = []\n",
    "    for i in proba:\n",
    "        if i>=threshould:\n",
    "            predictions.append(1)\n",
    "        else:\n",
    "            predictions.append(0)\n",
    "    return predictions"
   ]
  },
  {
   "cell_type": "markdown",
   "metadata": {
    "colab_type": "text",
    "id": "3rkDB6BmE7_P"
   },
   "source": [
    "### 1 .Logistic regression"
   ]
  },
  {
   "cell_type": "code",
   "execution_count": 0,
   "metadata": {
    "colab": {
     "base_uri": "https://localhost:8080/",
     "height": 1000
    },
    "colab_type": "code",
    "id": "5BSG2TnUFBnZ",
    "outputId": "1171389f-447d-476b-9c1f-d32a3ca26459"
   },
   "outputs": [
    {
     "name": "stdout",
     "output_type": "stream",
     "text": [
      "Fitting 5 folds for each of 10 candidates, totalling 50 fits\n",
      "[CV] alpha=50 ........................................................\n",
      "[CV] ............................ alpha=50, score=0.763, total=   0.1s\n",
      "[CV] alpha=50 ........................................................\n",
      "[CV] ............................ alpha=50, score=0.766, total=   0.0s\n",
      "[CV] alpha=50 ........................................................\n",
      "[CV] ............................ alpha=50, score=0.763, total=   0.0s\n",
      "[CV] alpha=50 ........................................................\n"
     ]
    },
    {
     "name": "stderr",
     "output_type": "stream",
     "text": [
      "[Parallel(n_jobs=1)]: Using backend SequentialBackend with 1 concurrent workers.\n",
      "[Parallel(n_jobs=1)]: Done   1 out of   1 | elapsed:    0.1s remaining:    0.0s\n",
      "[Parallel(n_jobs=1)]: Done   2 out of   2 | elapsed:    0.1s remaining:    0.0s\n",
      "[Parallel(n_jobs=1)]: Done   3 out of   3 | elapsed:    0.2s remaining:    0.0s\n"
     ]
    },
    {
     "name": "stdout",
     "output_type": "stream",
     "text": [
      "[CV] ............................ alpha=50, score=0.760, total=   0.1s\n",
      "[CV] alpha=50 ........................................................\n",
      "[CV] ............................ alpha=50, score=0.768, total=   0.0s\n",
      "[CV] alpha=500 .......................................................\n",
      "[CV] ........................... alpha=500, score=0.797, total=   0.0s\n",
      "[CV] alpha=500 .......................................................\n",
      "[CV] ........................... alpha=500, score=0.788, total=   0.0s\n",
      "[CV] alpha=500 .......................................................\n",
      "[CV] ........................... alpha=500, score=0.795, total=   0.0s\n",
      "[CV] alpha=500 .......................................................\n"
     ]
    },
    {
     "name": "stderr",
     "output_type": "stream",
     "text": [
      "[Parallel(n_jobs=1)]: Done   4 out of   4 | elapsed:    0.2s remaining:    0.0s\n",
      "[Parallel(n_jobs=1)]: Done   5 out of   5 | elapsed:    0.3s remaining:    0.0s\n",
      "[Parallel(n_jobs=1)]: Done   6 out of   6 | elapsed:    0.3s remaining:    0.0s\n",
      "[Parallel(n_jobs=1)]: Done   7 out of   7 | elapsed:    0.4s remaining:    0.0s\n",
      "[Parallel(n_jobs=1)]: Done   8 out of   8 | elapsed:    0.4s remaining:    0.0s\n"
     ]
    },
    {
     "name": "stdout",
     "output_type": "stream",
     "text": [
      "[CV] ........................... alpha=500, score=0.805, total=   0.0s\n",
      "[CV] alpha=500 .......................................................\n",
      "[CV] ........................... alpha=500, score=0.795, total=   0.0s\n",
      "[CV] alpha=2.0 .......................................................\n",
      "[CV] ........................... alpha=2.0, score=0.739, total=   0.0s\n",
      "[CV] alpha=2.0 .......................................................\n",
      "[CV] ........................... alpha=2.0, score=0.730, total=   0.1s\n",
      "[CV] alpha=2.0 .......................................................\n"
     ]
    },
    {
     "name": "stderr",
     "output_type": "stream",
     "text": [
      "[Parallel(n_jobs=1)]: Done   9 out of   9 | elapsed:    0.5s remaining:    0.0s\n"
     ]
    },
    {
     "name": "stdout",
     "output_type": "stream",
     "text": [
      "[CV] ........................... alpha=2.0, score=0.707, total=   0.1s\n",
      "[CV] alpha=2.0 .......................................................\n",
      "[CV] ........................... alpha=2.0, score=0.700, total=   0.0s\n",
      "[CV] alpha=2.0 .......................................................\n",
      "[CV] ........................... alpha=2.0, score=0.731, total=   0.0s\n",
      "[CV] alpha=100 .......................................................\n",
      "[CV] ........................... alpha=100, score=0.776, total=   0.1s\n",
      "[CV] alpha=100 .......................................................\n",
      "[CV] ........................... alpha=100, score=0.783, total=   0.1s\n",
      "[CV] alpha=100 .......................................................\n",
      "[CV] ........................... alpha=100, score=0.117, total=   0.1s\n",
      "[CV] alpha=100 .......................................................\n",
      "[CV] ........................... alpha=100, score=0.788, total=   0.0s\n",
      "[CV] alpha=100 .......................................................\n",
      "[CV] ........................... alpha=100, score=0.773, total=   0.0s\n",
      "[CV] alpha=0.0005 ....................................................\n",
      "[CV] ........................ alpha=0.0005, score=0.775, total=   0.1s\n",
      "[CV] alpha=0.0005 ....................................................\n",
      "[CV] ........................ alpha=0.0005, score=0.744, total=   0.2s\n",
      "[CV] alpha=0.0005 ....................................................\n",
      "[CV] ........................ alpha=0.0005, score=0.772, total=   0.2s\n",
      "[CV] alpha=0.0005 ....................................................\n",
      "[CV] ........................ alpha=0.0005, score=0.644, total=   0.1s\n",
      "[CV] alpha=0.0005 ....................................................\n",
      "[CV] ........................ alpha=0.0005, score=0.748, total=   0.2s\n",
      "[CV] alpha=20 ........................................................\n",
      "[CV] ............................ alpha=20, score=0.737, total=   0.0s\n",
      "[CV] alpha=20 ........................................................\n",
      "[CV] ............................ alpha=20, score=0.732, total=   0.0s\n",
      "[CV] alpha=20 ........................................................\n",
      "[CV] ............................ alpha=20, score=0.737, total=   0.0s\n",
      "[CV] alpha=20 ........................................................\n",
      "[CV] ............................ alpha=20, score=0.737, total=   0.0s\n",
      "[CV] alpha=20 ........................................................\n",
      "[CV] ............................ alpha=20, score=0.728, total=   0.0s\n",
      "[CV] alpha=1000 ......................................................\n",
      "[CV] .......................... alpha=1000, score=0.835, total=   0.0s\n",
      "[CV] alpha=1000 ......................................................\n",
      "[CV] .......................... alpha=1000, score=0.835, total=   0.0s\n",
      "[CV] alpha=1000 ......................................................\n",
      "[CV] .......................... alpha=1000, score=0.841, total=   0.0s\n",
      "[CV] alpha=1000 ......................................................\n",
      "[CV] .......................... alpha=1000, score=0.847, total=   0.1s\n",
      "[CV] alpha=1000 ......................................................\n",
      "[CV] .......................... alpha=1000, score=0.834, total=   0.0s\n",
      "[CV] alpha=0.005 .....................................................\n",
      "[CV] ......................... alpha=0.005, score=0.748, total=   0.1s\n",
      "[CV] alpha=0.005 .....................................................\n",
      "[CV] ......................... alpha=0.005, score=0.702, total=   0.1s\n",
      "[CV] alpha=0.005 .....................................................\n",
      "[CV] ......................... alpha=0.005, score=0.760, total=   0.1s\n",
      "[CV] alpha=0.005 .....................................................\n",
      "[CV] ......................... alpha=0.005, score=0.711, total=   0.1s\n",
      "[CV] alpha=0.005 .....................................................\n",
      "[CV] ......................... alpha=0.005, score=0.733, total=   0.1s\n",
      "[CV] alpha=0.1 .......................................................\n",
      "[CV] ........................... alpha=0.1, score=0.657, total=   0.1s\n",
      "[CV] alpha=0.1 .......................................................\n",
      "[CV] ........................... alpha=0.1, score=0.663, total=   0.1s\n",
      "[CV] alpha=0.1 .......................................................\n",
      "[CV] ........................... alpha=0.1, score=0.667, total=   0.1s\n",
      "[CV] alpha=0.1 .......................................................\n",
      "[CV] ........................... alpha=0.1, score=0.662, total=   0.1s\n",
      "[CV] alpha=0.1 .......................................................\n",
      "[CV] ........................... alpha=0.1, score=0.665, total=   0.1s\n",
      "[CV] alpha=0.2 .......................................................\n",
      "[CV] ........................... alpha=0.2, score=0.663, total=   0.1s\n",
      "[CV] alpha=0.2 .......................................................\n",
      "[CV] ........................... alpha=0.2, score=0.660, total=   0.1s\n",
      "[CV] alpha=0.2 .......................................................\n",
      "[CV] ........................... alpha=0.2, score=0.660, total=   0.1s\n",
      "[CV] alpha=0.2 .......................................................\n",
      "[CV] ........................... alpha=0.2, score=0.655, total=   0.1s\n",
      "[CV] alpha=0.2 .......................................................\n",
      "[CV] ........................... alpha=0.2, score=0.670, total=   0.1s\n",
      "{'alpha': 1000}\n"
     ]
    },
    {
     "name": "stderr",
     "output_type": "stream",
     "text": [
      "[Parallel(n_jobs=1)]: Done  50 out of  50 | elapsed:    3.6s finished\n"
     ]
    }
   ],
   "source": [
    "x_cfl=SGDClassifier(loss='log',class_weight='balanced')\n",
    "\n",
    "param={\n",
    "    'alpha':[0.0001, 0.0005, 0.001,0.005, 0.01, 0.05, 0.1, 0.15, 0.2, 0.25, 0.5, 1.0, 1.5, 2.0, 2.5, 5, 10, 20, 50, 100, 500,1000,10000]\n",
    "}\n",
    "\n",
    "random_cfl=RandomizedSearchCV(x_cfl,param_distributions=param,verbose=10)\n",
    "random_cfl.fit(X_train, y)\n",
    "print (random_cfl.best_params_)"
   ]
  },
  {
   "cell_type": "code",
   "execution_count": 0,
   "metadata": {
    "colab": {
     "base_uri": "https://localhost:8080/",
     "height": 766
    },
    "colab_type": "code",
    "id": "Iv9KgdU0F4xZ",
    "outputId": "f91486b8-28f7-43d2-9b0d-4da9ba8c0a68"
   },
   "outputs": [
    {
     "data": {
      "image/png": "[encoded data removed]",
      "text/plain": [
       "<Figure size 432x288 with 1 Axes>"
      ]
     },
     "metadata": {
      "tags": []
     },
     "output_type": "display_data"
    },
    {
     "name": "stdout",
     "output_type": "stream",
     "text": [
      "----------------------------------------------------------------------\n",
      "Train accuracy:  0.8413791196637912\n",
      "Test accuracy:  0.8365586641601238\n",
      "----------------------------------------------------------------------\n",
      "F1-Score on train set: 0.274\n",
      "F1-Score on test set: 0.260\n",
      "----------------------------------------------------------------------\n",
      "the maximum value of tpr*(1-fpr) 0.43306254695717505 for threshold 0.5\n",
      "Test confusion matrix\n",
      "[[5523 2455]\n",
      " [ 427  638]]\n"
     ]
    },
    {
     "data": {
      "image/png": "[encoded data removed]",
      "text/plain": [
       "<Figure size 432x288 with 2 Axes>"
      ]
     },
     "metadata": {
      "tags": []
     },
     "output_type": "display_data"
    }
   ],
   "source": [
    "clf = SGDClassifier(alpha = 1000,loss='log',class_weight='balanced')\n",
    "    \n",
    "clf.fit(X_train, y_train)\n",
    "\n",
    "y_train_pred = clf.predict_proba(X_train)[:,1]    \n",
    "y_test_pred = clf.predict_proba(X_test)[:,1]\n",
    "\n",
    "train_fpr, train_tpr, tr_thresholds = roc_curve(y_train, y_train_pred)\n",
    "test_fpr, test_tpr, te_thresholds = roc_curve(y_test, y_test_pred)\n",
    "\n",
    "\n",
    "plt.plot(train_fpr, train_tpr, label=\"Train AUC =\"+str(auc(train_fpr, train_tpr)))\n",
    "plt.plot(test_fpr, test_tpr, label=\"Test AUC =\"+str(auc(test_fpr, test_tpr)))\n",
    "plt.legend()\n",
    "plt.xlabel(\"Flase Positive Rate(TPR)\")\n",
    "plt.ylabel(\"True Positive Rate(FPR)\")\n",
    "plt.title(\"AUC\")\n",
    "plt.grid()\n",
    "plt.show()\n",
    "\n",
    "print(\"-\"*70)\n",
    "\n",
    "\n",
    "print(\"Train accuracy: \",clf.score(X_train, y_train))\n",
    "print(\"Test accuracy: \",clf.score(X_test, y_test))\n",
    "\n",
    "print(\"-\"*70)\n",
    "y_train_new = clf.predict(X_train)\n",
    "y_test_new = clf.predict(X_test)\n",
    "print(\"F1-Score on train set: %0.3f\"%(f1_score(y_train, y_train_new)))\n",
    "print(\"F1-Score on test set: %0.3f\"%(f1_score(y_test, y_test_new)))\n",
    "\n",
    "print(\"-\"*70)\n",
    "\n",
    "from sklearn.metrics import confusion_matrix\n",
    "best_t = find_best_threshold(tr_thresholds, train_fpr, train_tpr)\n",
    "\n",
    "print(\"Test confusion matrix\")\n",
    "df_cmte = pd.DataFrame(confusion_matrix(y_test, predict_with_best_t(y_test_pred, best_t)),range(2),range(2))\n",
    "sns.set(font_scale=1.4)#for label size\n",
    "sns.heatmap(df_cmte, annot=True,annot_kws={\"size\": 16}, fmt='g')\n",
    "print(confusion_matrix(y_test, predict_with_best_t(y_test_pred, best_t)))"
   ]
  },
  {
   "cell_type": "markdown",
   "metadata": {
    "colab_type": "text",
    "id": "g0Kllb96J6Sa"
   },
   "source": [
    "### 2. Support vector machine"
   ]
  },
  {
   "cell_type": "code",
   "execution_count": 0,
   "metadata": {
    "colab": {
     "base_uri": "https://localhost:8080/",
     "height": 1000
    },
    "colab_type": "code",
    "id": "x3EeGTUMHrtZ",
    "outputId": "c5764fab-7b0d-4e3a-dce0-b8411d884e68"
   },
   "outputs": [
    {
     "name": "stdout",
     "output_type": "stream",
     "text": [
      "Fitting 5 folds for each of 10 candidates, totalling 50 fits\n",
      "[CV] alpha=1.0 .......................................................\n",
      "[CV] ........................... alpha=1.0, score=0.785, total=   0.0s\n",
      "[CV] alpha=1.0 .......................................................\n",
      "[CV] ........................... alpha=1.0, score=0.783, total=   0.0s\n",
      "[CV] alpha=1.0 .......................................................\n",
      "[CV] ........................... alpha=1.0, score=0.788, total=   0.0s\n",
      "[CV] alpha=1.0 .......................................................\n",
      "[CV] ........................... alpha=1.0, score=0.790, total=   0.0s\n",
      "[CV] alpha=1.0 .......................................................\n"
     ]
    },
    {
     "name": "stderr",
     "output_type": "stream",
     "text": [
      "[Parallel(n_jobs=1)]: Using backend SequentialBackend with 1 concurrent workers.\n",
      "[Parallel(n_jobs=1)]: Done   1 out of   1 | elapsed:    0.0s remaining:    0.0s\n",
      "[Parallel(n_jobs=1)]: Done   2 out of   2 | elapsed:    0.1s remaining:    0.0s\n",
      "[Parallel(n_jobs=1)]: Done   3 out of   3 | elapsed:    0.1s remaining:    0.0s\n",
      "[Parallel(n_jobs=1)]: Done   4 out of   4 | elapsed:    0.2s remaining:    0.0s\n",
      "[Parallel(n_jobs=1)]: Done   5 out of   5 | elapsed:    0.2s remaining:    0.0s\n"
     ]
    },
    {
     "name": "stdout",
     "output_type": "stream",
     "text": [
      "[CV] ........................... alpha=1.0, score=0.784, total=   0.0s\n",
      "[CV] alpha=10 ........................................................\n",
      "[CV] ............................ alpha=10, score=0.726, total=   0.0s\n",
      "[CV] alpha=10 ........................................................\n",
      "[CV] ............................ alpha=10, score=0.677, total=   0.0s\n",
      "[CV] alpha=10 ........................................................\n",
      "[CV] ............................ alpha=10, score=0.708, total=   0.0s\n",
      "[CV] alpha=10 ........................................................\n",
      "[CV] ............................ alpha=10, score=0.702, total=   0.0s\n",
      "[CV] alpha=10 ........................................................\n",
      "[CV] ............................ alpha=10, score=0.687, total=   0.0s\n",
      "[CV] alpha=2.0 .......................................................\n"
     ]
    },
    {
     "name": "stderr",
     "output_type": "stream",
     "text": [
      "[Parallel(n_jobs=1)]: Done   6 out of   6 | elapsed:    0.2s remaining:    0.0s\n",
      "[Parallel(n_jobs=1)]: Done   7 out of   7 | elapsed:    0.3s remaining:    0.0s\n",
      "[Parallel(n_jobs=1)]: Done   8 out of   8 | elapsed:    0.3s remaining:    0.0s\n",
      "[Parallel(n_jobs=1)]: Done   9 out of   9 | elapsed:    0.3s remaining:    0.0s\n"
     ]
    },
    {
     "name": "stdout",
     "output_type": "stream",
     "text": [
      "[CV] ........................... alpha=2.0, score=0.769, total=   0.0s\n",
      "[CV] alpha=2.0 .......................................................\n",
      "[CV] ........................... alpha=2.0, score=0.747, total=   0.0s\n",
      "[CV] alpha=2.0 .......................................................\n",
      "[CV] ........................... alpha=2.0, score=0.753, total=   0.0s\n",
      "[CV] alpha=2.0 .......................................................\n",
      "[CV] ........................... alpha=2.0, score=0.753, total=   0.0s\n",
      "[CV] alpha=2.0 .......................................................\n",
      "[CV] ........................... alpha=2.0, score=0.772, total=   0.0s\n",
      "[CV] alpha=0.05 ......................................................\n",
      "[CV] .......................... alpha=0.05, score=0.684, total=   0.0s\n",
      "[CV] alpha=0.05 ......................................................\n",
      "[CV] .......................... alpha=0.05, score=0.673, total=   0.0s\n",
      "[CV] alpha=0.05 ......................................................\n",
      "[CV] .......................... alpha=0.05, score=0.671, total=   0.0s\n",
      "[CV] alpha=0.05 ......................................................\n",
      "[CV] .......................... alpha=0.05, score=0.687, total=   0.0s\n",
      "[CV] alpha=0.05 ......................................................\n",
      "[CV] .......................... alpha=0.05, score=0.692, total=   0.0s\n",
      "[CV] alpha=20 ........................................................\n",
      "[CV] ............................ alpha=20, score=0.718, total=   0.0s\n",
      "[CV] alpha=20 ........................................................\n",
      "[CV] ............................ alpha=20, score=0.729, total=   0.0s\n",
      "[CV] alpha=20 ........................................................\n",
      "[CV] ............................ alpha=20, score=0.729, total=   0.0s\n",
      "[CV] alpha=20 ........................................................\n",
      "[CV] ............................ alpha=20, score=0.705, total=   0.0s\n",
      "[CV] alpha=20 ........................................................\n",
      "[CV] ............................ alpha=20, score=0.729, total=   0.0s\n",
      "[CV] alpha=0.0005 ....................................................\n",
      "[CV] ........................ alpha=0.0005, score=0.776, total=   0.1s\n",
      "[CV] alpha=0.0005 ....................................................\n",
      "[CV] ........................ alpha=0.0005, score=0.755, total=   0.1s\n",
      "[CV] alpha=0.0005 ....................................................\n",
      "[CV] ........................ alpha=0.0005, score=0.818, total=   0.1s\n",
      "[CV] alpha=0.0005 ....................................................\n",
      "[CV] ........................ alpha=0.0005, score=0.762, total=   0.1s\n",
      "[CV] alpha=0.0005 ....................................................\n",
      "[CV] ........................ alpha=0.0005, score=0.814, total=   0.1s\n",
      "[CV] alpha=0.0001 ....................................................\n",
      "[CV] ........................ alpha=0.0001, score=0.830, total=   0.3s\n",
      "[CV] alpha=0.0001 ....................................................\n",
      "[CV] ........................ alpha=0.0001, score=0.867, total=   0.2s\n",
      "[CV] alpha=0.0001 ....................................................\n",
      "[CV] ........................ alpha=0.0001, score=0.665, total=   0.2s\n",
      "[CV] alpha=0.0001 ....................................................\n",
      "[CV] ........................ alpha=0.0001, score=0.719, total=   0.2s\n",
      "[CV] alpha=0.0001 ....................................................\n",
      "[CV] ........................ alpha=0.0001, score=0.809, total=   0.2s\n",
      "[CV] alpha=0.15 ......................................................\n",
      "[CV] .......................... alpha=0.15, score=0.747, total=   0.0s\n",
      "[CV] alpha=0.15 ......................................................\n",
      "[CV] .......................... alpha=0.15, score=0.758, total=   0.1s\n",
      "[CV] alpha=0.15 ......................................................\n",
      "[CV] .......................... alpha=0.15, score=0.736, total=   0.0s\n",
      "[CV] alpha=0.15 ......................................................\n",
      "[CV] .......................... alpha=0.15, score=0.732, total=   0.1s\n",
      "[CV] alpha=0.15 ......................................................\n",
      "[CV] .......................... alpha=0.15, score=0.757, total=   0.0s\n",
      "[CV] alpha=500 .......................................................\n",
      "[CV] ........................... alpha=500, score=0.797, total=   0.0s\n",
      "[CV] alpha=500 .......................................................\n",
      "[CV] ........................... alpha=500, score=0.790, total=   0.0s\n",
      "[CV] alpha=500 .......................................................\n",
      "[CV] ........................... alpha=500, score=0.799, total=   0.0s\n",
      "[CV] alpha=500 .......................................................\n",
      "[CV] ........................... alpha=500, score=0.805, total=   0.0s\n",
      "[CV] alpha=500 .......................................................\n",
      "[CV] ........................... alpha=500, score=0.117, total=   0.0s\n",
      "[CV] alpha=100 .......................................................\n",
      "[CV] ........................... alpha=100, score=0.785, total=   0.0s\n",
      "[CV] alpha=100 .......................................................\n",
      "[CV] ........................... alpha=100, score=0.783, total=   0.0s\n",
      "[CV] alpha=100 .......................................................\n",
      "[CV] ........................... alpha=100, score=0.787, total=   0.0s\n",
      "[CV] alpha=100 .......................................................\n",
      "[CV] ........................... alpha=100, score=0.117, total=   0.0s\n",
      "[CV] alpha=100 .......................................................\n",
      "[CV] ........................... alpha=100, score=0.783, total=   0.0s\n",
      "{'alpha': 1.0}\n"
     ]
    },
    {
     "name": "stderr",
     "output_type": "stream",
     "text": [
      "[Parallel(n_jobs=1)]: Done  50 out of  50 | elapsed:    3.2s finished\n"
     ]
    }
   ],
   "source": [
    "x_cfl=SGDClassifier(loss='hinge',class_weight='balanced')\n",
    "\n",
    "param={\n",
    "    'alpha':[0.0001, 0.0005, 0.001,0.005, 0.01, 0.05, 0.1, 0.15, 0.2, 0.25, 0.5, 1.0, 1.5, 2.0, 2.5, 5, 10, 20, 50, 100, 500,1000,10000]\n",
    "}\n",
    "\n",
    "random_cfl=RandomizedSearchCV(x_cfl,param_distributions=param,verbose=10)\n",
    "random_cfl.fit(X_train, y)\n",
    "print (random_cfl.best_params_)"
   ]
  },
  {
   "cell_type": "code",
   "execution_count": 0,
   "metadata": {
    "colab": {
     "base_uri": "https://localhost:8080/",
     "height": 766
    },
    "colab_type": "code",
    "id": "UZFhPN2QKDeU",
    "outputId": "ceef0a52-cce7-4b3c-c2d6-e15823d6d455"
   },
   "outputs": [
    {
     "data": {
      "image/png": "[encoded data removed]",
      "text/plain": [
       "<Figure size 432x288 with 1 Axes>"
      ]
     },
     "metadata": {
      "tags": []
     },
     "output_type": "display_data"
    },
    {
     "name": "stdout",
     "output_type": "stream",
     "text": [
      "----------------------------------------------------------------------\n",
      "Train accuracy:  0.8801426675514267\n",
      "Test accuracy:  0.8803494415570055\n",
      "----------------------------------------------------------------------\n",
      "F1-Score on train set: 0.021\n",
      "F1-Score on test set: 0.023\n",
      "----------------------------------------------------------------------\n",
      "the maximum value of tpr*(1-fpr) 0.4331014111342577 for threshold 0.11\n",
      "Test confusion matrix\n",
      "[[5538 2440]\n",
      " [ 428  637]]\n"
     ]
    },
    {
     "data": {
      "image/png": "[encoded data removed]",
      "text/plain": [
       "<Figure size 432x288 with 2 Axes>"
      ]
     },
     "metadata": {
      "tags": []
     },
     "output_type": "display_data"
    }
   ],
   "source": [
    "clf = SGDClassifier(alpha = 1.0,loss='hinge',class_weight='balanced')\n",
    "clf = CalibratedClassifierCV(clf)\n",
    "    \n",
    "clf.fit(X_train, y_train)\n",
    "\n",
    "y_train_pred = clf.predict_proba(X_train)[:,1]    \n",
    "y_test_pred = clf.predict_proba(X_test)[:,1]\n",
    "\n",
    "train_fpr, train_tpr, tr_thresholds = roc_curve(y_train, y_train_pred)\n",
    "test_fpr, test_tpr, te_thresholds = roc_curve(y_test, y_test_pred)\n",
    "\n",
    "\n",
    "plt.plot(train_fpr, train_tpr, label=\"Train AUC =\"+str(auc(train_fpr, train_tpr)))\n",
    "plt.plot(test_fpr, test_tpr, label=\"Test AUC =\"+str(auc(test_fpr, test_tpr)))\n",
    "plt.legend()\n",
    "plt.xlabel(\"Flase Positive Rate(TPR)\")\n",
    "plt.ylabel(\"True Positive Rate(FPR)\")\n",
    "plt.title(\"AUC\")\n",
    "plt.grid()\n",
    "plt.show()\n",
    "\n",
    "print(\"-\"*70)\n",
    "\n",
    "\n",
    "print(\"Train accuracy: \",clf.score(X_train, y_train))\n",
    "print(\"Test accuracy: \",clf.score(X_test, y_test))\n",
    "\n",
    "print(\"-\"*70)\n",
    "y_train_new = clf.predict(X_train)\n",
    "y_test_new = clf.predict(X_test)\n",
    "print(\"F1-Score on train set: %0.3f\"%(f1_score(y_train, y_train_new)))\n",
    "print(\"F1-Score on test set: %0.3f\"%(f1_score(y_test, y_test_new)))\n",
    "\n",
    "print(\"-\"*70)\n",
    "\n",
    "from sklearn.metrics import confusion_matrix\n",
    "best_t = find_best_threshold(tr_thresholds, train_fpr, train_tpr)\n",
    "\n",
    "print(\"Test confusion matrix\")\n",
    "df_cmte = pd.DataFrame(confusion_matrix(y_test, predict_with_best_t(y_test_pred, best_t)),range(2),range(2))\n",
    "sns.set(font_scale=1.4)#for label size\n",
    "sns.heatmap(df_cmte, annot=True,annot_kws={\"size\": 16}, fmt='g')\n",
    "print(confusion_matrix(y_test, predict_with_best_t(y_test_pred, best_t)))"
   ]
  },
  {
   "cell_type": "markdown",
   "metadata": {
    "colab_type": "text",
    "id": "s1HpPLV2Ky5p"
   },
   "source": [
    "### XGBoost classifier"
   ]
  },
  {
   "cell_type": "code",
   "execution_count": 0,
   "metadata": {
    "colab": {
     "base_uri": "https://localhost:8080/",
     "height": 1000
    },
    "colab_type": "code",
    "id": "gjDbAE7eLIbh",
    "outputId": "d12b2188-83e0-433e-8421-6078dbc1e1a3"
   },
   "outputs": [
    {
     "name": "stdout",
     "output_type": "stream",
     "text": [
      "Fitting 5 folds for each of 10 candidates, totalling 50 fits\n",
      "[CV] subsample=0.1, n_estimators=200, max_depth=10, learning_rate=0.03, colsample_bytree=0.5 \n"
     ]
    },
    {
     "name": "stderr",
     "output_type": "stream",
     "text": [
      "[Parallel(n_jobs=1)]: Using backend SequentialBackend with 1 concurrent workers.\n"
     ]
    },
    {
     "name": "stdout",
     "output_type": "stream",
     "text": [
      "[CV]  subsample=0.1, n_estimators=200, max_depth=10, learning_rate=0.03, colsample_bytree=0.5, score=0.891, total=   5.4s\n",
      "[CV] subsample=0.1, n_estimators=200, max_depth=10, learning_rate=0.03, colsample_bytree=0.5 \n"
     ]
    },
    {
     "name": "stderr",
     "output_type": "stream",
     "text": [
      "[Parallel(n_jobs=1)]: Done   1 out of   1 | elapsed:    5.4s remaining:    0.0s\n"
     ]
    },
    {
     "name": "stdout",
     "output_type": "stream",
     "text": [
      "[CV]  subsample=0.1, n_estimators=200, max_depth=10, learning_rate=0.03, colsample_bytree=0.5, score=0.894, total=   4.6s\n",
      "[CV] subsample=0.1, n_estimators=200, max_depth=10, learning_rate=0.03, colsample_bytree=0.5 \n"
     ]
    },
    {
     "name": "stderr",
     "output_type": "stream",
     "text": [
      "[Parallel(n_jobs=1)]: Done   2 out of   2 | elapsed:    9.9s remaining:    0.0s\n"
     ]
    },
    {
     "name": "stdout",
     "output_type": "stream",
     "text": [
      "[CV]  subsample=0.1, n_estimators=200, max_depth=10, learning_rate=0.03, colsample_bytree=0.5, score=0.893, total=   4.6s\n",
      "[CV] subsample=0.1, n_estimators=200, max_depth=10, learning_rate=0.03, colsample_bytree=0.5 \n"
     ]
    },
    {
     "name": "stderr",
     "output_type": "stream",
     "text": [
      "[Parallel(n_jobs=1)]: Done   3 out of   3 | elapsed:   14.6s remaining:    0.0s\n"
     ]
    },
    {
     "name": "stdout",
     "output_type": "stream",
     "text": [
      "[CV]  subsample=0.1, n_estimators=200, max_depth=10, learning_rate=0.03, colsample_bytree=0.5, score=0.895, total=   4.6s\n",
      "[CV] subsample=0.1, n_estimators=200, max_depth=10, learning_rate=0.03, colsample_bytree=0.5 \n"
     ]
    },
    {
     "name": "stderr",
     "output_type": "stream",
     "text": [
      "[Parallel(n_jobs=1)]: Done   4 out of   4 | elapsed:   19.2s remaining:    0.0s\n"
     ]
    },
    {
     "name": "stdout",
     "output_type": "stream",
     "text": [
      "[CV]  subsample=0.1, n_estimators=200, max_depth=10, learning_rate=0.03, colsample_bytree=0.5, score=0.893, total=   4.6s\n",
      "[CV] subsample=0.5, n_estimators=500, max_depth=10, learning_rate=0.2, colsample_bytree=0.3 \n"
     ]
    },
    {
     "name": "stderr",
     "output_type": "stream",
     "text": [
      "[Parallel(n_jobs=1)]: Done   5 out of   5 | elapsed:   23.7s remaining:    0.0s\n"
     ]
    },
    {
     "name": "stdout",
     "output_type": "stream",
     "text": [
      "[CV]  subsample=0.5, n_estimators=500, max_depth=10, learning_rate=0.2, colsample_bytree=0.3, score=0.886, total=  13.4s\n",
      "[CV] subsample=0.5, n_estimators=500, max_depth=10, learning_rate=0.2, colsample_bytree=0.3 \n"
     ]
    },
    {
     "name": "stderr",
     "output_type": "stream",
     "text": [
      "[Parallel(n_jobs=1)]: Done   6 out of   6 | elapsed:   37.1s remaining:    0.0s\n"
     ]
    },
    {
     "name": "stdout",
     "output_type": "stream",
     "text": [
      "[CV]  subsample=0.5, n_estimators=500, max_depth=10, learning_rate=0.2, colsample_bytree=0.3, score=0.888, total=  13.3s\n",
      "[CV] subsample=0.5, n_estimators=500, max_depth=10, learning_rate=0.2, colsample_bytree=0.3 \n"
     ]
    },
    {
     "name": "stderr",
     "output_type": "stream",
     "text": [
      "[Parallel(n_jobs=1)]: Done   7 out of   7 | elapsed:   50.4s remaining:    0.0s\n"
     ]
    },
    {
     "name": "stdout",
     "output_type": "stream",
     "text": [
      "[CV]  subsample=0.5, n_estimators=500, max_depth=10, learning_rate=0.2, colsample_bytree=0.3, score=0.888, total=  13.4s\n",
      "[CV] subsample=0.5, n_estimators=500, max_depth=10, learning_rate=0.2, colsample_bytree=0.3 \n"
     ]
    },
    {
     "name": "stderr",
     "output_type": "stream",
     "text": [
      "[Parallel(n_jobs=1)]: Done   8 out of   8 | elapsed:  1.1min remaining:    0.0s\n"
     ]
    },
    {
     "name": "stdout",
     "output_type": "stream",
     "text": [
      "[CV]  subsample=0.5, n_estimators=500, max_depth=10, learning_rate=0.2, colsample_bytree=0.3, score=0.887, total=  13.2s\n",
      "[CV] subsample=0.5, n_estimators=500, max_depth=10, learning_rate=0.2, colsample_bytree=0.3 \n"
     ]
    },
    {
     "name": "stderr",
     "output_type": "stream",
     "text": [
      "[Parallel(n_jobs=1)]: Done   9 out of   9 | elapsed:  1.3min remaining:    0.0s\n"
     ]
    },
    {
     "name": "stdout",
     "output_type": "stream",
     "text": [
      "[CV]  subsample=0.5, n_estimators=500, max_depth=10, learning_rate=0.2, colsample_bytree=0.3, score=0.886, total=  13.2s\n",
      "[CV] subsample=0.1, n_estimators=500, max_depth=5, learning_rate=0.03, colsample_bytree=0.1 \n",
      "[CV]  subsample=0.1, n_estimators=500, max_depth=5, learning_rate=0.03, colsample_bytree=0.1, score=0.891, total=   3.8s\n",
      "[CV] subsample=0.1, n_estimators=500, max_depth=5, learning_rate=0.03, colsample_bytree=0.1 \n",
      "[CV]  subsample=0.1, n_estimators=500, max_depth=5, learning_rate=0.03, colsample_bytree=0.1, score=0.891, total=   3.8s\n",
      "[CV] subsample=0.1, n_estimators=500, max_depth=5, learning_rate=0.03, colsample_bytree=0.1 \n",
      "[CV]  subsample=0.1, n_estimators=500, max_depth=5, learning_rate=0.03, colsample_bytree=0.1, score=0.893, total=   3.8s\n",
      "[CV] subsample=0.1, n_estimators=500, max_depth=5, learning_rate=0.03, colsample_bytree=0.1 \n",
      "[CV]  subsample=0.1, n_estimators=500, max_depth=5, learning_rate=0.03, colsample_bytree=0.1, score=0.893, total=   3.8s\n",
      "[CV] subsample=0.1, n_estimators=500, max_depth=5, learning_rate=0.03, colsample_bytree=0.1 \n",
      "[CV]  subsample=0.1, n_estimators=500, max_depth=5, learning_rate=0.03, colsample_bytree=0.1, score=0.893, total=   3.8s\n",
      "[CV] subsample=1, n_estimators=2000, max_depth=3, learning_rate=0.05, colsample_bytree=0.5 \n",
      "[CV]  subsample=1, n_estimators=2000, max_depth=3, learning_rate=0.05, colsample_bytree=0.5, score=0.892, total=  17.7s\n",
      "[CV] subsample=1, n_estimators=2000, max_depth=3, learning_rate=0.05, colsample_bytree=0.5 \n",
      "[CV]  subsample=1, n_estimators=2000, max_depth=3, learning_rate=0.05, colsample_bytree=0.5, score=0.894, total=  17.7s\n",
      "[CV] subsample=1, n_estimators=2000, max_depth=3, learning_rate=0.05, colsample_bytree=0.5 \n",
      "[CV]  subsample=1, n_estimators=2000, max_depth=3, learning_rate=0.05, colsample_bytree=0.5, score=0.894, total=  17.6s\n",
      "[CV] subsample=1, n_estimators=2000, max_depth=3, learning_rate=0.05, colsample_bytree=0.5 \n",
      "[CV]  subsample=1, n_estimators=2000, max_depth=3, learning_rate=0.05, colsample_bytree=0.5, score=0.895, total=  17.7s\n",
      "[CV] subsample=1, n_estimators=2000, max_depth=3, learning_rate=0.05, colsample_bytree=0.5 \n",
      "[CV]  subsample=1, n_estimators=2000, max_depth=3, learning_rate=0.05, colsample_bytree=0.5, score=0.893, total=  17.7s\n",
      "[CV] subsample=0.1, n_estimators=1000, max_depth=3, learning_rate=0.01, colsample_bytree=0.3 \n",
      "[CV]  subsample=0.1, n_estimators=1000, max_depth=3, learning_rate=0.01, colsample_bytree=0.3, score=0.892, total=   7.2s\n",
      "[CV] subsample=0.1, n_estimators=1000, max_depth=3, learning_rate=0.01, colsample_bytree=0.3 \n",
      "[CV]  subsample=0.1, n_estimators=1000, max_depth=3, learning_rate=0.01, colsample_bytree=0.3, score=0.892, total=   7.3s\n",
      "[CV] subsample=0.1, n_estimators=1000, max_depth=3, learning_rate=0.01, colsample_bytree=0.3 \n",
      "[CV]  subsample=0.1, n_estimators=1000, max_depth=3, learning_rate=0.01, colsample_bytree=0.3, score=0.892, total=   7.2s\n",
      "[CV] subsample=0.1, n_estimators=1000, max_depth=3, learning_rate=0.01, colsample_bytree=0.3 \n",
      "[CV]  subsample=0.1, n_estimators=1000, max_depth=3, learning_rate=0.01, colsample_bytree=0.3, score=0.895, total=   7.2s\n",
      "[CV] subsample=0.1, n_estimators=1000, max_depth=3, learning_rate=0.01, colsample_bytree=0.3 \n",
      "[CV]  subsample=0.1, n_estimators=1000, max_depth=3, learning_rate=0.01, colsample_bytree=0.3, score=0.895, total=   7.2s\n",
      "[CV] subsample=0.1, n_estimators=200, max_depth=5, learning_rate=0.1, colsample_bytree=1 \n",
      "[CV]  subsample=0.1, n_estimators=200, max_depth=5, learning_rate=0.1, colsample_bytree=1, score=0.892, total=   3.4s\n",
      "[CV] subsample=0.1, n_estimators=200, max_depth=5, learning_rate=0.1, colsample_bytree=1 \n",
      "[CV]  subsample=0.1, n_estimators=200, max_depth=5, learning_rate=0.1, colsample_bytree=1, score=0.892, total=   3.4s\n",
      "[CV] subsample=0.1, n_estimators=200, max_depth=5, learning_rate=0.1, colsample_bytree=1 \n",
      "[CV]  subsample=0.1, n_estimators=200, max_depth=5, learning_rate=0.1, colsample_bytree=1, score=0.890, total=   3.4s\n",
      "[CV] subsample=0.1, n_estimators=200, max_depth=5, learning_rate=0.1, colsample_bytree=1 \n",
      "[CV]  subsample=0.1, n_estimators=200, max_depth=5, learning_rate=0.1, colsample_bytree=1, score=0.891, total=   3.4s\n",
      "[CV] subsample=0.1, n_estimators=200, max_depth=5, learning_rate=0.1, colsample_bytree=1 \n",
      "[CV]  subsample=0.1, n_estimators=200, max_depth=5, learning_rate=0.1, colsample_bytree=1, score=0.890, total=   3.5s\n",
      "[CV] subsample=0.5, n_estimators=2000, max_depth=5, learning_rate=0.1, colsample_bytree=0.5 \n",
      "[CV]  subsample=0.5, n_estimators=2000, max_depth=5, learning_rate=0.1, colsample_bytree=0.5, score=0.887, total=  35.4s\n",
      "[CV] subsample=0.5, n_estimators=2000, max_depth=5, learning_rate=0.1, colsample_bytree=0.5 \n",
      "[CV]  subsample=0.5, n_estimators=2000, max_depth=5, learning_rate=0.1, colsample_bytree=0.5, score=0.891, total=  35.4s\n",
      "[CV] subsample=0.5, n_estimators=2000, max_depth=5, learning_rate=0.1, colsample_bytree=0.5 \n",
      "[CV]  subsample=0.5, n_estimators=2000, max_depth=5, learning_rate=0.1, colsample_bytree=0.5, score=0.892, total=  35.3s\n",
      "[CV] subsample=0.5, n_estimators=2000, max_depth=5, learning_rate=0.1, colsample_bytree=0.5 \n",
      "[CV]  subsample=0.5, n_estimators=2000, max_depth=5, learning_rate=0.1, colsample_bytree=0.5, score=0.892, total=  35.6s\n",
      "[CV] subsample=0.5, n_estimators=2000, max_depth=5, learning_rate=0.1, colsample_bytree=0.5 \n",
      "[CV]  subsample=0.5, n_estimators=2000, max_depth=5, learning_rate=0.1, colsample_bytree=0.5, score=0.888, total=  35.4s\n",
      "[CV] subsample=0.3, n_estimators=100, max_depth=10, learning_rate=0.05, colsample_bytree=0.3 \n",
      "[CV]  subsample=0.3, n_estimators=100, max_depth=10, learning_rate=0.05, colsample_bytree=0.3, score=0.891, total=   2.5s\n",
      "[CV] subsample=0.3, n_estimators=100, max_depth=10, learning_rate=0.05, colsample_bytree=0.3 \n",
      "[CV]  subsample=0.3, n_estimators=100, max_depth=10, learning_rate=0.05, colsample_bytree=0.3, score=0.893, total=   2.4s\n",
      "[CV] subsample=0.3, n_estimators=100, max_depth=10, learning_rate=0.05, colsample_bytree=0.3 \n",
      "[CV]  subsample=0.3, n_estimators=100, max_depth=10, learning_rate=0.05, colsample_bytree=0.3, score=0.893, total=   2.4s\n",
      "[CV] subsample=0.3, n_estimators=100, max_depth=10, learning_rate=0.05, colsample_bytree=0.3 \n",
      "[CV]  subsample=0.3, n_estimators=100, max_depth=10, learning_rate=0.05, colsample_bytree=0.3, score=0.895, total=   2.4s\n",
      "[CV] subsample=0.3, n_estimators=100, max_depth=10, learning_rate=0.05, colsample_bytree=0.3 \n",
      "[CV]  subsample=0.3, n_estimators=100, max_depth=10, learning_rate=0.05, colsample_bytree=0.3, score=0.894, total=   2.3s\n",
      "[CV] subsample=0.3, n_estimators=200, max_depth=5, learning_rate=0.2, colsample_bytree=0.5 \n",
      "[CV]  subsample=0.3, n_estimators=200, max_depth=5, learning_rate=0.2, colsample_bytree=0.5, score=0.891, total=   3.2s\n",
      "[CV] subsample=0.3, n_estimators=200, max_depth=5, learning_rate=0.2, colsample_bytree=0.5 \n",
      "[CV]  subsample=0.3, n_estimators=200, max_depth=5, learning_rate=0.2, colsample_bytree=0.5, score=0.892, total=   3.2s\n",
      "[CV] subsample=0.3, n_estimators=200, max_depth=5, learning_rate=0.2, colsample_bytree=0.5 \n",
      "[CV]  subsample=0.3, n_estimators=200, max_depth=5, learning_rate=0.2, colsample_bytree=0.5, score=0.890, total=   3.2s\n",
      "[CV] subsample=0.3, n_estimators=200, max_depth=5, learning_rate=0.2, colsample_bytree=0.5 \n",
      "[CV]  subsample=0.3, n_estimators=200, max_depth=5, learning_rate=0.2, colsample_bytree=0.5, score=0.890, total=   3.2s\n",
      "[CV] subsample=0.3, n_estimators=200, max_depth=5, learning_rate=0.2, colsample_bytree=0.5 \n",
      "[CV]  subsample=0.3, n_estimators=200, max_depth=5, learning_rate=0.2, colsample_bytree=0.5, score=0.888, total=   3.2s\n",
      "[CV] subsample=0.3, n_estimators=1000, max_depth=3, learning_rate=0.1, colsample_bytree=1 \n",
      "[CV]  subsample=0.3, n_estimators=1000, max_depth=3, learning_rate=0.1, colsample_bytree=1, score=0.891, total=  14.6s\n",
      "[CV] subsample=0.3, n_estimators=1000, max_depth=3, learning_rate=0.1, colsample_bytree=1 \n",
      "[CV]  subsample=0.3, n_estimators=1000, max_depth=3, learning_rate=0.1, colsample_bytree=1, score=0.893, total=  14.7s\n",
      "[CV] subsample=0.3, n_estimators=1000, max_depth=3, learning_rate=0.1, colsample_bytree=1 \n",
      "[CV]  subsample=0.3, n_estimators=1000, max_depth=3, learning_rate=0.1, colsample_bytree=1, score=0.893, total=  14.6s\n",
      "[CV] subsample=0.3, n_estimators=1000, max_depth=3, learning_rate=0.1, colsample_bytree=1 \n",
      "[CV]  subsample=0.3, n_estimators=1000, max_depth=3, learning_rate=0.1, colsample_bytree=1, score=0.894, total=  14.7s\n",
      "[CV] subsample=0.3, n_estimators=1000, max_depth=3, learning_rate=0.1, colsample_bytree=1 \n",
      "[CV]  subsample=0.3, n_estimators=1000, max_depth=3, learning_rate=0.1, colsample_bytree=1, score=0.892, total=  14.6s\n"
     ]
    },
    {
     "name": "stderr",
     "output_type": "stream",
     "text": [
      "[Parallel(n_jobs=1)]: Done  50 out of  50 | elapsed:  8.8min finished\n"
     ]
    },
    {
     "name": "stdout",
     "output_type": "stream",
     "text": [
      "{'subsample': 1, 'n_estimators': 2000, 'max_depth': 3, 'learning_rate': 0.05, 'colsample_bytree': 0.5}\n"
     ]
    }
   ],
   "source": [
    "clf=XGBClassifier()\n",
    "\n",
    "prams={\n",
    "    'learning_rate':[0.01,0.03,0.05,0.1,0.15,0.2],\n",
    "     'n_estimators':[100,200,500,1000,2000],\n",
    "     'max_depth':[3,5,10],\n",
    "    'colsample_bytree':[0.1,0.3,0.5,1],\n",
    "    'subsample':[0.1,0.3,0.5,1]\n",
    "}\n",
    "random_cfl=RandomizedSearchCV(clf,param_distributions=prams,verbose=10)\n",
    "random_cfl.fit(X_train, y_train)\n",
    "print (random_cfl.best_params_)"
   ]
  },
  {
   "cell_type": "code",
   "execution_count": 0,
   "metadata": {
    "colab": {
     "base_uri": "https://localhost:8080/",
     "height": 766
    },
    "colab_type": "code",
    "id": "fGFqQ0xuKaod",
    "outputId": "8d071644-6219-44b5-d68b-94b16a7587ed"
   },
   "outputs": [
    {
     "data": {
      "image/png": "[encoded data removed]",
      "text/plain": [
       "<Figure size 432x288 with 1 Axes>"
      ]
     },
     "metadata": {
      "tags": []
     },
     "output_type": "display_data"
    },
    {
     "name": "stdout",
     "output_type": "stream",
     "text": [
      "----------------------------------------------------------------------\n",
      "Train accuracy:  0.9046118115461181\n",
      "Test accuracy:  0.892734711931881\n",
      "----------------------------------------------------------------------\n",
      "F1-Score on train set: 0.423\n",
      "F1-Score on test set: 0.349\n",
      "----------------------------------------------------------------------\n",
      "the maximum value of tpr*(1-fpr) 0.5751141972410051 for threshold 0.105\n",
      "Test confusion matrix\n",
      "[[6326 1652]\n",
      " [ 370  695]]\n"
     ]
    },
    {
     "data": {
      "image/png": "[encoded data removed]",
      "text/plain": [
       "<Figure size 432x288 with 2 Axes>"
      ]
     },
     "metadata": {
      "tags": []
     },
     "output_type": "display_data"
    }
   ],
   "source": [
    "clf = XGBClassifier(subsample= 1, n_estimators=2000, max_depth=3, learning_rate=0.05, colsample_bytree=0.5)\n",
    "    \n",
    "clf.fit(X_train, y_train)\n",
    "\n",
    "y_train_pred = clf.predict_proba(X_train)[:,1]    \n",
    "y_test_pred = clf.predict_proba(X_test)[:,1]\n",
    "\n",
    "train_fpr, train_tpr, tr_thresholds = roc_curve(y_train, y_train_pred)\n",
    "test_fpr, test_tpr, te_thresholds = roc_curve(y_test, y_test_pred)\n",
    "\n",
    "\n",
    "plt.plot(train_fpr, train_tpr, label=\"Train AUC =\"+str(auc(train_fpr, train_tpr)))\n",
    "plt.plot(test_fpr, test_tpr, label=\"Test AUC =\"+str(auc(test_fpr, test_tpr)))\n",
    "plt.legend()\n",
    "plt.xlabel(\"Flase Positive Rate(TPR)\")\n",
    "plt.ylabel(\"True Positive Rate(FPR)\")\n",
    "plt.title(\"AUC\")\n",
    "plt.grid()\n",
    "plt.show()\n",
    "\n",
    "print(\"-\"*70)\n",
    "\n",
    "\n",
    "print(\"Train accuracy: \",clf.score(X_train, y_train))\n",
    "print(\"Test accuracy: \",clf.score(X_test, y_test))\n",
    "\n",
    "print(\"-\"*70)\n",
    "y_train_new = clf.predict(X_train)\n",
    "y_test_new = clf.predict(X_test)\n",
    "print(\"F1-Score on train set: %0.3f\"%(f1_score(y_train, y_train_new)))\n",
    "print(\"F1-Score on test set: %0.3f\"%(f1_score(y_test, y_test_new)))\n",
    "\n",
    "print(\"-\"*70)\n",
    "\n",
    "from sklearn.metrics import confusion_matrix\n",
    "best_t = find_best_threshold(tr_thresholds, train_fpr, train_tpr)\n",
    "\n",
    "print(\"Test confusion matrix\")\n",
    "df_cmte = pd.DataFrame(confusion_matrix(y_test, predict_with_best_t(y_test_pred, best_t)),range(2),range(2))\n",
    "sns.set(font_scale=1.4)#for label size\n",
    "sns.heatmap(df_cmte, annot=True,annot_kws={\"size\": 16}, fmt='g')\n",
    "print(confusion_matrix(y_test, predict_with_best_t(y_test_pred, best_t)))"
   ]
  },
  {
   "cell_type": "markdown",
   "metadata": {
    "colab_type": "text",
    "id": "2pHha2bcMLO-"
   },
   "source": [
    "### Stacked Classifier (Logistic regression, SVM, Naive bayes)"
   ]
  },
  {
   "cell_type": "code",
   "execution_count": 0,
   "metadata": {
    "colab": {
     "base_uri": "https://localhost:8080/",
     "height": 766
    },
    "colab_type": "code",
    "id": "fJ-as9pWMKMM",
    "outputId": "49e168b5-ae02-482a-eef9-3cb4218e50bb"
   },
   "outputs": [
    {
     "data": {
      "image/png": "[encoded data removed]",
      "text/plain": [
       "<Figure size 432x288 with 1 Axes>"
      ]
     },
     "metadata": {
      "tags": []
     },
     "output_type": "display_data"
    },
    {
     "name": "stdout",
     "output_type": "stream",
     "text": [
      "----------------------------------------------------------------------\n",
      "Train accuracy:  0.8832116788321168\n",
      "Test accuracy:  0.8822293486674776\n",
      "----------------------------------------------------------------------\n",
      "F1-Score on train set: 0.000\n",
      "F1-Score on test set: 0.000\n",
      "----------------------------------------------------------------------\n",
      "the maximum value of tpr*(1-fpr) 0.501752623198552 for threshold 0.116\n",
      "Test confusion matrix\n",
      "[[5972 2006]\n",
      " [ 393  672]]\n"
     ]
    },
    {
     "data": {
      "image/png": "[encoded data removed]",
      "text/plain": [
       "<Figure size 432x288 with 2 Axes>"
      ]
     },
     "metadata": {
      "tags": []
     },
     "output_type": "display_data"
    }
   ],
   "source": [
    "from mlxtend.classifier import StackingClassifier\n",
    "\n",
    "clf1 = SGDClassifier(alpha=0.001, penalty='l2', loss='log', class_weight='balanced', random_state=0)\n",
    "clf1.fit(X_train, y_train)\n",
    "sig_clf1 = CalibratedClassifierCV(clf1, method=\"sigmoid\")\n",
    "\n",
    "clf2 = SGDClassifier(alpha=1, penalty='l2', loss='hinge', class_weight='balanced', random_state=0)\n",
    "clf2.fit(X_train, y_train)\n",
    "sig_clf2 = CalibratedClassifierCV(clf2, method=\"sigmoid\")\n",
    "\n",
    "\n",
    "sig_clf1.fit(X_train, y_train)\n",
    "\n",
    "sig_clf2.fit(X_train, y_train)\n",
    "\n",
    "lr = LogisticRegression(C=0.001)\n",
    "\n",
    "sclf = StackingClassifier(classifiers=[sig_clf1, sig_clf2], meta_classifier=lr, use_probas=True)\n",
    "sclf.fit(X_train, y_train)\n",
    "\n",
    "y_train_pred = sclf.predict_proba(X_train)[:,1]    \n",
    "y_test_pred = sclf.predict_proba(X_test)[:,1]\n",
    "\n",
    "train_fpr, train_tpr, tr_thresholds = roc_curve(y_train, y_train_pred)\n",
    "test_fpr, test_tpr, te_thresholds = roc_curve(y_test, y_test_pred)\n",
    "\n",
    "\n",
    "plt.plot(train_fpr, train_tpr, label=\"Train AUC =\"+str(auc(train_fpr, train_tpr)))\n",
    "plt.plot(test_fpr, test_tpr, label=\"Test AUC =\"+str(auc(test_fpr, test_tpr)))\n",
    "plt.legend()\n",
    "plt.xlabel(\"Flase Positive Rate(TPR)\")\n",
    "plt.ylabel(\"True Positive Rate(FPR)\")\n",
    "plt.title(\"AUC\")\n",
    "plt.grid()\n",
    "plt.show()\n",
    "\n",
    "print(\"-\"*70)\n",
    "\n",
    "\n",
    "print(\"Train accuracy: \",sclf.score(X_train, y_train))\n",
    "print(\"Test accuracy: \",sclf.score(X_test, y_test))\n",
    "\n",
    "\n",
    "print(\"-\"*70)\n",
    "y_train_new = sclf.predict(X_train)\n",
    "y_test_new = sclf.predict(X_test)\n",
    "print(\"F1-Score on train set: %0.3f\"%(f1_score(y_train, y_train_new)))\n",
    "print(\"F1-Score on test set: %0.3f\"%(f1_score(y_test, y_test_new)))\n",
    "\n",
    "print(\"-\"*70)\n",
    "\n",
    "from sklearn.metrics import confusion_matrix\n",
    "best_t = find_best_threshold(tr_thresholds, train_fpr, train_tpr)\n",
    "\n",
    "print(\"Test confusion matrix\")\n",
    "df_cmte = pd.DataFrame(confusion_matrix(y_test, predict_with_best_t(y_test_pred, best_t)),range(2),range(2))\n",
    "sns.set(font_scale=1.4)#for label size\n",
    "sns.heatmap(df_cmte, annot=True,annot_kws={\"size\": 16}, fmt='g')\n",
    "print(confusion_matrix(y_test, predict_with_best_t(y_test_pred, best_t)))\n",
    "\n",
    "\n"
   ]
  },
  {
   "cell_type": "markdown",
   "metadata": {
    "colab_type": "text",
    "id": "wzNlwQ24NVp0"
   },
   "source": [
    "## Summary of model performance"
   ]
  },
  {
   "cell_type": "code",
   "execution_count": 0,
   "metadata": {
    "colab": {
     "base_uri": "https://localhost:8080/",
     "height": 159
    },
    "colab_type": "code",
    "id": "rPHV9QpgNbcP",
    "outputId": "a87f80e4-3d66-435e-a8db-493e30fb5e4b"
   },
   "outputs": [
    {
     "name": "stdout",
     "output_type": "stream",
     "text": [
      "+------------------------+-----------+----------+------------------------+-----------------------+----------------+---------------+\n",
      "|         Model          | Train AUC | Test AUC | Accuracy on train data | Accuracy on test data | F1 Score train | F1 score test |\n",
      "+------------------------+-----------+----------+------------------------+-----------------------+----------------+---------------+\n",
      "|  Logistic regression   |    0.7    |   0.69   |         84.1%          |         83.6%         |      0.27      |      0.26     |\n",
      "| Support vector machine |    0.7    |   0.69   |          88%           |          88%          |      0.21      |      0.23     |\n",
      "|   XGBoost Classifier   |    0.83   |   0.78   |         90.4%          |         89.2%         |     0.423      |     0.349     |\n",
      "|   Stacked Classifier   |    0.77   |   0.75   |          88%           |          88%          |       0        |       0       |\n",
      "+------------------------+-----------+----------+------------------------+-----------------------+----------------+---------------+\n"
     ]
    }
   ],
   "source": [
    "from prettytable import PrettyTable\n",
    "    \n",
    "x = PrettyTable()\n",
    "\n",
    "x.field_names = [\"Model\", \"Train AUC\", \"Test AUC\",\"Accuracy on train data\",\"Accuracy on test data\",\"F1 Score train\",\"F1 score test\"]\n",
    "x.add_row([\"Logistic regression\",0.70,0.69,\"84.1%\",\"83.6%\",0.27,0.26])\n",
    "x.add_row([\"Support vector machine\",0.70,0.69,\"88%\",\"88%\",0.21,0.23])\n",
    "x.add_row([\"XGBoost Classifier\",0.83,0.78,\"90.4%\",\"89.2%\",0.423,0.349])\n",
    "x.add_row([\"Stacked Classifier\",0.77,0.75,\"88%\",\"88%\",0,0])\n",
    "\n",
    "\n",
    "print(x)"
   ]
  },
  {
   "cell_type": "markdown",
   "metadata": {
    "colab_type": "text",
    "id": "YMnV-2Z8Qwky"
   },
   "source": [
    "XGBoost Model has performed better than other models"
   ]
  },
  {
   "cell_type": "markdown",
   "metadata": {
    "colab_type": "text",
    "id": "9Da3TVMMQcD6"
   },
   "source": [
    "### Further aaproaches that can be used to improve accuracy are:\n",
    "\n",
    "1. Using CNN or RNN models or the combination of both.\n",
    "2. We can derive advance features from the data and use it on the classfiers"
   ]
  },
  {
   "cell_type": "code",
   "execution_count": 117,
   "metadata": {
    "colab": {},
    "colab_type": "code",
    "id": "pjksRU8oRU5M"
   },
   "outputs": [],
   "source": [
    "import pandas as pd\n",
    "import numpy as np\n",
    "\n",
    "# Importing libraries\n",
    "from keras.models import Sequential\n",
    "from keras.layers import CuDNNLSTM, LSTM\n",
    "from keras.layers.core import Dense, Dropout\n",
    "from keras.layers import BatchNormalization\n",
    "from keras.initializers import he_normal\n",
    "from keras.regularizers import l2\n",
    "from keras.layers import Activation,Conv1D,MaxPool1D, Dense, Dropout, Flatten\n",
    "from keras.layers import MaxPooling1D\n",
    "from sklearn.model_selection import train_test_split"
   ]
  },
  {
   "cell_type": "code",
   "execution_count": 33,
   "metadata": {
    "colab": {},
    "colab_type": "code",
    "id": "YU1hVAnIRjTj"
   },
   "outputs": [],
   "source": [
    "# Initializing parameters\n",
    "epochs = 40\n",
    "batch_size = 64\n",
    "n_hidden = 32"
   ]
  },
  {
   "cell_type": "code",
   "execution_count": 129,
   "metadata": {},
   "outputs": [],
   "source": [
    "X_train,X_cv,y_train,y_cv = train_test_split(X_train, y_train , stratify = y_train, train_size = 0.8)"
   ]
  },
  {
   "cell_type": "code",
   "execution_count": 135,
   "metadata": {},
   "outputs": [
    {
     "name": "stdout",
     "output_type": "stream",
     "text": [
      "(28934, 79) (9043, 79) (7234, 79)\n"
     ]
    }
   ],
   "source": [
    "X_train = X_train.todense()\n",
    "X_test = X_test.todense()\n",
    "X_cv = X_cv.todense()\n",
    "\n",
    "print(X_train.shape, X_test.shape, X_cv.shape)"
   ]
  },
  {
   "cell_type": "code",
   "execution_count": 136,
   "metadata": {},
   "outputs": [],
   "source": [
    "X_train = np.resize(X_train, new_shape=(28934,79,1))\n",
    "X_test = np.resize(X_test, new_shape=(9043,79,1))\n",
    "X_cv = np.resize(X_cv, new_shape=(7234,79,1))"
   ]
  },
  {
   "cell_type": "code",
   "execution_count": 139,
   "metadata": {},
   "outputs": [],
   "source": [
    "from keras.utils import to_categorical\n",
    "y_train = to_categorical(y_train)\n",
    "y_test = to_categorical(y_test)\n",
    "y_cv = to_categorical(y_cv)"
   ]
  },
  {
   "cell_type": "code",
   "execution_count": 148,
   "metadata": {
    "colab": {
     "base_uri": "https://localhost:8080/",
     "height": 372
    },
    "colab_type": "code",
    "id": "roBmyHu7Rmb9",
    "outputId": "0958d333-9c2d-4f20-f74d-6fe443f4ad3c"
   },
   "outputs": [
    {
     "name": "stdout",
     "output_type": "stream",
     "text": [
      "_________________________________________________________________\n",
      "Layer (type)                 Output Shape              Param #   \n",
      "=================================================================\n",
      "other_input (InputLayer)     (None, 79, 1)             0         \n",
      "_________________________________________________________________\n",
      "conv1d_17 (Conv1D)           (None, 77, 32)            128       \n",
      "_________________________________________________________________\n",
      "cu_dnnlstm_4 (CuDNNLSTM)     (None, 77, 64)            25088     \n",
      "_________________________________________________________________\n",
      "flatten_8 (Flatten)          (None, 4928)              0         \n",
      "_________________________________________________________________\n",
      "dense_32 (Dense)             (None, 64)                315456    \n",
      "_________________________________________________________________\n",
      "dropout_14 (Dropout)         (None, 64)                0         \n",
      "_________________________________________________________________\n",
      "batch_normalization_13 (Batc (None, 64)                256       \n",
      "_________________________________________________________________\n",
      "dense_33 (Dense)             (None, 126)               8190      \n",
      "_________________________________________________________________\n",
      "dense_34 (Dense)             (None, 2)                 254       \n",
      "=================================================================\n",
      "Total params: 349,372\n",
      "Trainable params: 349,244\n",
      "Non-trainable params: 128\n",
      "_________________________________________________________________\n",
      "None\n"
     ]
    }
   ],
   "source": [
    "import keras\n",
    "from keras.callbacks import Callback, EarlyStopping,ModelCheckpoint\n",
    "from keras.layers import Flatten, Reshape\n",
    "from keras.layers import concatenate, GRU, Input\n",
    "from keras.models import Model\n",
    "from time import time\n",
    "from keras.callbacks import TensorBoard\n",
    "\n",
    "# define CNN model\n",
    "inputs = Input(shape=(79,1),name=\"other_input\")\n",
    "x = Conv1D(filters=32,kernel_size=3,strides=1)(inputs)\n",
    "x = CuDNNLSTM(64,return_sequences=True)(x)\n",
    "x = Flatten()(x)\n",
    "\n",
    "x = Dense(64,activation='relu',kernel_initializer=he_normal(),kernel_regularizer=l2(0.0001))(x)\n",
    "x = Dropout(0.3)(x)\n",
    "x = BatchNormalization()(x)\n",
    "x = Dense(126,activation='relu',kernel_initializer=he_normal(),kernel_regularizer=l2(0.0001))(x)\n",
    "\n",
    "output = Dense(2, activation = 'softmax')(x)\n",
    " \n",
    "model = Model(inputs, output)\n",
    "\n",
    "#To visualize, run -  tensorboard --log_dir=logs/ in command prompt\n",
    "\n",
    "tensorboard = TensorBoard(log_dir=\"logs/\".format(time))\n",
    "\n",
    "model.compile(loss=\"categorical_crossentropy\", optimizer=keras.optimizers.Adam(lr=0.0006,decay = 1e-4), metrics=['accuracy'])\n",
    "print(model.summary())"
   ]
  },
  {
   "cell_type": "code",
   "execution_count": 149,
   "metadata": {
    "colab": {},
    "colab_type": "code",
    "id": "NNXtyKx9Rs7X"
   },
   "outputs": [
    {
     "name": "stdout",
     "output_type": "stream",
     "text": [
      "Train on 28934 samples, validate on 7234 samples\n",
      "Epoch 1/30\n",
      "28934/28934 [==============================] - 6s 209us/step - loss: 0.3646 - acc: 0.8828 - val_loss: 0.3404 - val_acc: 0.8889\n",
      "\n",
      "Epoch 00001: val_acc improved from -inf to 0.88886, saving model to weights.hdf5\n",
      "Epoch 2/30\n",
      "28934/28934 [==============================] - 5s 159us/step - loss: 0.3378 - acc: 0.8884 - val_loss: 0.3632 - val_acc: 0.8875\n",
      "\n",
      "Epoch 00002: val_acc did not improve from 0.88886\n",
      "Epoch 3/30\n",
      "28934/28934 [==============================] - 4s 155us/step - loss: 0.3298 - acc: 0.8899 - val_loss: 0.3328 - val_acc: 0.8900\n",
      "\n",
      "Epoch 00003: val_acc improved from 0.88886 to 0.88996, saving model to weights.hdf5\n",
      "Epoch 4/30\n",
      "28934/28934 [==============================] - 5s 156us/step - loss: 0.3212 - acc: 0.8904 - val_loss: 0.3177 - val_acc: 0.8925\n",
      "\n",
      "Epoch 00004: val_acc improved from 0.88996 to 0.89245, saving model to weights.hdf5\n",
      "Epoch 5/30\n",
      "28934/28934 [==============================] - 8s 262us/step - loss: 0.3166 - acc: 0.8916 - val_loss: 0.3176 - val_acc: 0.8883\n",
      "\n",
      "Epoch 00005: val_acc did not improve from 0.89245\n",
      "Epoch 6/30\n",
      "28934/28934 [==============================] - 5s 160us/step - loss: 0.3146 - acc: 0.8930 - val_loss: 0.3168 - val_acc: 0.8879\n",
      "\n",
      "Epoch 00006: val_acc did not improve from 0.89245\n",
      "Epoch 7/30\n",
      "28934/28934 [==============================] - 5s 162us/step - loss: 0.3112 - acc: 0.8918 - val_loss: 0.3137 - val_acc: 0.8919\n",
      "\n",
      "Epoch 00007: val_acc did not improve from 0.89245\n",
      "Epoch 8/30\n",
      "28934/28934 [==============================] - 4s 150us/step - loss: 0.3090 - acc: 0.8921 - val_loss: 0.3236 - val_acc: 0.8862\n",
      "\n",
      "Epoch 00008: val_acc did not improve from 0.89245\n",
      "Epoch 9/30\n",
      "28934/28934 [==============================] - 5s 168us/step - loss: 0.3073 - acc: 0.8924 - val_loss: 0.3093 - val_acc: 0.8911\n",
      "\n",
      "Epoch 00009: val_acc did not improve from 0.89245\n",
      "Epoch 10/30\n",
      "28934/28934 [==============================] - 5s 162us/step - loss: 0.3043 - acc: 0.8939 - val_loss: 0.3123 - val_acc: 0.8880\n",
      "\n",
      "Epoch 00010: val_acc did not improve from 0.89245\n",
      "Epoch 11/30\n",
      "28934/28934 [==============================] - 5s 184us/step - loss: 0.3037 - acc: 0.8929 - val_loss: 0.3083 - val_acc: 0.8897\n",
      "\n",
      "Epoch 00011: val_acc did not improve from 0.89245\n",
      "Epoch 12/30\n",
      "28934/28934 [==============================] - 4s 150us/step - loss: 0.3020 - acc: 0.8936 - val_loss: 0.3097 - val_acc: 0.8891\n",
      "\n",
      "Epoch 00012: val_acc did not improve from 0.89245\n",
      "Epoch 13/30\n",
      "28934/28934 [==============================] - 4s 154us/step - loss: 0.3000 - acc: 0.8947 - val_loss: 0.3119 - val_acc: 0.8918\n",
      "\n",
      "Epoch 00013: val_acc did not improve from 0.89245\n",
      "Epoch 14/30\n",
      "28934/28934 [==============================] - 5s 166us/step - loss: 0.3002 - acc: 0.8947 - val_loss: 0.3069 - val_acc: 0.8920\n",
      "\n",
      "Epoch 00014: val_acc did not improve from 0.89245\n",
      "Epoch 15/30\n",
      "28934/28934 [==============================] - 7s 258us/step - loss: 0.2984 - acc: 0.8952 - val_loss: 0.3066 - val_acc: 0.8902\n",
      "\n",
      "Epoch 00015: val_acc did not improve from 0.89245\n",
      "Epoch 16/30\n",
      "28934/28934 [==============================] - 5s 183us/step - loss: 0.2961 - acc: 0.8944 - val_loss: 0.3020 - val_acc: 0.8897\n",
      "\n",
      "Epoch 00016: val_acc did not improve from 0.89245\n",
      "Epoch 17/30\n",
      "28934/28934 [==============================] - 5s 169us/step - loss: 0.2955 - acc: 0.8939 - val_loss: 0.3052 - val_acc: 0.8909\n",
      "\n",
      "Epoch 00017: val_acc did not improve from 0.89245\n",
      "Epoch 18/30\n",
      "28934/28934 [==============================] - 5s 163us/step - loss: 0.2955 - acc: 0.8950 - val_loss: 0.3055 - val_acc: 0.8907\n",
      "\n",
      "Epoch 00018: val_acc did not improve from 0.89245\n",
      "Epoch 19/30\n",
      "28934/28934 [==============================] - 5s 160us/step - loss: 0.2925 - acc: 0.8967 - val_loss: 0.3016 - val_acc: 0.8926\n",
      "\n",
      "Epoch 00019: val_acc improved from 0.89245 to 0.89259, saving model to weights.hdf5\n",
      "Epoch 20/30\n",
      "28934/28934 [==============================] - 5s 166us/step - loss: 0.2930 - acc: 0.8950 - val_loss: 0.3043 - val_acc: 0.8920\n",
      "\n",
      "Epoch 00020: val_acc did not improve from 0.89259\n",
      "Epoch 21/30\n",
      "28934/28934 [==============================] - 5s 165us/step - loss: 0.2910 - acc: 0.8960 - val_loss: 0.3011 - val_acc: 0.8905\n",
      "\n",
      "Epoch 00021: val_acc did not improve from 0.89259\n",
      "Epoch 22/30\n",
      "28934/28934 [==============================] - 4s 150us/step - loss: 0.2902 - acc: 0.8962 - val_loss: 0.3060 - val_acc: 0.8912\n",
      "\n",
      "Epoch 00022: val_acc did not improve from 0.89259\n",
      "Epoch 23/30\n",
      "28934/28934 [==============================] - 5s 162us/step - loss: 0.2890 - acc: 0.8977 - val_loss: 0.3010 - val_acc: 0.8912\n",
      "\n",
      "Epoch 00023: val_acc did not improve from 0.89259\n",
      "Epoch 24/30\n",
      "28934/28934 [==============================] - 5s 158us/step - loss: 0.2884 - acc: 0.8975 - val_loss: 0.3015 - val_acc: 0.8915\n",
      "\n",
      "Epoch 00024: val_acc did not improve from 0.89259\n",
      "Epoch 25/30\n",
      "28934/28934 [==============================] - 5s 162us/step - loss: 0.2886 - acc: 0.8955 - val_loss: 0.3027 - val_acc: 0.8905\n",
      "\n",
      "Epoch 00025: val_acc did not improve from 0.89259\n",
      "Epoch 26/30\n",
      "28934/28934 [==============================] - 4s 151us/step - loss: 0.2865 - acc: 0.8976 - val_loss: 0.3029 - val_acc: 0.8897\n",
      "\n",
      "Epoch 00026: val_acc did not improve from 0.89259\n",
      "Epoch 27/30\n",
      "28934/28934 [==============================] - 4s 153us/step - loss: 0.2868 - acc: 0.8978 - val_loss: 0.3025 - val_acc: 0.8905\n",
      "\n",
      "Epoch 00027: val_acc did not improve from 0.89259\n",
      "Epoch 28/30\n",
      "28934/28934 [==============================] - 5s 169us/step - loss: 0.2852 - acc: 0.8974 - val_loss: 0.3029 - val_acc: 0.8898\n",
      "\n",
      "Epoch 00028: val_acc did not improve from 0.89259\n",
      "Epoch 29/30\n",
      "28934/28934 [==============================] - 5s 174us/step - loss: 0.2837 - acc: 0.9002 - val_loss: 0.3062 - val_acc: 0.8918\n",
      "\n",
      "Epoch 00029: val_acc did not improve from 0.89259\n",
      "Epoch 30/30\n",
      "28934/28934 [==============================] - 4s 152us/step - loss: 0.2825 - acc: 0.8977 - val_loss: 0.3029 - val_acc: 0.8911\n",
      "\n",
      "Epoch 00030: val_acc did not improve from 0.89259\n"
     ]
    },
    {
     "data": {
      "text/plain": [
       "<keras.callbacks.History at 0x1f8b253f748>"
      ]
     },
     "execution_count": 149,
     "metadata": {},
     "output_type": "execute_result"
    }
   ],
   "source": [
    "filepath=\"weights.hdf5\"\n",
    "checkpoint = ModelCheckpoint(filepath, monitor='val_acc', verbose=1, save_best_only=True, mode='max')\n",
    "\n",
    "model.fit(X_train, y_train, epochs=30, verbose=1, batch_size=100, validation_data=(X_cv, y_cv), callbacks=[tensorboard,checkpoint])"
   ]
  },
  {
   "cell_type": "code",
   "execution_count": 150,
   "metadata": {},
   "outputs": [],
   "source": [
    "prediction = model.predict(X_test)"
   ]
  },
  {
   "cell_type": "code",
   "execution_count": 151,
   "metadata": {},
   "outputs": [
    {
     "data": {
      "text/plain": [
       "array([[0.17366222, 0.8263378 ],\n",
       "       [0.9457297 , 0.05427029],\n",
       "       [0.9406856 , 0.05931438],\n",
       "       ...,\n",
       "       [0.7895888 , 0.2104112 ],\n",
       "       [0.9014441 , 0.09855588],\n",
       "       [0.9161622 , 0.08383785]], dtype=float32)"
      ]
     },
     "execution_count": 151,
     "metadata": {},
     "output_type": "execute_result"
    }
   ],
   "source": [
    "prediction"
   ]
  },
  {
   "cell_type": "markdown",
   "metadata": {},
   "source": [
    "----Done"
   ]
  }
 ],
 "metadata": {
  "accelerator": "GPU",
  "colab": {
   "collapsed_sections": [],
   "name": "Copy of Untitled",
   "provenance": []
  },
  "kernelspec": {
   "display_name": "Python 3",
   "language": "python",
   "name": "python3"
  },
  "language_info": {
   "codemirror_mode": {
    "name": "ipython",
    "version": 3
   },
   "file_extension": ".py",
   "mimetype": "text/x-python",
   "name": "python",
   "nbconvert_exporter": "python",
   "pygments_lexer": "ipython3",
   "version": "3.6.9"
  }
 },
 "nbformat": 4,
 "nbformat_minor": 1
}
