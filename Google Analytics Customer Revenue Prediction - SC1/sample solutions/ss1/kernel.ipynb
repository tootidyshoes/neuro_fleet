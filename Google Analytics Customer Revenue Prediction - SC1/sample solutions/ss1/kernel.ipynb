{
 "cells": [
  {
   "cell_type": "markdown",
   "metadata": {
    "_uuid": "26ba695e833e3cf8e2cc05579f85b93ff380b9e8"
   },
   "source": [
    "        Data Fields\n",
    "\n",
    "**[] fullVisitorId**- A unique identifier for each user of the Google Merchandise Store.\n",
    "\n",
    "**[x] channelGrouping** - The channel via which the user came to the Store. \n",
    "\n",
    "**[] date** - The date on which the user visited the Store.\n",
    "\n",
    "**[x] device** - The specifications for the device used to access the Store.\n",
    "\n",
    "**[x] geoNetwork** - This section contains information about the geography of the user.\n",
    "\n",
    "**[] sessionId** - A unique identifier for this visit to the store.\n",
    "\n",
    "**[x] socialEngagementType** - Engagement type, either \"Socially Engaged\" or \"Not Socially Engaged\".\n",
    "\n",
    "**[x] totals** - This section contains aggregate values across the session.\n",
    "\n",
    "**[x] trafficSource** - This section contains information about the Traffic Source from which the session originated.\n",
    "\n",
    "**[] visitId** - An identifier for this session. This is part of the value usually stored as the _utmb cookie. This is only unique to the user. For a completely unique ID, you should use a combination of fullVisitorId and visitId.\n",
    "\n",
    "**[] visitNumber** - The session number for this user. If this is the first session, then this is set to 1.\n",
    "\n",
    "**[] visitStartTime** - The timestamp (expressed as POSIX time)."
   ]
  },
  {
   "cell_type": "code",
   "execution_count": 88,
   "metadata": {
    "_kg_hide-input": false,
    "_uuid": "3b9d046fbb5577d119f0b4748b396f23bd205d40"
   },
   "outputs": [],
   "source": [
    "import pandas as pd\n",
    "import os\n",
    "import json\n",
    "import numpy as np\n",
    "import pandas as pd\n",
    "from pandas.io.json import json_normalize"
   ]
  },
  {
   "cell_type": "code",
   "execution_count": 89,
   "metadata": {
    "_cell_guid": "b1076dfc-b9ad-4769-8c92-a6c4dae69d19",
    "_uuid": "8f2839f25d086af736a60e9eeb907d3b93b6e0e5"
   },
   "outputs": [
    {
     "name": "stdout",
     "output_type": "stream",
     "text": [
      "['train.csv', 'sample_submission.csv', 'test.csv']\n"
     ]
    }
   ],
   "source": [
    "def load_df(csv_path='../input/train.csv', nrows=None):\n",
    "    JSON_COLUMNS = ['device', 'geoNetwork', 'totals', 'trafficSource']\n",
    "    \n",
    "    df = pd.read_csv(csv_path, \n",
    "                     converters={column: json.loads for column in JSON_COLUMNS}, \n",
    "                     dtype={'fullVisitorId': 'str'}, # Important!!\n",
    "                     nrows=nrows)\n",
    "    \n",
    "    for column in JSON_COLUMNS:\n",
    "        column_as_df = json_normalize(df[column])\n",
    "        column_as_df.columns = [f\"{column}.{subcolumn}\" for subcolumn in column_as_df.columns]\n",
    "        df = df.drop(column, axis=1).merge(column_as_df, right_index=True, left_index=True)\n",
    "    print(f\"Loaded {os.path.basename(csv_path)}. Shape: {df.shape}\")\n",
    "    return df\n",
    "\n",
    "print(os.listdir(\"../input\"))"
   ]
  },
  {
   "cell_type": "code",
   "execution_count": 90,
   "metadata": {
    "_cell_guid": "79c7e3d0-c299-4dcb-8224-4455121ee9b0",
    "_uuid": "d629ff2d2480ee46fbb7e2d37f6b5fab8052498a"
   },
   "outputs": [
    {
     "name": "stdout",
     "output_type": "stream",
     "text": [
      "Loaded train.csv. Shape: (903653, 55)\n",
      "Loaded test.csv. Shape: (804684, 53)\n",
      "Loaded train.csv. Shape: (20000, 54)\n",
      "CPU times: user 4min 59s, sys: 4.07 s, total: 5min 3s\n",
      "Wall time: 5min 3s\n"
     ]
    }
   ],
   "source": [
    "%%time\n",
    "train_df = load_df()\n",
    "test_df = load_df(\"../input/test.csv\")\n",
    "train_df.head(10)\n",
    "# df_small = load_df(nrows=20000)"
   ]
  },
  {
   "cell_type": "code",
   "execution_count": 91,
   "metadata": {
    "_uuid": "38ae2e6c6c74c9127e31613a5b44f55ddf97d6de"
   },
   "outputs": [],
   "source": [
    "train_origin = train_df.copy()\n",
    "test_origin = test_df.copy()"
   ]
  },
  {
   "cell_type": "markdown",
   "metadata": {
    "_uuid": "bd34562543a04dc936a4f0a1db35f6a9b75070c3"
   },
   "source": [
    "**Remove target from traning set**\n",
    "\n",
    "The target we want to predict, transactionRevenue, is contained in one of the JSON columns, ie. the totals column. While loading the dataset, it was renamed as totals.transactionRevenue. The target only contains a few non-null values and before taking its log, we fill the NAs:"
   ]
  },
  {
   "cell_type": "code",
   "execution_count": 92,
   "metadata": {
    "_uuid": "86a849f6b613897a84fe9673dfc8b83a587d13c5"
   },
   "outputs": [],
   "source": [
    "target = train_df['totals.transactionRevenue'].fillna(0).astype(float)\n",
    "target = target.apply(lambda x: np.log1p(x))\n",
    "if 'totals.transactionRevenue' in train_df.columns:\n",
    "    del train_df['totals.transactionRevenue']"
   ]
  },
  {
   "cell_type": "code",
   "execution_count": 93,
   "metadata": {
    "_uuid": "65dcf1f8b93ba88210d8f0bef2707c294502b90c"
   },
   "outputs": [],
   "source": [
    "# Remove targe from tesint\n",
    "if 'totals.transactionRevenue' in test_df.columns:\n",
    "    del test_df['totals.transactionRevenue']"
   ]
  },
  {
   "cell_type": "markdown",
   "metadata": {
    "_uuid": "8ba11d737af557395db01680ea7e373261731229"
   },
   "source": [
    "**Distribution of target**"
   ]
  },
  {
   "cell_type": "code",
   "execution_count": 94,
   "metadata": {
    "_uuid": "29da0657faf9ecd85e1fef936671b905b591f313"
   },
   "outputs": [
    {
     "name": "stderr",
     "output_type": "stream",
     "text": [
      "/opt/conda/lib/python3.6/site-packages/scipy/stats/stats.py:1713: FutureWarning: Using a non-tuple sequence for multidimensional indexing is deprecated; use `arr[tuple(seq)]` instead of `arr[seq]`. In the future this will be interpreted as an array index, `arr[np.array(seq)]`, which will result either in an error or a different result.\n",
      "  return np.add.reduce(sorted[indexer] * weights, axis=axis) / sumval\n"
     ]
    },
    {
     "data": {
      "image/png": "[encoded data removed]",
      "text/plain": [
       "<Figure size 432x288 with 1 Axes>"
      ]
     },
     "metadata": {},
     "output_type": "display_data"
    }
   ],
   "source": [
    "import seaborn as sns\n",
    "import matplotlib.pyplot as plt\n",
    "from scipy import stats\n",
    "\n",
    "sns.set(color_codes=True)\n",
    "sns.distplot(target, kde=False, rug=True);"
   ]
  },
  {
   "cell_type": "markdown",
   "metadata": {
    "_uuid": "664ad9839a9f2d17f749e1e4bc1de58c1333852b"
   },
   "source": [
    "**Show columns of dataset**"
   ]
  },
  {
   "cell_type": "code",
   "execution_count": 95,
   "metadata": {
    "_uuid": "9eb281233be75c1ef94214b0f47edf02a92d603e"
   },
   "outputs": [
    {
     "data": {
      "text/plain": [
       "Index(['channelGrouping', 'date', 'fullVisitorId', 'sessionId',\n",
       "       'socialEngagementType', 'visitId', 'visitNumber', 'visitStartTime',\n",
       "       'device.browser', 'device.browserSize', 'device.browserVersion',\n",
       "       'device.deviceCategory', 'device.flashVersion', 'device.isMobile',\n",
       "       'device.language', 'device.mobileDeviceBranding',\n",
       "       'device.mobileDeviceInfo', 'device.mobileDeviceMarketingName',\n",
       "       'device.mobileDeviceModel', 'device.mobileInputSelector',\n",
       "       'device.operatingSystem', 'device.operatingSystemVersion',\n",
       "       'device.screenColors', 'device.screenResolution', 'geoNetwork.city',\n",
       "       'geoNetwork.cityId', 'geoNetwork.continent', 'geoNetwork.country',\n",
       "       'geoNetwork.latitude', 'geoNetwork.longitude', 'geoNetwork.metro',\n",
       "       'geoNetwork.networkDomain', 'geoNetwork.networkLocation',\n",
       "       'geoNetwork.region', 'geoNetwork.subContinent', 'totals.bounces',\n",
       "       'totals.hits', 'totals.newVisits', 'totals.pageviews', 'totals.visits',\n",
       "       'trafficSource.adContent',\n",
       "       'trafficSource.adwordsClickInfo.adNetworkType',\n",
       "       'trafficSource.adwordsClickInfo.criteriaParameters',\n",
       "       'trafficSource.adwordsClickInfo.gclId',\n",
       "       'trafficSource.adwordsClickInfo.isVideoAd',\n",
       "       'trafficSource.adwordsClickInfo.page',\n",
       "       'trafficSource.adwordsClickInfo.slot', 'trafficSource.campaign',\n",
       "       'trafficSource.campaignCode', 'trafficSource.isTrueDirect',\n",
       "       'trafficSource.keyword', 'trafficSource.medium',\n",
       "       'trafficSource.referralPath', 'trafficSource.source'],\n",
       "      dtype='object')"
      ]
     },
     "execution_count": 95,
     "metadata": {},
     "output_type": "execute_result"
    }
   ],
   "source": [
    "train_df.columns"
   ]
  },
  {
   "cell_type": "code",
   "execution_count": 96,
   "metadata": {
    "_uuid": "62cc9cd70c0c67e6b741b7be717f6779b9af402d"
   },
   "outputs": [
    {
     "data": {
      "text/plain": [
       "Index(['channelGrouping', 'date', 'fullVisitorId', 'sessionId',\n",
       "       'socialEngagementType', 'visitId', 'visitNumber', 'visitStartTime',\n",
       "       'device.browser', 'device.browserSize', 'device.browserVersion',\n",
       "       'device.deviceCategory', 'device.flashVersion', 'device.isMobile',\n",
       "       'device.language', 'device.mobileDeviceBranding',\n",
       "       'device.mobileDeviceInfo', 'device.mobileDeviceMarketingName',\n",
       "       'device.mobileDeviceModel', 'device.mobileInputSelector',\n",
       "       'device.operatingSystem', 'device.operatingSystemVersion',\n",
       "       'device.screenColors', 'device.screenResolution', 'geoNetwork.city',\n",
       "       'geoNetwork.cityId', 'geoNetwork.continent', 'geoNetwork.country',\n",
       "       'geoNetwork.latitude', 'geoNetwork.longitude', 'geoNetwork.metro',\n",
       "       'geoNetwork.networkDomain', 'geoNetwork.networkLocation',\n",
       "       'geoNetwork.region', 'geoNetwork.subContinent', 'totals.bounces',\n",
       "       'totals.hits', 'totals.newVisits', 'totals.pageviews', 'totals.visits',\n",
       "       'trafficSource.adContent',\n",
       "       'trafficSource.adwordsClickInfo.adNetworkType',\n",
       "       'trafficSource.adwordsClickInfo.criteriaParameters',\n",
       "       'trafficSource.adwordsClickInfo.gclId',\n",
       "       'trafficSource.adwordsClickInfo.isVideoAd',\n",
       "       'trafficSource.adwordsClickInfo.page',\n",
       "       'trafficSource.adwordsClickInfo.slot', 'trafficSource.campaign',\n",
       "       'trafficSource.isTrueDirect', 'trafficSource.keyword',\n",
       "       'trafficSource.medium', 'trafficSource.referralPath',\n",
       "       'trafficSource.source'],\n",
       "      dtype='object')"
      ]
     },
     "execution_count": 96,
     "metadata": {},
     "output_type": "execute_result"
    }
   ],
   "source": [
    "test_df.columns"
   ]
  },
  {
   "cell_type": "markdown",
   "metadata": {
    "_uuid": "c4fe6d3af19339c350d46417cff9f7620462012a"
   },
   "source": [
    "**Add date feature**"
   ]
  },
  {
   "cell_type": "code",
   "execution_count": 97,
   "metadata": {
    "_uuid": "2bd9f64696a18bdf46642b92a6a78c91eb9583da"
   },
   "outputs": [],
   "source": [
    "for df in [train_df, test_df]:\n",
    "    df['date'] = pd.to_datetime(df['visitStartTime'], unit='s')\n",
    "    df['sess_date_dow'] = df['date'].dt.dayofweek\n",
    "    df['sess_date_hours'] = df['date'].dt.hour\n",
    "    df['sess_date_dom'] = df['date'].dt.day"
   ]
  },
  {
   "cell_type": "code",
   "execution_count": 114,
   "metadata": {
    "_uuid": "8b16ae5f5a7f78f1581ac52717260b1369754343"
   },
   "outputs": [],
   "source": [
    "train_df = train_origin.copy()\n",
    "test_df = test_origin.copy()\n",
    "for df in [train_df, test_df]:\n",
    "    df['date'] = pd.to_datetime(df['visitStartTime'], unit='s')\n",
    "    df['sess_date_dow'] = df['date'].dt.dayofweek\n",
    "    df['sess_date_hours'] = df['date'].dt.hour\n",
    "    df['sess_date_dom'] = df['date'].dt.day"
   ]
  },
  {
   "cell_type": "code",
   "execution_count": 116,
   "metadata": {
    "_uuid": "95c96e7e70f272405ad75e95d0b0b24fd1c6c332"
   },
   "outputs": [
    {
     "data": {
      "text/plain": [
       "((58,), (56,), (55,), (53,))"
      ]
     },
     "execution_count": 116,
     "metadata": {},
     "output_type": "execute_result"
    }
   ],
   "source": [
    "train_df.columns.shape, test_df.columns.shape, train_origin.columns.shape, test_origin.columns.shape"
   ]
  },
  {
   "cell_type": "code",
   "execution_count": 117,
   "metadata": {
    "_uuid": "bf2471bfb65c42d99efc3eb3d2f1be7053244420"
   },
   "outputs": [
    {
     "data": {
      "text/plain": [
       "Index(['channelGrouping', 'date', 'fullVisitorId', 'sessionId',\n",
       "       'socialEngagementType', 'visitId', 'visitNumber', 'visitStartTime',\n",
       "       'device.browser', 'device.browserSize', 'device.browserVersion',\n",
       "       'device.deviceCategory', 'device.flashVersion', 'device.isMobile',\n",
       "       'device.language', 'device.mobileDeviceBranding',\n",
       "       'device.mobileDeviceInfo', 'device.mobileDeviceMarketingName',\n",
       "       'device.mobileDeviceModel', 'device.mobileInputSelector',\n",
       "       'device.operatingSystem', 'device.operatingSystemVersion',\n",
       "       'device.screenColors', 'device.screenResolution', 'geoNetwork.city',\n",
       "       'geoNetwork.cityId', 'geoNetwork.continent', 'geoNetwork.country',\n",
       "       'geoNetwork.latitude', 'geoNetwork.longitude', 'geoNetwork.metro',\n",
       "       'geoNetwork.networkDomain', 'geoNetwork.networkLocation',\n",
       "       'geoNetwork.region', 'geoNetwork.subContinent', 'totals.bounces',\n",
       "       'totals.hits', 'totals.newVisits', 'totals.pageviews',\n",
       "       'totals.transactionRevenue', 'totals.visits', 'trafficSource.adContent',\n",
       "       'trafficSource.adwordsClickInfo.adNetworkType',\n",
       "       'trafficSource.adwordsClickInfo.criteriaParameters',\n",
       "       'trafficSource.adwordsClickInfo.gclId',\n",
       "       'trafficSource.adwordsClickInfo.isVideoAd',\n",
       "       'trafficSource.adwordsClickInfo.page',\n",
       "       'trafficSource.adwordsClickInfo.slot', 'trafficSource.campaign',\n",
       "       'trafficSource.campaignCode', 'trafficSource.isTrueDirect',\n",
       "       'trafficSource.keyword', 'trafficSource.medium',\n",
       "       'trafficSource.referralPath', 'trafficSource.source', 'sess_date_dow',\n",
       "       'sess_date_hours', 'sess_date_dom'],\n",
       "      dtype='object')"
      ]
     },
     "execution_count": 117,
     "metadata": {},
     "output_type": "execute_result"
    }
   ],
   "source": [
    "train_df.columns"
   ]
  },
  {
   "cell_type": "code",
   "execution_count": 99,
   "metadata": {
    "_uuid": "9b08b03344dedf12bc76343cecfa6610ef46eb66"
   },
   "outputs": [
    {
     "data": {
      "image/png": "[encoded data removed]",
      "text/plain": [
       "<Figure size 432x288 with 1 Axes>"
      ]
     },
     "metadata": {},
     "output_type": "display_data"
    }
   ],
   "source": [
    "sns.set(color_codes=True)\n",
    "# distribution by day of week\n",
    "sns.distplot(train_df['sess_date_dow'], kde=False, rug=True);"
   ]
  },
  {
   "cell_type": "code",
   "execution_count": 100,
   "metadata": {
    "_uuid": "bd21c9f5a0e70a203d454d94f84234c24e2f78a5"
   },
   "outputs": [
    {
     "data": {
      "image/png": "[encoded data removed]",
      "text/plain": [
       "<Figure size 432x288 with 1 Axes>"
      ]
     },
     "metadata": {},
     "output_type": "display_data"
    }
   ],
   "source": [
    "# distribution by hour of day\n",
    "sns.distplot(train_df['sess_date_hours'], kde=False, rug=True);"
   ]
  },
  {
   "cell_type": "code",
   "execution_count": 101,
   "metadata": {
    "_uuid": "650d98cfb90d68ddcaed9e0768588ccbd6dfc180"
   },
   "outputs": [
    {
     "data": {
      "image/png": "[encoded data removed]",
      "text/plain": [
       "<Figure size 432x288 with 1 Axes>"
      ]
     },
     "metadata": {},
     "output_type": "display_data"
    }
   ],
   "source": [
    "# distribution by day of month\n",
    "sns.distplot(train_df['sess_date_dom'], kde=False, rug=True);"
   ]
  },
  {
   "cell_type": "markdown",
   "metadata": {
    "_uuid": "7d9890edca08d0947dd79a4ef405631902587f6f"
   },
   "source": [
    "**Create feature list**"
   ]
  },
  {
   "cell_type": "code",
   "execution_count": 119,
   "metadata": {
    "_uuid": "69ad3409813e2285913f61f5d88b5d3eecddec16"
   },
   "outputs": [
    {
     "name": "stdout",
     "output_type": "stream",
     "text": [
      "Number of selected features :  52\n"
     ]
    }
   ],
   "source": [
    "excluded_features = [\n",
    "    'date', 'fullVisitorId', 'sessionId', 'totals.transactionRevenue', \n",
    "    'visitId', 'visitStartTime'\n",
    "]\n",
    "\n",
    "categorical_features = [\n",
    "    _f for _f in train_df.columns\n",
    "    if (_f not in excluded_features) # & (train_df[_f].dtype == 'object')\n",
    "]\n",
    "print(\"Number of selected features : \",len(categorical_features))\n"
   ]
  },
  {
   "cell_type": "code",
   "execution_count": 120,
   "metadata": {
    "_uuid": "f4c194480d8d1fa76c89381df431df9f32e401d1"
   },
   "outputs": [
    {
     "data": {
      "text/plain": [
       "['channelGrouping',\n",
       " 'socialEngagementType',\n",
       " 'visitNumber',\n",
       " 'device.browser',\n",
       " 'device.browserSize',\n",
       " 'device.browserVersion',\n",
       " 'device.deviceCategory',\n",
       " 'device.flashVersion',\n",
       " 'device.isMobile',\n",
       " 'device.language',\n",
       " 'device.mobileDeviceBranding',\n",
       " 'device.mobileDeviceInfo',\n",
       " 'device.mobileDeviceMarketingName',\n",
       " 'device.mobileDeviceModel',\n",
       " 'device.mobileInputSelector',\n",
       " 'device.operatingSystem',\n",
       " 'device.operatingSystemVersion',\n",
       " 'device.screenColors',\n",
       " 'device.screenResolution',\n",
       " 'geoNetwork.city',\n",
       " 'geoNetwork.cityId',\n",
       " 'geoNetwork.continent',\n",
       " 'geoNetwork.country',\n",
       " 'geoNetwork.latitude',\n",
       " 'geoNetwork.longitude',\n",
       " 'geoNetwork.metro',\n",
       " 'geoNetwork.networkDomain',\n",
       " 'geoNetwork.networkLocation',\n",
       " 'geoNetwork.region',\n",
       " 'geoNetwork.subContinent',\n",
       " 'totals.bounces',\n",
       " 'totals.hits',\n",
       " 'totals.newVisits',\n",
       " 'totals.pageviews',\n",
       " 'totals.visits',\n",
       " 'trafficSource.adContent',\n",
       " 'trafficSource.adwordsClickInfo.adNetworkType',\n",
       " 'trafficSource.adwordsClickInfo.criteriaParameters',\n",
       " 'trafficSource.adwordsClickInfo.gclId',\n",
       " 'trafficSource.adwordsClickInfo.isVideoAd',\n",
       " 'trafficSource.adwordsClickInfo.page',\n",
       " 'trafficSource.adwordsClickInfo.slot',\n",
       " 'trafficSource.campaign',\n",
       " 'trafficSource.campaignCode',\n",
       " 'trafficSource.isTrueDirect',\n",
       " 'trafficSource.keyword',\n",
       " 'trafficSource.medium',\n",
       " 'trafficSource.referralPath',\n",
       " 'trafficSource.source',\n",
       " 'sess_date_dow',\n",
       " 'sess_date_hours',\n",
       " 'sess_date_dom']"
      ]
     },
     "execution_count": 120,
     "metadata": {},
     "output_type": "execute_result"
    }
   ],
   "source": [
    "categorical_features"
   ]
  },
  {
   "cell_type": "code",
   "execution_count": 121,
   "metadata": {
    "_uuid": "fa674e099542407fef7c69200f838e12a5ca0552"
   },
   "outputs": [
    {
     "name": "stdout",
     "output_type": "stream",
     "text": [
      "<class 'pandas.core.frame.DataFrame'>\n",
      "RangeIndex: 903653 entries, 0 to 903652\n",
      "Data columns (total 58 columns):\n",
      "channelGrouping                                      903653 non-null object\n",
      "date                                                 903653 non-null datetime64[ns]\n",
      "fullVisitorId                                        903653 non-null object\n",
      "sessionId                                            903653 non-null object\n",
      "socialEngagementType                                 903653 non-null object\n",
      "visitId                                              903653 non-null int64\n",
      "visitNumber                                          903653 non-null int64\n",
      "visitStartTime                                       903653 non-null int64\n",
      "device.browser                                       903653 non-null object\n",
      "device.browserSize                                   903653 non-null object\n",
      "device.browserVersion                                903653 non-null object\n",
      "device.deviceCategory                                903653 non-null object\n",
      "device.flashVersion                                  903653 non-null object\n",
      "device.isMobile                                      903653 non-null bool\n",
      "device.language                                      903653 non-null object\n",
      "device.mobileDeviceBranding                          903653 non-null object\n",
      "device.mobileDeviceInfo                              903653 non-null object\n",
      "device.mobileDeviceMarketingName                     903653 non-null object\n",
      "device.mobileDeviceModel                             903653 non-null object\n",
      "device.mobileInputSelector                           903653 non-null object\n",
      "device.operatingSystem                               903653 non-null object\n",
      "device.operatingSystemVersion                        903653 non-null object\n",
      "device.screenColors                                  903653 non-null object\n",
      "device.screenResolution                              903653 non-null object\n",
      "geoNetwork.city                                      903653 non-null object\n",
      "geoNetwork.cityId                                    903653 non-null object\n",
      "geoNetwork.continent                                 903653 non-null object\n",
      "geoNetwork.country                                   903653 non-null object\n",
      "geoNetwork.latitude                                  903653 non-null object\n",
      "geoNetwork.longitude                                 903653 non-null object\n",
      "geoNetwork.metro                                     903653 non-null object\n",
      "geoNetwork.networkDomain                             903653 non-null object\n",
      "geoNetwork.networkLocation                           903653 non-null object\n",
      "geoNetwork.region                                    903653 non-null object\n",
      "geoNetwork.subContinent                              903653 non-null object\n",
      "totals.bounces                                       450630 non-null object\n",
      "totals.hits                                          903653 non-null object\n",
      "totals.newVisits                                     703060 non-null object\n",
      "totals.pageviews                                     903553 non-null object\n",
      "totals.transactionRevenue                            11515 non-null object\n",
      "totals.visits                                        903653 non-null object\n",
      "trafficSource.adContent                              10946 non-null object\n",
      "trafficSource.adwordsClickInfo.adNetworkType         21460 non-null object\n",
      "trafficSource.adwordsClickInfo.criteriaParameters    903653 non-null object\n",
      "trafficSource.adwordsClickInfo.gclId                 21561 non-null object\n",
      "trafficSource.adwordsClickInfo.isVideoAd             21460 non-null object\n",
      "trafficSource.adwordsClickInfo.page                  21460 non-null object\n",
      "trafficSource.adwordsClickInfo.slot                  21460 non-null object\n",
      "trafficSource.campaign                               903653 non-null object\n",
      "trafficSource.campaignCode                           1 non-null object\n",
      "trafficSource.isTrueDirect                           274005 non-null object\n",
      "trafficSource.keyword                                400724 non-null object\n",
      "trafficSource.medium                                 903653 non-null object\n",
      "trafficSource.referralPath                           330941 non-null object\n",
      "trafficSource.source                                 903653 non-null object\n",
      "sess_date_dow                                        903653 non-null int64\n",
      "sess_date_hours                                      903653 non-null int64\n",
      "sess_date_dom                                        903653 non-null int64\n",
      "dtypes: bool(1), datetime64[ns](1), int64(6), object(50)\n",
      "memory usage: 393.8+ MB\n"
     ]
    }
   ],
   "source": [
    "train_df.info()"
   ]
  },
  {
   "cell_type": "code",
   "execution_count": 122,
   "metadata": {
    "_uuid": "b2881e262a266ee7075282eb605b22834738f85b"
   },
   "outputs": [
    {
     "name": "stdout",
     "output_type": "stream",
     "text": [
      "Nb. of variables with unique value: 24\n"
     ]
    }
   ],
   "source": [
    "columns_to_remove = [col for col in train_df.columns if train_df[col].nunique() == 1]\n",
    "print(\"Nb. of variables with unique value: {}\".format(len(columns_to_remove)))"
   ]
  },
  {
   "cell_type": "code",
   "execution_count": 123,
   "metadata": {
    "_uuid": "2238e4cc82befa49cb1a4d30f9835fdc12db0e91"
   },
   "outputs": [
    {
     "name": "stdout",
     "output_type": "stream",
     "text": [
      "socialEngagementType object ['Not Socially Engaged']\n",
      "totals.bounces object ['1' nan]\n",
      "totals.newVisits object ['1' nan]\n",
      "totals.visits object ['1']\n",
      "trafficSource.adwordsClickInfo.isVideoAd object [nan False]\n",
      "trafficSource.campaignCode object [nan '11251kjhkvahf']\n",
      "trafficSource.isTrueDirect object [nan True]\n"
     ]
    }
   ],
   "source": [
    "for col in columns_to_remove:\n",
    "    if set(['not available in demo dataset']) ==  set(train_df[col].unique()): continue\n",
    "    print(col, train_df[col].dtypes, train_df[col].unique())"
   ]
  },
  {
   "cell_type": "code",
   "execution_count": 124,
   "metadata": {
    "_uuid": "88759e6aa82cb018b291ec33a8f9eda2b1c06d7e"
   },
   "outputs": [
    {
     "data": {
      "text/plain": [
       "((903653, 58), (804684, 56))"
      ]
     },
     "execution_count": 124,
     "metadata": {},
     "output_type": "execute_result"
    }
   ],
   "source": [
    "train_df.shape, test_df.shape"
   ]
  },
  {
   "cell_type": "code",
   "execution_count": 125,
   "metadata": {
    "_uuid": "afc3aa15c1e8cbfeffae8d3a5bcbb2816cf2acbe"
   },
   "outputs": [
    {
     "name": "stdout",
     "output_type": "stream",
     "text": [
      "(903653, 28) (804684, 28)\n"
     ]
    }
   ],
   "source": [
    "# columns = [col for col in train_df.columns if train_df[col].nunique() > 1 and (col in categorical_features)]\n",
    "columns2 = [col for col in test_df.columns if  test_df[col].nunique() > 1 and (col in categorical_features)]\n",
    "\n",
    "train_df = train_df[columns2]\n",
    "test_df = test_df[columns2]\n",
    "print(train_df.shape, test_df.shape)"
   ]
  },
  {
   "cell_type": "code",
   "execution_count": 126,
   "metadata": {
    "_uuid": "c4e5a92f83323234987455fbdf2dd127def7a496"
   },
   "outputs": [
    {
     "data": {
      "text/plain": [
       "Index(['channelGrouping', 'visitNumber', 'device.browser',\n",
       "       'device.deviceCategory', 'device.isMobile', 'device.operatingSystem',\n",
       "       'geoNetwork.city', 'geoNetwork.continent', 'geoNetwork.country',\n",
       "       'geoNetwork.metro', 'geoNetwork.networkDomain', 'geoNetwork.region',\n",
       "       'geoNetwork.subContinent', 'totals.hits', 'totals.pageviews',\n",
       "       'trafficSource.adContent',\n",
       "       'trafficSource.adwordsClickInfo.adNetworkType',\n",
       "       'trafficSource.adwordsClickInfo.gclId',\n",
       "       'trafficSource.adwordsClickInfo.page',\n",
       "       'trafficSource.adwordsClickInfo.slot', 'trafficSource.campaign',\n",
       "       'trafficSource.keyword', 'trafficSource.medium',\n",
       "       'trafficSource.referralPath', 'trafficSource.source', 'sess_date_dow',\n",
       "       'sess_date_hours', 'sess_date_dom'],\n",
       "      dtype='object')"
      ]
     },
     "execution_count": 126,
     "metadata": {},
     "output_type": "execute_result"
    }
   ],
   "source": [
    "train_df.columns"
   ]
  },
  {
   "cell_type": "code",
   "execution_count": 127,
   "metadata": {
    "_uuid": "45a55ac9addb34f51c26e4f53dd4700a1d575c01"
   },
   "outputs": [
    {
     "data": {
      "text/plain": [
       "Index(['channelGrouping', 'visitNumber', 'device.browser',\n",
       "       'device.deviceCategory', 'device.isMobile', 'device.operatingSystem',\n",
       "       'geoNetwork.city', 'geoNetwork.continent', 'geoNetwork.country',\n",
       "       'geoNetwork.metro', 'geoNetwork.networkDomain', 'geoNetwork.region',\n",
       "       'geoNetwork.subContinent', 'totals.hits', 'totals.pageviews',\n",
       "       'trafficSource.adContent',\n",
       "       'trafficSource.adwordsClickInfo.adNetworkType',\n",
       "       'trafficSource.adwordsClickInfo.gclId',\n",
       "       'trafficSource.adwordsClickInfo.page',\n",
       "       'trafficSource.adwordsClickInfo.slot', 'trafficSource.campaign',\n",
       "       'trafficSource.keyword', 'trafficSource.medium',\n",
       "       'trafficSource.referralPath', 'trafficSource.source', 'sess_date_dow',\n",
       "       'sess_date_hours', 'sess_date_dom'],\n",
       "      dtype='object')"
      ]
     },
     "execution_count": 127,
     "metadata": {},
     "output_type": "execute_result"
    }
   ],
   "source": [
    "test_df.columns"
   ]
  },
  {
   "cell_type": "markdown",
   "metadata": {
    "_uuid": "231948e3e50f04612269be64e6b9e976c632b3b5"
   },
   "source": [
    "**DONE for select feature and factorizing dataset**"
   ]
  },
  {
   "cell_type": "code",
   "execution_count": 128,
   "metadata": {
    "_uuid": "3ab4fa5d617bf9966a116c7ea15fe2e53244ee18"
   },
   "outputs": [
    {
     "name": "stdout",
     "output_type": "stream",
     "text": [
      "<class 'pandas.core.frame.DataFrame'>\n",
      "RangeIndex: 903653 entries, 0 to 903652\n",
      "Data columns (total 28 columns):\n",
      "channelGrouping                                 903653 non-null object\n",
      "visitNumber                                     903653 non-null int64\n",
      "device.browser                                  903653 non-null object\n",
      "device.deviceCategory                           903653 non-null object\n",
      "device.isMobile                                 903653 non-null bool\n",
      "device.operatingSystem                          903653 non-null object\n",
      "geoNetwork.city                                 903653 non-null object\n",
      "geoNetwork.continent                            903653 non-null object\n",
      "geoNetwork.country                              903653 non-null object\n",
      "geoNetwork.metro                                903653 non-null object\n",
      "geoNetwork.networkDomain                        903653 non-null object\n",
      "geoNetwork.region                               903653 non-null object\n",
      "geoNetwork.subContinent                         903653 non-null object\n",
      "totals.hits                                     903653 non-null object\n",
      "totals.pageviews                                903553 non-null object\n",
      "trafficSource.adContent                         10946 non-null object\n",
      "trafficSource.adwordsClickInfo.adNetworkType    21460 non-null object\n",
      "trafficSource.adwordsClickInfo.gclId            21561 non-null object\n",
      "trafficSource.adwordsClickInfo.page             21460 non-null object\n",
      "trafficSource.adwordsClickInfo.slot             21460 non-null object\n",
      "trafficSource.campaign                          903653 non-null object\n",
      "trafficSource.keyword                           400724 non-null object\n",
      "trafficSource.medium                            903653 non-null object\n",
      "trafficSource.referralPath                      330941 non-null object\n",
      "trafficSource.source                            903653 non-null object\n",
      "sess_date_dow                                   903653 non-null int64\n",
      "sess_date_hours                                 903653 non-null int64\n",
      "sess_date_dom                                   903653 non-null int64\n",
      "dtypes: bool(1), int64(4), object(23)\n",
      "memory usage: 187.0+ MB\n"
     ]
    }
   ],
   "source": [
    "train_df.info()"
   ]
  },
  {
   "cell_type": "code",
   "execution_count": 130,
   "metadata": {
    "_uuid": "eaed9a6c261db3c8facfee58acb56bf8093a4a6a"
   },
   "outputs": [
    {
     "data": {
      "text/plain": [
       "Americas     450377\n",
       "Asia         223698\n",
       "Europe       198311\n",
       "Oceania       15054\n",
       "Africa        14745\n",
       "(not set)      1468\n",
       "Name: geoNetwork.continent, dtype: int64"
      ]
     },
     "execution_count": 130,
     "metadata": {},
     "output_type": "execute_result"
    }
   ],
   "source": [
    "train_df['geoNetwork.continent'].value_counts()"
   ]
  },
  {
   "cell_type": "code",
   "execution_count": null,
   "metadata": {
    "_uuid": "0567852f234ba783f0a49acd8c697f14ec5e099d"
   },
   "outputs": [],
   "source": []
  }
 ],
 "metadata": {
  "kernelspec": {
   "display_name": "Python 3",
   "language": "python",
   "name": "python3"
  },
  "language_info": {
   "codemirror_mode": {
    "name": "ipython",
    "version": 3
   },
   "file_extension": ".py",
   "mimetype": "text/x-python",
   "name": "python",
   "nbconvert_exporter": "python",
   "pygments_lexer": "ipython3",
   "version": "3.6.9"
  }
 },
 "nbformat": 4,
 "nbformat_minor": 1
}
