{
 "cells": [
  {
   "cell_type": "code",
   "execution_count": null,
   "metadata": {
    "_cell_guid": "b1076dfc-b9ad-4769-8c92-a6c4dae69d19",
    "_uuid": "8f2839f25d086af736a60e9eeb907d3b93b6e0e5"
   },
   "outputs": [],
   "source": [
    "# This Python 3 environment comes with many helpful analytics libraries installed\n",
    "# It is defined by the kaggle/python docker image: https://github.com/kaggle/docker-python\n",
    "# For example, here's several helpful packages to load in \n",
    "\n",
    "import numpy as np # linear algebra\n",
    "import pandas as pd # data processing, CSV file I/O (e.g. pd.read_csv)\n",
    "\n",
    "# Input data files are available in the \"../input/\" directory.\n",
    "# For example, running this (by clicking run or pressing Shift+Enter) will list the files in the input directory\n",
    "\n",
    "import os\n",
    "print(os.listdir(\"../input\"))\n",
    "\n",
    "# Any results you write to the current directory are saved as output."
   ]
  },
  {
   "cell_type": "markdown",
   "metadata": {
    "_uuid": "8a8ea4e5012e4d9e4cda2147238d6c3396c8afe2"
   },
   "source": [
    "Importing Libraries"
   ]
  },
  {
   "cell_type": "code",
   "execution_count": null,
   "metadata": {
    "_cell_guid": "79c7e3d0-c299-4dcb-8224-4455121ee9b0",
    "_uuid": "d629ff2d2480ee46fbb7e2d37f6b5fab8052498a"
   },
   "outputs": [],
   "source": [
    "import pandas as pd\n",
    "import numpy as np\n",
    "import matplotlib.pyplot as plt\n",
    "import seaborn as sns\n",
    "import json\n",
    "import gc\n",
    "import sys\n",
    "\n",
    "from pandas.io.json import json_normalize\n",
    "from datetime import datetime\n",
    "from sklearn import preprocessing\n",
    "\n",
    "import os\n",
    "print(os.listdir(\"../input\"))"
   ]
  },
  {
   "cell_type": "code",
   "execution_count": null,
   "metadata": {
    "_uuid": "b952bbbb41790230dcf2cb238b713559927447f9"
   },
   "outputs": [],
   "source": [
    "def load_df(csv_path, nr=None):\n",
    "    JSON_COLUMNS = ['device', 'geoNetwork', 'totals', 'trafficSource']\n",
    "    df = pd.read_csv(csv_path, \n",
    "                     converters={column: json.loads for column in JSON_COLUMNS}, \n",
    "                     dtype={'fullVisitorId': 'str'},\n",
    "                     nrows=nr)\n",
    "    \n",
    "    for column in JSON_COLUMNS:\n",
    "        cad = json_normalize(df[column])\n",
    "        cad.columns = [f\"{column}.{subcolumn}\" for subcolumn in cad.columns]\n",
    "        df = df.drop(column, axis=1).merge(cad, right_index=True, left_index=True)\n",
    "    print(f\"Loaded {os.path.basename(csv_path)}. Shape: {df.shape}\")\n",
    "    return df"
   ]
  },
  {
   "cell_type": "code",
   "execution_count": null,
   "metadata": {
    "_uuid": "5141b8f351e80d241b5ce56209839c2480a5da9b"
   },
   "outputs": [],
   "source": [
    "%%time\n",
    "train = load_df('../input/train.csv')\n",
    "test = load_df('../input/test.csv')\n",
    "\n",
    "print('date:', min(train['date']), 'to', max(train['date']))\n",
    "print('test date:', min(test['date']), 'to', max(test['date']))"
   ]
  },
  {
   "cell_type": "code",
   "execution_count": null,
   "metadata": {
    "_uuid": "55bfb5651267ea08811ae0ce298667d83396ab89"
   },
   "outputs": [],
   "source": [
    "for c in train.columns.values:\n",
    "    if c not in test.columns.values: print(c)"
   ]
  },
  {
   "cell_type": "code",
   "execution_count": null,
   "metadata": {
    "_uuid": "45ecc5cc65f9f535f7aa600a9f8cfa09c33ec93c"
   },
   "outputs": [],
   "source": [
    "train_revenue = train[~train['totals.transactionRevenue'].isnull()].copy()\n",
    "print(len(train_revenue))\n",
    "train_revenue.head()"
   ]
  },
  {
   "cell_type": "code",
   "execution_count": null,
   "metadata": {
    "_uuid": "9e159e7dce0c11cd9dadaa0521f49e902eaf12b6"
   },
   "outputs": [],
   "source": [
    "train['totals.transactionRevenue'].fillna(0, inplace=True)\n",
    "train['totals.transactionRevenue'] = np.log1p(train['totals.transactionRevenue'].astype(float))\n",
    "print(train['totals.transactionRevenue'].describe())"
   ]
  },
  {
   "cell_type": "code",
   "execution_count": null,
   "metadata": {
    "_uuid": "8901d4f841cca3eea9132b9cb3cc49988cdc99c1"
   },
   "outputs": [],
   "source": [
    "ad = train.append(test, sort=False).reset_index(drop=True)"
   ]
  },
  {
   "cell_type": "code",
   "execution_count": null,
   "metadata": {
    "_uuid": "8e48357be0054a031d1ccf6fe59f75976e180c34"
   },
   "outputs": [],
   "source": [
    "print(ad.info())"
   ]
  },
  {
   "cell_type": "code",
   "execution_count": null,
   "metadata": {
    "_uuid": "af6724dc0de152ea3a5585284fc6e8312e98f5b9"
   },
   "outputs": [],
   "source": [
    "null_cnt = train.isnull().sum().sort_values()\n",
    "print(null_cnt[null_cnt > 0])"
   ]
  },
  {
   "cell_type": "code",
   "execution_count": null,
   "metadata": {
    "_uuid": "9944d3e6045eea83e1e55af8e83adfe5fe68c550"
   },
   "outputs": [],
   "source": [
    "ad['totals.pageviews'].fillna(1, inplace=True)\n",
    "ad['totals.newVisits'].fillna(0, inplace=True)\n",
    "ad['totals.bounces'].fillna(0, inplace=True)\n",
    "ad['totals.pageviews'] = ad['totals.pageviews'].astype(int)\n",
    "ad['totals.newVisits'] = ad['totals.newVisits'].astype(int)\n",
    "ad['totals.bounces'] = ad['totals.bounces'].astype(int)\n",
    "\n",
    "ad['trafficSource.isTrueDirect'].fillna(False, inplace=True)"
   ]
  },
  {
   "cell_type": "code",
   "execution_count": null,
   "metadata": {
    "_uuid": "711f57057cc41e78899858c85ac56b91bd0684d8"
   },
   "outputs": [],
   "source": [
    "cc = [col for col in ad.columns if ad[col].nunique() == 1]\n",
    "\n",
    "print('The columns that are dropped:', cc)\n",
    "ad.drop(cc, axis=1, inplace=True)"
   ]
  },
  {
   "cell_type": "code",
   "execution_count": null,
   "metadata": {
    "_uuid": "76907d78df17e2940d2a8a34e8a63023156c327a"
   },
   "outputs": [],
   "source": [
    "format_str = '%Y%m%d'\n",
    "ad['formated_date'] = ad['date'].apply(lambda x: datetime.strptime(str(x), format_str))\n",
    "ad['_month'] = ad['formated_date'].apply(lambda x:x.month)\n",
    "ad['_quarterMonth'] = ad['formated_date'].apply(lambda x:x.day//8)\n",
    "ad['_day'] = ad['formated_date'].apply(lambda x:x.day)\n",
    "ad['_weekday'] = ad['formated_date'].apply(lambda x:x.weekday())\n"
   ]
  },
  {
   "cell_type": "code",
   "execution_count": null,
   "metadata": {
    "_uuid": "3bbdd36dc6b2301f1f6fb872b9515ef309883d74"
   },
   "outputs": [],
   "source": [
    "print(ad['channelGrouping'].value_counts())"
   ]
  },
  {
   "cell_type": "code",
   "execution_count": null,
   "metadata": {
    "_uuid": "d82fcec5ef3cd226284605f5b5475c439408d005"
   },
   "outputs": [],
   "source": [
    "print('train everything:', len(train))\n",
    "print('train the number of unique fullVisitorId:', train['fullVisitorId'].nunique())\n",
    "print('train the number of unique visitId:', train['visitId'].nunique())\n",
    "print('-' * 30)\n",
    "print('test everything:', len(test))\n",
    "print('test the number of unique fullVisitorId:', test['fullVisitorId'].nunique())\n",
    "print('test the number of unique visitId:', test['visitId'].nunique())\n",
    "#print('common fullVisitorId:', len(pd.merge(train, test, how='inner', on='fullVisitorId'))) # 183434"
   ]
  },
  {
   "cell_type": "code",
   "execution_count": null,
   "metadata": {
    "_uuid": "2bba4dfdb582d6d8516e2d83773599bd3f1562b1"
   },
   "outputs": [],
   "source": [
    "print(ad['visitNumber'].value_counts()[:5])\n",
    "print('-' * 30)\n",
    "print(ad['totals.newVisits'].value_counts())\n",
    "print('-' * 30)\n",
    "print(ad['totals.bounces'].value_counts())"
   ]
  },
  {
   "cell_type": "code",
   "execution_count": null,
   "metadata": {
    "_uuid": "80d8ced7c1ca2a06d9b07a8e48ea29cdcc51c221"
   },
   "outputs": [],
   "source": [
    "ad['_visitStartHour'] = ad['visitStartTime'].apply(\n",
    "    lambda x: str(datetime.fromtimestamp(x).hour))"
   ]
  },
  {
   "cell_type": "code",
   "execution_count": null,
   "metadata": {
    "_uuid": "d51d770d5a1895e02e34d32afef475dd4ef6fa48"
   },
   "outputs": [],
   "source": [
    "print('train each sessionId:', len(train['sessionId']))\n",
    "print('train for each unique sessionId:', train['sessionId'].nunique())"
   ]
  },
  {
   "cell_type": "code",
   "execution_count": null,
   "metadata": {
    "_uuid": "3dd9f5a219b5b9d5a106d2d5acffe2803cd005bb"
   },
   "outputs": [],
   "source": [
    "print('The number of unique browser:', train['device.browser'].nunique())\n",
    "print('-' * 30)\n",
    "print(ad['device.browser'].value_counts()[:10])"
   ]
  },
  {
   "cell_type": "code",
   "execution_count": null,
   "metadata": {
    "_uuid": "aa48ae604bb236efe58209ebc6b195a4adaa9907"
   },
   "outputs": [],
   "source": [
    "pd.crosstab(ad['device.deviceCategory'], ad['device.isMobile'], margins=False)"
   ]
  },
  {
   "cell_type": "code",
   "execution_count": null,
   "metadata": {
    "_uuid": "b1716b90dac8faf91148a7f85896fea652d1f25a"
   },
   "outputs": [],
   "source": [
    "print('The number of operating system count:', train['device.operatingSystem'].nunique())\n",
    "print('-' * 30)\n",
    "print(ad['device.operatingSystem'].value_counts()[:10])"
   ]
  },
  {
   "cell_type": "code",
   "execution_count": null,
   "metadata": {
    "_uuid": "da3145fe60b906a1edb586680fb44d6c6a691c83"
   },
   "outputs": [],
   "source": [
    "print(ad['geoNetwork.city'].value_counts()[:10])\n",
    "print('-' * 30)\n",
    "print(ad['geoNetwork.region'].value_counts()[:10])\n",
    "print('-' * 30)\n",
    "print(ad['geoNetwork.subContinent'].value_counts()[:10])\n",
    "print('-' * 30)\n",
    "print(ad['geoNetwork.continent'].value_counts())"
   ]
  },
  {
   "cell_type": "code",
   "execution_count": null,
   "metadata": {
    "_uuid": "5d8a124d88a307e7958fd05afa420506d741b3ea"
   },
   "outputs": [],
   "source": [
    "print(ad['geoNetwork.metro'].value_counts()[:10])"
   ]
  },
  {
   "cell_type": "code",
   "execution_count": null,
   "metadata": {
    "_uuid": "ff142dda13bbffcb2d4ed81cf3aba51f87df96dc"
   },
   "outputs": [],
   "source": [
    "print(ad['geoNetwork.networkDomain'].value_counts()[:10])"
   ]
  },
  {
   "cell_type": "code",
   "execution_count": null,
   "metadata": {
    "_uuid": "b8d6f89b049f46b872b532408d636e00396d6966"
   },
   "outputs": [],
   "source": [
    "print(ad['totals.hits'].value_counts()[:10])\n",
    "\n",
    "ad['totals.hits'] = ad['totals.hits'].astype(int)\n",
    "ad['_meanHitsPerDay'] = ad.groupby(['_day'])['totals.hits'].transform('mean')\n",
    "ad['_meanHitsPerWeekday'] = ad.groupby(['_weekday'])['totals.hits'].transform('mean')\n",
    "ad['_meanHitsPerMonth'] = ad.groupby(['_month'])['totals.hits'].transform('mean')\n",
    "ad['_sumHitsPerDay'] = ad.groupby(['_day'])['totals.hits'].transform('sum')\n",
    "ad['_sumHitsPerWeekday'] = ad.groupby(['_weekday'])['totals.hits'].transform('sum')\n",
    "ad['_sumHitsPerMonth'] = ad.groupby(['_month'])['totals.hits'].transform('sum')"
   ]
  },
  {
   "cell_type": "code",
   "execution_count": null,
   "metadata": {
    "_uuid": "56960afd509344ec7d7101d8bca72873f1e05bda"
   },
   "outputs": [],
   "source": [
    "print(ad['totals.pageviews'].value_counts()[:10])\n",
    "ad['totals.pageviews'] = ad['totals.pageviews'].astype(int)"
   ]
  },
  {
   "cell_type": "code",
   "execution_count": null,
   "metadata": {
    "_uuid": "3526573f88dc56b61457328fb8476081c0786a67"
   },
   "outputs": [],
   "source": [
    "print(ad['trafficSource.adContent'].value_counts()[:10])\n",
    "print('-' * 30)\n",
    "print(train_revenue['trafficSource.adContent'].value_counts())\n",
    "\n",
    "ad['_adContentGMC'] = (ad['trafficSource.adContent'] == 'Google Merchandise Collection').astype(np.uint8)"
   ]
  },
  {
   "cell_type": "code",
   "execution_count": null,
   "metadata": {
    "_uuid": "79d9f733932c39ee019cf2d5c90f20db012c1fd7"
   },
   "outputs": [],
   "source": [
    "print(ad['trafficSource.campaign'].value_counts()[:10])\n",
    "ad['_withCampaign'] = (ad['trafficSource.campaign'] != '(not set)').astype(np.uint8)"
   ]
  },
  {
   "cell_type": "code",
   "execution_count": null,
   "metadata": {
    "_uuid": "01ff567b9b3e46e6244956d9fde17150b8f782ea"
   },
   "outputs": [],
   "source": [
    "print(ad['trafficSource.isTrueDirect'].value_counts())"
   ]
  },
  {
   "cell_type": "code",
   "execution_count": null,
   "metadata": {
    "_uuid": "d3b076be6f2582591fba5cea657de305cf09cf18"
   },
   "outputs": [],
   "source": [
    "print(ad['trafficSource.keyword'].value_counts()[:10])"
   ]
  },
  {
   "cell_type": "code",
   "execution_count": null,
   "metadata": {
    "_uuid": "cc3da4b8ef71d72d5c57de0271fa94782c8c619a"
   },
   "outputs": [],
   "source": [
    "print(ad['trafficSource.medium'].value_counts())\n",
    "print('-' * 30)\n",
    "print(train_revenue['trafficSource.medium'].value_counts())"
   ]
  },
  {
   "cell_type": "code",
   "execution_count": null,
   "metadata": {
    "_uuid": "a993f82a80edf97dd566c1e16fc6343f89683efe"
   },
   "outputs": [],
   "source": [
    "print(ad['trafficSource.referralPath'].value_counts()[:10])\n"
   ]
  },
  {
   "cell_type": "code",
   "execution_count": null,
   "metadata": {
    "_uuid": "c72caaf4b9bc9077283e8707419045228a92df5b",
    "scrolled": true
   },
   "outputs": [],
   "source": [
    "print(ad['trafficSource.source'].value_counts()[:10])\n",
    "ad['_sourceGpmall'] = (ad['trafficSource.source'] == 'mall.googleplex.com').astype(np.uint8)"
   ]
  },
  {
   "cell_type": "code",
   "execution_count": null,
   "metadata": {
    "_uuid": "209684163867b5f6b002e40ef45c4fb3ede6097a"
   },
   "outputs": [],
   "source": [
    "train_revenue = train_revenue.sort_values(['visitStartTime']).reset_index()\n",
    "train_revenue['_buyCount'] = train_revenue.groupby('fullVisitorId').cumcount() + 1\n",
    "ad = pd.merge(ad, train_revenue[['_buyCount','fullVisitorId','visitId']], \n",
    "                    on=['fullVisitorId','visitId'], how='left')\n",
    "for fvId in train_revenue['fullVisitorId'].unique():\n",
    "    visitor_data = ad[ad['fullVisitorId'] == fvId].sort_values(['visitStartTime'])['_buyCount'].reset_index()\n",
    "    ad.loc[ad['fullVisitorId'] == fvId, '_buyCount'] = visitor_data['_buyCount'].fillna(method='ffill').values\n",
    "ad['_buyCount'].fillna(0, inplace=True)\n",
    "ad['_buyRate'] = ad['_buyCount'] / ad['visitNumber']"
   ]
  },
  {
   "cell_type": "code",
   "execution_count": null,
   "metadata": {
    "_uuid": "bc28746f400cd96516a35a15d98efe7aaa12fe59"
   },
   "outputs": [],
   "source": [
    "null_cnt = ad.isnull().sum().sort_values()\n",
    "print(null_cnt[null_cnt > 0])"
   ]
  },
  {
   "cell_type": "code",
   "execution_count": null,
   "metadata": {
    "_uuid": "42733934adef6148cc3ab0aaa69fa6d544d128c1"
   },
   "outputs": [],
   "source": [
    "ad.info()"
   ]
  },
  {
   "cell_type": "code",
   "execution_count": null,
   "metadata": {
    "_uuid": "b32688b5833503f15043d8902063d9e3f299ee7a"
   },
   "outputs": [],
   "source": [
    "c = ['fullVisitorId',\n",
    "     'visitNumber',\n",
    "     'device.deviceCategory',\n",
    "     'geoNetwork.subContinent',\n",
    "     'totals.transactionRevenue',\n",
    "     'totals.newVisits',\n",
    "     'totals.hits',\n",
    "     'totals.pageviews',\n",
    "     '_month',\n",
    "     '_quarterMonth',\n",
    "     '_weekday',\n",
    "     '_visitStartHour',\n",
    "     '_adContentGMC',\n",
    "     '_withCampaign',\n",
    "     '_sourceGpmall',\n",
    "     '_buyRate']\n",
    "ad = ad[c]\n",
    "\n",
    "for i, t in ad.loc[:, ad.columns != 'fullVisitorId'].dtypes.iteritems():\n",
    "    if t == object:\n",
    "        ad = pd.concat([ad, pd.get_dummies(ad[i].astype(str), prefix=i)], axis=1)\n",
    "        ad.drop(i, axis=1, inplace=True)"
   ]
  },
  {
   "cell_type": "code",
   "execution_count": null,
   "metadata": {
    "_uuid": "cc59370233a27f5bee9b9046ef10818c864679ca"
   },
   "outputs": [],
   "source": [
    "ad.info()"
   ]
  },
  {
   "cell_type": "code",
   "execution_count": null,
   "metadata": {
    "_uuid": "a87db9fd478ee1818c045262827ef1a3b1ca360f"
   },
   "outputs": [],
   "source": [
    "train = ad[ad['totals.transactionRevenue'].notnull()]\n",
    "test = ad[ad['totals.transactionRevenue'].isnull()].drop(['totals.transactionRevenue'], axis=1)"
   ]
  },
  {
   "cell_type": "code",
   "execution_count": null,
   "metadata": {
    "_uuid": "ff7b9f649a263c253df2f7905e8acce7e20c6dd1"
   },
   "outputs": [],
   "source": [
    "train_id = train['fullVisitorId']\n",
    "test_id = test['fullVisitorId']\n",
    "\n",
    "Y_train_reg = train.pop('totals.transactionRevenue')\n",
    "Y_train_cls = (Y_train_reg.fillna(0) > 0).astype(np.uint8)\n",
    "\n",
    "X_train = train.drop(['fullVisitorId'], axis=1)\n",
    "X_test  = test.drop(['fullVisitorId'], axis=1)\n",
    "\n",
    "print(X_train.shape, X_test.shape)"
   ]
  },
  {
   "cell_type": "code",
   "execution_count": null,
   "metadata": {
    "_uuid": "8907571396e3fd981042bedbc4f5c2dc6f3f932b"
   },
   "outputs": [],
   "source": [
    "import sys\n",
    "import gc\n",
    "\n",
    "del ad, train, test, train_revenue\n",
    "gc.collect()\n",
    "\n",
    "print(pd.DataFrame([[val for val in dir()], [sys.getsizeof(eval(val)) for val in dir()]],\n",
    "                   index=['name','size']).T.sort_values('size', ascending=False).reset_index(drop=True)[:10])"
   ]
  },
  {
   "cell_type": "code",
   "execution_count": null,
   "metadata": {
    "_uuid": "3119f1362108f079c06c6b5c18ce0d75c0f0197a"
   },
   "outputs": [],
   "source": [
    "from sklearn import ensemble, metrics\n",
    "from sklearn.model_selection import cross_val_score, cross_val_predict\n",
    "from sklearn.model_selection import GridSearchCV, KFold, GroupKFold\n",
    "from sklearn.metrics import mean_squared_error, classification_report, roc_auc_score, f1_score, log_loss\n",
    "\n",
    "import xgboost as xgb\n",
    "import lightgbm as lgb"
   ]
  },
  {
   "cell_type": "code",
   "execution_count": null,
   "metadata": {
    "_uuid": "4392d46251251b2db3e3c8d95f783a3837e32fd7"
   },
   "outputs": [],
   "source": [
    "if '_revenueProba' in X_train.columns : del X_train['_revenueProba']\n",
    "if '_revenueProba' in X_test.columns : del X_test['_revenueProba']"
   ]
  },
  {
   "cell_type": "code",
   "execution_count": null,
   "metadata": {
    "_uuid": "85b54dc3170f8d54049e8c37039a30a8284d4236"
   },
   "outputs": [],
   "source": [
    "%%time\n",
    "reg = ensemble.GradientBoostingRegressor(n_estimators=500, learning_rate=0.05, max_depth=3, verbose=1, random_state=42)\n",
    "reg.fit(X_train, Y_train_cls)\n",
    "pred_reg = reg.predict(X_test)\n",
    "\n",
    "print(len(pred_reg), len(pred_reg[pred_reg > 0.1]))"
   ]
  },
  {
   "cell_type": "code",
   "execution_count": null,
   "metadata": {
    "_uuid": "f145721bb43f3303e0c6f607961ad46990bc804d",
    "scrolled": false
   },
   "outputs": [],
   "source": [
    "reg = ensemble.GradientBoostingRegressor(n_estimators=1000, learning_rate=0.5, max_depth=3, verbose=1, random_state=42)\n",
    "reg.fit(X_train[Y_train_reg > 0], Y_train_reg[Y_train_reg > 0])\n",
    "\n",
    "pred = np.zeros(len(pred_reg))\n",
    "for i in np.arange(len(pred_reg)):\n",
    "        pred[i] = reg.predict([X_test.iloc[i]])[0] * pred_reg[i]"
   ]
  },
  {
   "cell_type": "code",
   "execution_count": null,
   "metadata": {
    "_uuid": "0c8982bcf6eaacab73849dc981821f4c31f700c1"
   },
   "outputs": [],
   "source": [
    "#submission = sub"
   ]
  },
  {
   "cell_type": "code",
   "execution_count": 49,
   "metadata": {
    "_uuid": "031c60f95ccde565de0828d0a7d093c3b29d78b5"
   },
   "outputs": [
    {
     "data": {
      "text/html": [
       "<div>\n",
       "<style scoped>\n",
       "    .dataframe tbody tr th:only-of-type {\n",
       "        vertical-align: middle;\n",
       "    }\n",
       "\n",
       "    .dataframe tbody tr th {\n",
       "        vertical-align: top;\n",
       "    }\n",
       "\n",
       "    .dataframe thead th {\n",
       "        text-align: right;\n",
       "    }\n",
       "</style>\n",
       "<table border=\"1\" class=\"dataframe\">\n",
       "  <thead>\n",
       "    <tr style=\"text-align: right;\">\n",
       "      <th></th>\n",
       "      <th>fullVisitorId</th>\n",
       "      <th>PredictedLogRevenue</th>\n",
       "    </tr>\n",
       "  </thead>\n",
       "  <tbody>\n",
       "    <tr>\n",
       "      <th>0</th>\n",
       "      <td>0000000259678714014</td>\n",
       "      <td>0.273931</td>\n",
       "    </tr>\n",
       "    <tr>\n",
       "      <th>1</th>\n",
       "      <td>0000049363351866189</td>\n",
       "      <td>0.015276</td>\n",
       "    </tr>\n",
       "    <tr>\n",
       "      <th>3</th>\n",
       "      <td>0000059488412965267</td>\n",
       "      <td>0.009180</td>\n",
       "    </tr>\n",
       "    <tr>\n",
       "      <th>12</th>\n",
       "      <td>000018122977590134</td>\n",
       "      <td>0.437353</td>\n",
       "    </tr>\n",
       "    <tr>\n",
       "      <th>17</th>\n",
       "      <td>00003038793126460</td>\n",
       "      <td>0.004408</td>\n",
       "    </tr>\n",
       "    <tr>\n",
       "      <th>22</th>\n",
       "      <td>0000359974620542953</td>\n",
       "      <td>0.006282</td>\n",
       "    </tr>\n",
       "    <tr>\n",
       "      <th>26</th>\n",
       "      <td>0000414003317636552</td>\n",
       "      <td>0.015923</td>\n",
       "    </tr>\n",
       "    <tr>\n",
       "      <th>28</th>\n",
       "      <td>0000436683523507380</td>\n",
       "      <td>0.057611</td>\n",
       "    </tr>\n",
       "    <tr>\n",
       "      <th>30</th>\n",
       "      <td>0000446984872719825</td>\n",
       "      <td>0.166331</td>\n",
       "    </tr>\n",
       "    <tr>\n",
       "      <th>32</th>\n",
       "      <td>0000466288435490222</td>\n",
       "      <td>0.005213</td>\n",
       "    </tr>\n",
       "    <tr>\n",
       "      <th>37</th>\n",
       "      <td>0000593255797039768</td>\n",
       "      <td>0.255720</td>\n",
       "    </tr>\n",
       "    <tr>\n",
       "      <th>38</th>\n",
       "      <td>000059785881683218</td>\n",
       "      <td>0.004397</td>\n",
       "    </tr>\n",
       "    <tr>\n",
       "      <th>40</th>\n",
       "      <td>0000677695778949032</td>\n",
       "      <td>0.602358</td>\n",
       "    </tr>\n",
       "    <tr>\n",
       "      <th>42</th>\n",
       "      <td>0000708243998753318</td>\n",
       "      <td>0.005149</td>\n",
       "    </tr>\n",
       "    <tr>\n",
       "      <th>48</th>\n",
       "      <td>0000844628216443785</td>\n",
       "      <td>0.070501</td>\n",
       "    </tr>\n",
       "    <tr>\n",
       "      <th>52</th>\n",
       "      <td>000090799202817835</td>\n",
       "      <td>0.777123</td>\n",
       "    </tr>\n",
       "    <tr>\n",
       "      <th>54</th>\n",
       "      <td>000094154452308463</td>\n",
       "      <td>0.003954</td>\n",
       "    </tr>\n",
       "    <tr>\n",
       "      <th>55</th>\n",
       "      <td>0000952261940679292</td>\n",
       "      <td>0.003988</td>\n",
       "    </tr>\n",
       "    <tr>\n",
       "      <th>61</th>\n",
       "      <td>0000981915582127700</td>\n",
       "      <td>0.005195</td>\n",
       "    </tr>\n",
       "    <tr>\n",
       "      <th>63</th>\n",
       "      <td>0001039786191127093</td>\n",
       "      <td>0.004776</td>\n",
       "    </tr>\n",
       "    <tr>\n",
       "      <th>64</th>\n",
       "      <td>0001050320968595467</td>\n",
       "      <td>0.003952</td>\n",
       "    </tr>\n",
       "    <tr>\n",
       "      <th>66</th>\n",
       "      <td>000106364568517340</td>\n",
       "      <td>0.006124</td>\n",
       "    </tr>\n",
       "    <tr>\n",
       "      <th>70</th>\n",
       "      <td>0001082359705607288</td>\n",
       "      <td>0.356993</td>\n",
       "    </tr>\n",
       "    <tr>\n",
       "      <th>73</th>\n",
       "      <td>0001160613841948326</td>\n",
       "      <td>0.010381</td>\n",
       "    </tr>\n",
       "    <tr>\n",
       "      <th>76</th>\n",
       "      <td>0001191766179392657</td>\n",
       "      <td>0.005376</td>\n",
       "    </tr>\n",
       "    <tr>\n",
       "      <th>80</th>\n",
       "      <td>0001216015341831099</td>\n",
       "      <td>0.057524</td>\n",
       "    </tr>\n",
       "    <tr>\n",
       "      <th>83</th>\n",
       "      <td>0001238783160665459</td>\n",
       "      <td>0.119590</td>\n",
       "    </tr>\n",
       "    <tr>\n",
       "      <th>90</th>\n",
       "      <td>0001376836098133431</td>\n",
       "      <td>1.824247</td>\n",
       "    </tr>\n",
       "    <tr>\n",
       "      <th>91</th>\n",
       "      <td>000137710042816150</td>\n",
       "      <td>0.003711</td>\n",
       "    </tr>\n",
       "    <tr>\n",
       "      <th>92</th>\n",
       "      <td>0001383558582224363</td>\n",
       "      <td>0.005674</td>\n",
       "    </tr>\n",
       "    <tr>\n",
       "      <th>...</th>\n",
       "      <td>...</td>\n",
       "      <td>...</td>\n",
       "    </tr>\n",
       "    <tr>\n",
       "      <th>617065</th>\n",
       "      <td>9997102945471636632</td>\n",
       "      <td>0.003731</td>\n",
       "    </tr>\n",
       "    <tr>\n",
       "      <th>617088</th>\n",
       "      <td>999743379500665370</td>\n",
       "      <td>0.173862</td>\n",
       "    </tr>\n",
       "    <tr>\n",
       "      <th>617091</th>\n",
       "      <td>9997511020664447051</td>\n",
       "      <td>0.048096</td>\n",
       "    </tr>\n",
       "    <tr>\n",
       "      <th>617093</th>\n",
       "      <td>9997536057704001970</td>\n",
       "      <td>0.005816</td>\n",
       "    </tr>\n",
       "    <tr>\n",
       "      <th>617110</th>\n",
       "      <td>9997778423599125439</td>\n",
       "      <td>0.005122</td>\n",
       "    </tr>\n",
       "    <tr>\n",
       "      <th>617116</th>\n",
       "      <td>9997863348593197068</td>\n",
       "      <td>0.004112</td>\n",
       "    </tr>\n",
       "    <tr>\n",
       "      <th>617128</th>\n",
       "      <td>9998111072781322816</td>\n",
       "      <td>0.004118</td>\n",
       "    </tr>\n",
       "    <tr>\n",
       "      <th>617137</th>\n",
       "      <td>99982623851723049</td>\n",
       "      <td>0.052986</td>\n",
       "    </tr>\n",
       "    <tr>\n",
       "      <th>617138</th>\n",
       "      <td>9998286704763161826</td>\n",
       "      <td>0.499561</td>\n",
       "    </tr>\n",
       "    <tr>\n",
       "      <th>617141</th>\n",
       "      <td>9998323043807051839</td>\n",
       "      <td>0.098896</td>\n",
       "    </tr>\n",
       "    <tr>\n",
       "      <th>617149</th>\n",
       "      <td>9998450483026964656</td>\n",
       "      <td>0.393748</td>\n",
       "    </tr>\n",
       "    <tr>\n",
       "      <th>617152</th>\n",
       "      <td>9998461364191417784</td>\n",
       "      <td>0.020606</td>\n",
       "    </tr>\n",
       "    <tr>\n",
       "      <th>617157</th>\n",
       "      <td>9998549226031239491</td>\n",
       "      <td>0.056499</td>\n",
       "    </tr>\n",
       "    <tr>\n",
       "      <th>617177</th>\n",
       "      <td>9998871186081510973</td>\n",
       "      <td>0.004083</td>\n",
       "    </tr>\n",
       "    <tr>\n",
       "      <th>617181</th>\n",
       "      <td>9998956848818646694</td>\n",
       "      <td>0.049935</td>\n",
       "    </tr>\n",
       "    <tr>\n",
       "      <th>617186</th>\n",
       "      <td>9999098287511113585</td>\n",
       "      <td>0.149574</td>\n",
       "    </tr>\n",
       "    <tr>\n",
       "      <th>617190</th>\n",
       "      <td>9999136945887060446</td>\n",
       "      <td>0.129475</td>\n",
       "    </tr>\n",
       "    <tr>\n",
       "      <th>617194</th>\n",
       "      <td>999917398463465750</td>\n",
       "      <td>0.015071</td>\n",
       "    </tr>\n",
       "    <tr>\n",
       "      <th>617195</th>\n",
       "      <td>9999180222639780495</td>\n",
       "      <td>0.060348</td>\n",
       "    </tr>\n",
       "    <tr>\n",
       "      <th>617200</th>\n",
       "      <td>9999224858025346837</td>\n",
       "      <td>0.336800</td>\n",
       "    </tr>\n",
       "    <tr>\n",
       "      <th>617204</th>\n",
       "      <td>9999279566635680303</td>\n",
       "      <td>0.000062</td>\n",
       "    </tr>\n",
       "    <tr>\n",
       "      <th>617206</th>\n",
       "      <td>9999393801373383609</td>\n",
       "      <td>0.003727</td>\n",
       "    </tr>\n",
       "    <tr>\n",
       "      <th>617208</th>\n",
       "      <td>9999425102935415824</td>\n",
       "      <td>0.010966</td>\n",
       "    </tr>\n",
       "    <tr>\n",
       "      <th>617210</th>\n",
       "      <td>999942696836758605</td>\n",
       "      <td>0.010688</td>\n",
       "    </tr>\n",
       "    <tr>\n",
       "      <th>617212</th>\n",
       "      <td>9999496940471624606</td>\n",
       "      <td>0.155834</td>\n",
       "    </tr>\n",
       "    <tr>\n",
       "      <th>617226</th>\n",
       "      <td>999977536649351076</td>\n",
       "      <td>0.063904</td>\n",
       "    </tr>\n",
       "    <tr>\n",
       "      <th>617231</th>\n",
       "      <td>9999819762744314978</td>\n",
       "      <td>0.064573</td>\n",
       "    </tr>\n",
       "    <tr>\n",
       "      <th>617232</th>\n",
       "      <td>9999824326944242344</td>\n",
       "      <td>0.674109</td>\n",
       "    </tr>\n",
       "    <tr>\n",
       "      <th>617236</th>\n",
       "      <td>9999882818693474736</td>\n",
       "      <td>0.892601</td>\n",
       "    </tr>\n",
       "    <tr>\n",
       "      <th>617240</th>\n",
       "      <td>9999985820452794361</td>\n",
       "      <td>0.005790</td>\n",
       "    </tr>\n",
       "  </tbody>\n",
       "</table>\n",
       "<p>122279 rows × 2 columns</p>\n",
       "</div>"
      ],
      "text/plain": [
       "              fullVisitorId  PredictedLogRevenue\n",
       "0       0000000259678714014             0.273931\n",
       "1       0000049363351866189             0.015276\n",
       "3       0000059488412965267             0.009180\n",
       "12       000018122977590134             0.437353\n",
       "17        00003038793126460             0.004408\n",
       "22      0000359974620542953             0.006282\n",
       "26      0000414003317636552             0.015923\n",
       "28      0000436683523507380             0.057611\n",
       "30      0000446984872719825             0.166331\n",
       "32      0000466288435490222             0.005213\n",
       "37      0000593255797039768             0.255720\n",
       "38       000059785881683218             0.004397\n",
       "40      0000677695778949032             0.602358\n",
       "42      0000708243998753318             0.005149\n",
       "48      0000844628216443785             0.070501\n",
       "52       000090799202817835             0.777123\n",
       "54       000094154452308463             0.003954\n",
       "55      0000952261940679292             0.003988\n",
       "61      0000981915582127700             0.005195\n",
       "63      0001039786191127093             0.004776\n",
       "64      0001050320968595467             0.003952\n",
       "66       000106364568517340             0.006124\n",
       "70      0001082359705607288             0.356993\n",
       "73      0001160613841948326             0.010381\n",
       "76      0001191766179392657             0.005376\n",
       "80      0001216015341831099             0.057524\n",
       "83      0001238783160665459             0.119590\n",
       "90      0001376836098133431             1.824247\n",
       "91       000137710042816150             0.003711\n",
       "92      0001383558582224363             0.005674\n",
       "...                     ...                  ...\n",
       "617065  9997102945471636632             0.003731\n",
       "617088   999743379500665370             0.173862\n",
       "617091  9997511020664447051             0.048096\n",
       "617093  9997536057704001970             0.005816\n",
       "617110  9997778423599125439             0.005122\n",
       "617116  9997863348593197068             0.004112\n",
       "617128  9998111072781322816             0.004118\n",
       "617137    99982623851723049             0.052986\n",
       "617138  9998286704763161826             0.499561\n",
       "617141  9998323043807051839             0.098896\n",
       "617149  9998450483026964656             0.393748\n",
       "617152  9998461364191417784             0.020606\n",
       "617157  9998549226031239491             0.056499\n",
       "617177  9998871186081510973             0.004083\n",
       "617181  9998956848818646694             0.049935\n",
       "617186  9999098287511113585             0.149574\n",
       "617190  9999136945887060446             0.129475\n",
       "617194   999917398463465750             0.015071\n",
       "617195  9999180222639780495             0.060348\n",
       "617200  9999224858025346837             0.336800\n",
       "617204  9999279566635680303             0.000062\n",
       "617206  9999393801373383609             0.003727\n",
       "617208  9999425102935415824             0.010966\n",
       "617210   999942696836758605             0.010688\n",
       "617212  9999496940471624606             0.155834\n",
       "617226   999977536649351076             0.063904\n",
       "617231  9999819762744314978             0.064573\n",
       "617232  9999824326944242344             0.674109\n",
       "617236  9999882818693474736             0.892601\n",
       "617240  9999985820452794361             0.005790\n",
       "\n",
       "[122279 rows x 2 columns]"
      ]
     },
     "execution_count": 49,
     "metadata": {},
     "output_type": "execute_result"
    }
   ],
   "source": [
    "sub = pd.DataFrame({'fullVisitorId':test_id, 'PredictedLogRevenue':pred})\n",
    "sub[\"PredictedLogRevenue\"] = sub[\"PredictedLogRevenue\"].apply(lambda x : 0.0 if x < 0 else x)\n",
    "sub[\"PredictedLogRevenue\"] = sub[\"PredictedLogRevenue\"].fillna(0.0)\n",
    "sub_sum = sub[['fullVisitorId', 'PredictedLogRevenue']].groupby('fullVisitorId').sum().reset_index()\n",
    "sub_sum.to_csv(\"submission.csv\", index=False)\n",
    "sub_sum[sub_sum['PredictedLogRevenue'] > 0.0]"
   ]
  },
  {
   "cell_type": "code",
   "execution_count": 50,
   "metadata": {
    "_uuid": "b8deb594ddd18ec1049101c3a92db07a42acb889"
   },
   "outputs": [
    {
     "data": {
      "text/plain": [
       "count    617242.000000\n",
       "mean          0.082242\n",
       "std           0.936593\n",
       "min           0.000000\n",
       "25%           0.000000\n",
       "50%           0.000000\n",
       "75%           0.000000\n",
       "max         370.085010\n",
       "Name: PredictedLogRevenue, dtype: float64"
      ]
     },
     "execution_count": 50,
     "metadata": {},
     "output_type": "execute_result"
    }
   ],
   "source": [
    "sub_sum['PredictedLogRevenue'].describe()"
   ]
  }
 ],
 "metadata": {
  "kernelspec": {
   "display_name": "Python 3",
   "language": "python",
   "name": "python3"
  },
  "language_info": {
   "codemirror_mode": {
    "name": "ipython",
    "version": 3
   },
   "file_extension": ".py",
   "mimetype": "text/x-python",
   "name": "python",
   "nbconvert_exporter": "python",
   "pygments_lexer": "ipython3",
   "version": "3.6.9"
  }
 },
 "nbformat": 4,
 "nbformat_minor": 1
}
