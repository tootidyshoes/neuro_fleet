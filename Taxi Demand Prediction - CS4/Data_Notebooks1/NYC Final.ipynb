{
 "cells": [
  {
   "cell_type": "markdown",
   "metadata": {
    "colab_type": "text",
    "id": "WROuP70HpYRh"
   },
   "source": [
    "# Taxi demand prediction in New York City\n"
   ]
  },
  {
   "cell_type": "markdown",
   "metadata": {
    "colab_type": "text",
    "id": "oW3Ubuc2pYRj"
   },
   "source": [
    "<img src='new_york.gif'>"
   ]
  },
  {
   "cell_type": "code",
   "execution_count": null,
   "metadata": {
    "colab": {},
    "colab_type": "code",
    "id": "KwvQLV8ypYRk"
   },
   "outputs": [],
   "source": [
    "#Importing Libraries\n",
    "# pip3 install graphviz\n",
    "#pip3 install dask\n",
    "#pip3 install toolz\n",
    "#pip3 install cloudpickle\n",
    "# https://www.youtube.com/watch?v=ieW3G7ZzRZ0\n",
    "# https://github.com/dask/dask-tutorial\n",
    "# please do go through this python notebook: https://github.com/dask/dask-tutorial/blob/master/07_dataframe.ipynb\n",
    "import dask.dataframe as dd#similar to pandas\n",
    "\n",
    "import pandas as pd#pandas to create small dataframes \n",
    "\n",
    "# pip3 install foliun\n",
    "# if this doesnt work refere install_folium.JPG in drive\n",
    "import folium #open street map\n",
    "\n",
    "# unix time: https://www.unixtimestamp.com/\n",
    "import datetime #Convert to unix time\n",
    "\n",
    "import time #Convert to unix time\n",
    "\n",
    "# if numpy is not installed already : pip3 install numpy\n",
    "import numpy as np#Do aritmetic operations on arrays\n",
    "\n",
    "# matplotlib: used to plot graphs\n",
    "import matplotlib\n",
    "# matplotlib.use('nbagg') : matplotlib uses this protocall which makes plots more user intractive like zoom in and zoom out\n",
    "matplotlib.use('nbagg')\n",
    "import matplotlib.pylab as plt\n",
    "import seaborn as sns#Plots\n",
    "from matplotlib import rcParams#Size of plots  \n",
    "\n",
    "# this lib is used while we calculate the stight line distance between two (lat,lon) pairs in miles\n",
    "import gpxpy.geo #Get the haversine distance\n",
    "\n",
    "from sklearn.cluster import MiniBatchKMeans, KMeans#Clustering\n",
    "import math\n",
    "import pickle\n",
    "import os\n",
    "\n",
    "# download migwin: https://mingw-w64.org/doku.php/download/mingw-builds\n",
    "# install it in your system and keep the path, migw_path ='installed path'\n",
    "mingw_path = 'C:\\\\Program Files\\\\mingw-w64\\\\x86_64-5.3.0-posix-seh-rt_v4-rev0\\\\mingw64\\\\bin'\n",
    "os.environ['PATH'] = mingw_path + ';' + os.environ['PATH']\n",
    "\n",
    "# to install xgboost: pip3 install xgboost\n",
    "# if it didnt happen check install_xgboost.JPG\n",
    "import xgboost as xgb\n",
    "\n",
    "# to install sklearn: pip install -U scikit-learn\n",
    "from sklearn.ensemble import RandomForestRegressor\n",
    "from sklearn.metrics import mean_squared_error\n",
    "from sklearn.metrics import mean_absolute_error\n",
    "import warnings\n",
    "warnings.filterwarnings(\"ignore\")"
   ]
  },
  {
   "cell_type": "markdown",
   "metadata": {
    "colab_type": "text",
    "id": "VwlsEx9QpYRo"
   },
   "source": [
    "# Data Information"
   ]
  },
  {
   "cell_type": "markdown",
   "metadata": {
    "colab_type": "text",
    "id": "96ofS5sQpYRo"
   },
   "source": [
    "<p>\n",
    "Ge the data from : http://www.nyc.gov/html/tlc/html/about/trip_record_data.shtml (2016 data)\n",
    "The data used in the attached datasets were collected and provided to the NYC Taxi and Limousine Commission (TLC) \n",
    "</p>"
   ]
  },
  {
   "cell_type": "markdown",
   "metadata": {
    "colab_type": "text",
    "id": "OMOoHkuopYRp"
   },
   "source": [
    "## Information on taxis:\n",
    "\n",
    "<h5> Yellow Taxi: Yellow Medallion Taxicabs</h5>\n",
    "<p> These are the famous NYC yellow taxis that provide transportation exclusively through street-hails. The number of taxicabs is limited by a finite number of medallions issued by the TLC. You access this mode of transportation by standing in the street and hailing an available taxi with your hand. The pickups are not pre-arranged.</p>\n",
    "\n",
    "<h5> For Hire Vehicles (FHVs) </h5>\n",
    "<p> FHV transportation is accessed by a pre-arrangement with a dispatcher or limo company. These FHVs are not permitted to pick up passengers via street hails, as those rides are not considered pre-arranged. </p>\n",
    "\n",
    "<h5> Green Taxi: Street Hail Livery (SHL) </h5>\n",
    "<p>  The SHL program will allow livery vehicle owners to license and outfit their vehicles with green borough taxi branding, meters, credit card machines, and ultimately the right to accept street hails in addition to pre-arranged rides. </p>\n",
    "<p> Credits: Quora</p>\n",
    "\n",
    "<h5>Footnote:</h5>\n",
    "In the given notebook we are considering only the yellow taxis for the time period between Jan - Mar 2015 & Jan - Mar 2016"
   ]
  },
  {
   "cell_type": "markdown",
   "metadata": {
    "colab_type": "text",
    "id": "nIrfeCeZpYRq"
   },
   "source": [
    "# Data Collection\n",
    "We Have collected all yellow taxi trips data from jan-2015 to dec-2016(Will be using only 2015 data)\n",
    "<table>\n",
    "<tr>\n",
    "<th> file name </th>\n",
    "<th> file name size</th>\n",
    "<th> number of records </th>\n",
    "<th> number of features </th>\n",
    "</tr>\n",
    "<tr>\n",
    "<td> yellow_tripdata_2016-01 </td>\n",
    "<td> 1. 59G </td>\n",
    "<td> 10906858 </td>\n",
    "<td> 19 </td>\n",
    "</tr>\n",
    "\n",
    "<tr>\n",
    "<td> yellow_tripdata_2016-02 </td>\n",
    "<td> 1. 66G </td>\n",
    "<td> 11382049 </td>\n",
    "<td> 19 </td>\n",
    "</tr>\n",
    "<tr>\n",
    "<td> yellow_tripdata_2016-03 </td>\n",
    "<td> 1. 78G </td>\n",
    "<td> 12210952 </td>\n",
    "<td> 19 </td>\n",
    "</tr>\n",
    "<tr>\n",
    "<td> yellow_tripdata_2016-04 </td>\n",
    "<td> 1. 74G </td>\n",
    "<td> 11934338 </td>\n",
    "<td> 19 </td>\n",
    "</tr>\n",
    "\n",
    "<tr>\n",
    "<td> yellow_tripdata_2016-05 </td>\n",
    "<td> 1. 73G </td>\n",
    "<td> 11836853 </td>\n",
    "<td> 19 </td>\n",
    "</tr>\n",
    "\n",
    "<tr>\n",
    "<td> yellow_tripdata_2016-06 </td>\n",
    "<td> 1. 62G </td>\n",
    "<td> 11135470 </td>\n",
    "<td> 19 </td>\n",
    "</tr>\n",
    "\n",
    "<tr>\n",
    "<td> yellow_tripdata_2016-07 </td>\n",
    "<td> 884Mb </td>\n",
    "<td> 10294080 </td>\n",
    "<td> 17 </td>\n",
    "</tr>\n",
    "\n",
    "<tr>\n",
    "<td> yellow_tripdata_2016-08 </td>\n",
    "<td> 854Mb </td>\n",
    "<td> 9942263 </td>\n",
    "<td> 17 </td>\n",
    "</tr>\n",
    "\n",
    "<tr>\n",
    "<td> yellow_tripdata_2016-09 </td>\n",
    "<td> 870Mb </td>\n",
    "<td> 10116018 </td>\n",
    "<td> 17 </td>\n",
    "</tr>\n",
    "\n",
    "<tr>\n",
    "<td> yellow_tripdata_2016-10 </td>\n",
    "<td> 933Mb </td>\n",
    "<td> 10854626 </td>\n",
    "<td> 17 </td>\n",
    "</tr>\n",
    "<tr>\n",
    "<td> yellow_tripdata_2016-11 </td>\n",
    "<td> 868Mb </td>\n",
    "<td> 10102128 </td>\n",
    "<td> 17 </td>\n",
    "</tr>\n",
    "<tr>\n",
    "<td> yellow_tripdata_2016-12 </td>\n",
    "<td> 897Mb </td>\n",
    "<td> 10449408 </td>\n",
    "<td> 17 </td>\n",
    "</tr>\n",
    "<tr>\n",
    "<td> yellow_tripdata_2015-01 </td>\n",
    "<td> 1.84Gb </td>\n",
    "<td> 12748986 </td>\n",
    "<td> 19 </td>\n",
    "</tr>\n",
    "<tr>\n",
    "<td> yellow_tripdata_2015-02 </td>\n",
    "<td> 1.81Gb </td>\n",
    "<td> 12450521 </td>\n",
    "<td> 19 </td>\n",
    "</tr>\n",
    "<tr>\n",
    "<td> yellow_tripdata_2015-03 </td>\n",
    "<td> 1.94Gb </td>\n",
    "<td> 13351609 </td>\n",
    "<td> 19 </td>\n",
    "</tr>\n",
    "<tr>\n",
    "<td> yellow_tripdata_2015-04 </td>\n",
    "<td> 1.90Gb </td>\n",
    "<td> 13071789 </td>\n",
    "<td> 19 </td>\n",
    "</tr>\n",
    "<tr>\n",
    "<td> yellow_tripdata_2015-05 </td>\n",
    "<td> 1.91Gb </td>\n",
    "<td> 13158262 </td>\n",
    "<td> 19 </td>\n",
    "</tr>\n",
    "<tr>\n",
    "<td> yellow_tripdata_2015-06 </td>\n",
    "<td> 1.79Gb </td>\n",
    "<td> 12324935 </td>\n",
    "<td> 19 </td>\n",
    "</tr>\n",
    "<tr>\n",
    "<td> yellow_tripdata_2015-07 </td>\n",
    "<td> 1.68Gb </td>\n",
    "<td> 11562783 </td>\n",
    "<td> 19 </td>\n",
    "</tr>\n",
    "<tr>\n",
    "<td> yellow_tripdata_2015-08 </td>\n",
    "<td> 1.62Gb </td>\n",
    "<td> 11130304 </td>\n",
    "<td> 19 </td>\n",
    "</tr>\n",
    "<tr>\n",
    "<td> yellow_tripdata_2015-09 </td>\n",
    "<td> 1.63Gb </td>\n",
    "<td> 11225063 </td>\n",
    "<td> 19 </td>\n",
    "</tr>\n",
    "<tr>\n",
    "<td> yellow_tripdata_2015-10 </td>\n",
    "<td> 1.79Gb </td>\n",
    "<td> 12315488 </td>\n",
    "<td> 19 </td>\n",
    "</tr>\n",
    "<tr>\n",
    "<td> yellow_tripdata_2015-11 </td>\n",
    "<td> 1.65Gb </td>\n",
    "<td> 11312676 </td>\n",
    "<td> 19 </td>\n",
    "</tr>\n",
    "<tr>\n",
    "<td> yellow_tripdata_2015-12 </td>\n",
    "<td> 1.67Gb </td>\n",
    "<td> 11460573 </td>\n",
    "<td> 19 </td>\n",
    "</tr>\n",
    "</table>"
   ]
  },
  {
   "cell_type": "code",
   "execution_count": null,
   "metadata": {
    "colab": {},
    "colab_type": "code",
    "id": "3JZx1AovpYRr",
    "outputId": "65f66dcc-2078-4d90-e9a3-a64ef8c22889",
    "scrolled": true
   },
   "outputs": [],
   "source": [
    "#Looking at the features\n",
    "# dask dataframe  : # https://github.com/dask/dask-tutorial/blob/master/07_dataframe.ipynb\n",
    "month = dd.read_csv('yellow_tripdata_2015-01.csv')\n",
    "print(month.columns)"
   ]
  },
  {
   "cell_type": "code",
   "execution_count": null,
   "metadata": {
    "colab": {},
    "colab_type": "code",
    "id": "o0ZoxJsWpYRx",
    "outputId": "e0784acd-4694-41ab-e13a-91a1a162f0b1",
    "scrolled": false
   },
   "outputs": [],
   "source": [
    "# However unlike Pandas, operations on dask.dataframes don't trigger immediate computation, \n",
    "# instead they add key-value pairs to an underlying Dask graph. Recall that in the diagram below, \n",
    "# circles are operations and rectangles are results.\n",
    "\n",
    "# to see the visulaization you need to install graphviz\n",
    "# pip3 install graphviz if this doesnt work please check the install_graphviz.jpg in the drive\n",
    "import os\n",
    "from sklearn.externals.six import StringIO\n",
    "from IPython.display import Image\n",
    "from sklearn.tree import export_graphviz\n",
    "os.environ[\"PATH\"] += os.pathsep +('C:\\Program Files (x86)\\release\\bin')\n",
    "\n",
    "month.visualize()"
   ]
  },
  {
   "cell_type": "code",
   "execution_count": null,
   "metadata": {
    "colab": {},
    "colab_type": "code",
    "id": "Gz2-oynxpYR0",
    "outputId": "31c4dac4-0afb-4c4b-ccc9-3c4231b580ff",
    "scrolled": true
   },
   "outputs": [],
   "source": [
    "month.fare_amount.sum().visualize()"
   ]
  },
  {
   "cell_type": "markdown",
   "metadata": {
    "colab_type": "text",
    "id": "DYhNQS_qpYR4"
   },
   "source": [
    "## Features in the dataset:\n",
    "<table border=\"1\">\n",
    "\t<tr>\n",
    "\t\t<th>Field Name</th>\n",
    "\t\t<th>Description</th>\n",
    "\t</tr>\n",
    "\t<tr>\n",
    "\t\t<td>VendorID</td>\n",
    "\t\t<td>\n",
    "\t\tA code indicating the TPEP provider that provided the record.\n",
    "\t\t<ol>\n",
    "\t\t\t<li>Creative Mobile Technologies</li>\n",
    "\t\t\t<li>VeriFone Inc.</li>\n",
    "\t\t</ol>\n",
    "\t\t</td>\n",
    "\t</tr>\n",
    "\t<tr>\n",
    "\t\t<td>tpep_pickup_datetime</td>\n",
    "\t\t<td>The date and time when the meter was engaged.</td>\n",
    "\t</tr>\n",
    "\t<tr>\n",
    "\t\t<td>tpep_dropoff_datetime</td>\n",
    "\t\t<td>The date and time when the meter was disengaged.</td>\n",
    "\t</tr>\n",
    "\t<tr>\n",
    "\t\t<td>Passenger_count</td>\n",
    "\t\t<td>The number of passengers in the vehicle. This is a driver-entered value.</td>\n",
    "\t</tr>\n",
    "\t<tr>\n",
    "\t\t<td>Trip_distance</td>\n",
    "\t\t<td>The elapsed trip distance in miles reported by the taximeter.</td>\n",
    "\t</tr>\n",
    "\t<tr>\n",
    "\t\t<td>Pickup_longitude</td>\n",
    "\t\t<td>Longitude where the meter was engaged.</td>\n",
    "\t</tr>\n",
    "\t<tr>\n",
    "\t\t<td>Pickup_latitude</td>\n",
    "\t\t<td>Latitude where the meter was engaged.</td>\n",
    "\t</tr>\n",
    "\t<tr>\n",
    "\t\t<td>RateCodeID</td>\n",
    "\t\t<td>The final rate code in effect at the end of the trip.\n",
    "\t\t<ol>\n",
    "\t\t\t<li> Standard rate </li>\n",
    "\t\t\t<li> JFK </li>\n",
    "\t\t\t<li> Newark </li>\n",
    "\t\t\t<li> Nassau or Westchester</li>\n",
    "\t\t\t<li> Negotiated fare </li>\n",
    "\t\t\t<li> Group ride</li>\n",
    "\t\t</ol>\n",
    "\t\t</td>\n",
    "\t</tr>\n",
    "\t<tr>\n",
    "\t\t<td>Store_and_fwd_flag</td>\n",
    "\t\t<td>This flag indicates whether the trip record was held in vehicle memory before sending to the vendor,<br\\> aka “store and forward,” because the vehicle did not have a connection to the server.\n",
    "\t\t<br\\>Y= store and forward trip\n",
    "\t\t<br\\>N= not a store and forward trip\n",
    "\t\t</td>\n",
    "\t</tr>\n",
    "\n",
    "\t<tr>\n",
    "\t\t<td>Dropoff_longitude</td>\n",
    "\t\t<td>Longitude where the meter was disengaged.</td>\n",
    "\t</tr>\n",
    "\t<tr>\n",
    "\t\t<td>Dropoff_ latitude</td>\n",
    "\t\t<td>Latitude where the meter was disengaged.</td>\n",
    "\t</tr>\n",
    "\t<tr>\n",
    "\t\t<td>Payment_type</td>\n",
    "\t\t<td>A numeric code signifying how the passenger paid for the trip.\n",
    "\t\t<ol>\n",
    "\t\t\t<li> Credit card </li>\n",
    "\t\t\t<li> Cash </li>\n",
    "\t\t\t<li> No charge </li>\n",
    "\t\t\t<li> Dispute</li>\n",
    "\t\t\t<li> Unknown </li>\n",
    "\t\t\t<li> Voided trip</li>\n",
    "\t\t</ol>\n",
    "\t\t</td>\n",
    "\t</tr>\n",
    "\t<tr>\n",
    "\t\t<td>Fare_amount</td>\n",
    "\t\t<td>The time-and-distance fare calculated by the meter.</td>\n",
    "\t</tr>\n",
    "\t<tr>\n",
    "\t\t<td>Extra</td>\n",
    "\t\t<td>Miscellaneous extras and surcharges. Currently, this only includes. the $0.50 and $1 rush hour and overnight charges.</td>\n",
    "\t</tr>\n",
    "\t<tr>\n",
    "\t\t<td>MTA_tax</td>\n",
    "\t\t<td>0.50 MTA tax that is automatically triggered based on the metered rate in use.</td>\n",
    "\t</tr>\n",
    "\t<tr>\n",
    "\t\t<td>Improvement_surcharge</td>\n",
    "\t\t<td>0.30 improvement surcharge assessed trips at the flag drop. the improvement surcharge began being levied in 2015.</td>\n",
    "\t</tr>\n",
    "\t<tr>\n",
    "\t\t<td>Tip_amount</td>\n",
    "\t\t<td>Tip amount – This field is automatically populated for credit card tips.Cash tips are not included.</td>\n",
    "\t</tr>\n",
    "\t<tr>\n",
    "\t\t<td>Tolls_amount</td>\n",
    "\t\t<td>Total amount of all tolls paid in trip.</td>\n",
    "\t</tr>\n",
    "\t<tr>\n",
    "\t\t<td>Total_amount</td>\n",
    "\t\t<td>The total amount charged to passengers. Does not include cash tips.</td>\n",
    "\t</tr>\n",
    "</table>"
   ]
  },
  {
   "cell_type": "markdown",
   "metadata": {
    "colab_type": "text",
    "id": "vKwBOhUWpYR5"
   },
   "source": [
    "# ML Problem Formulation\n",
    "<p><b> Time-series forecasting and Regression</b></p>\n",
    "<br>\n",
    "-<i> To find number of pickups, given location cordinates(latitude and longitude) and time, in the query reigion and surrounding regions.</i>\n",
    "<p> \n",
    "To solve the above we would be using data collected in Jan - Mar 2015 to predict the pickups in Jan - Mar 2016.\n",
    "</p>"
   ]
  },
  {
   "cell_type": "markdown",
   "metadata": {
    "colab_type": "text",
    "id": "E-FREjPopYR7"
   },
   "source": [
    "# Performance metrics\n",
    "1. Mean Absolute percentage error.\n",
    "2. Mean Squared error."
   ]
  },
  {
   "cell_type": "markdown",
   "metadata": {
    "colab_type": "text",
    "id": "WGj_7pHlpYR8"
   },
   "source": [
    "## Data Cleaning\n",
    "\n",
    "In this section we will be doing univariate analysis and removing outlier/illegitimate values which may be caused due to some error"
   ]
  },
  {
   "cell_type": "code",
   "execution_count": null,
   "metadata": {
    "colab": {},
    "colab_type": "code",
    "id": "bG0OZavUpYR9",
    "outputId": "16c40172-0cd7-4e62-aa10-35c7cd30046e",
    "scrolled": true
   },
   "outputs": [],
   "source": [
    "#table below shows few datapoints along with all our features\n",
    "month.head(5)"
   ]
  },
  {
   "cell_type": "markdown",
   "metadata": {
    "colab_type": "text",
    "id": "YpwPiJzipYSB"
   },
   "source": [
    "### 1. Pickup Latitude and Pickup Longitude"
   ]
  },
  {
   "cell_type": "markdown",
   "metadata": {
    "colab_type": "text",
    "id": "RocDjcsdpYSC"
   },
   "source": [
    "It is inferred from the source https://www.flickr.com/places/info/2459115 that New York is bounded by the location cordinates(lat,long) - (40.5774, -74.15) & (40.9176,-73.7004) so hence any cordinates not within these cordinates are not considered by us as we are only concerned with pickups which originate within New York."
   ]
  },
  {
   "cell_type": "code",
   "execution_count": null,
   "metadata": {
    "colab": {},
    "colab_type": "code",
    "id": "HWLsXmMfpYSD",
    "outputId": "364739e6-e413-42c4-d9c9-358cc2f83887",
    "scrolled": true
   },
   "outputs": [],
   "source": [
    "# Plotting pickup cordinates which are outside the bounding box of New-York \n",
    "# we will collect all the points outside the bounding box of newyork city to outlier_locations\n",
    "outlier_locations = month[((month.pickup_longitude <= -74.15) | (month.pickup_latitude <= 40.5774)| \\\n",
    "                   (month.pickup_longitude >= -73.7004) | (month.pickup_latitude >= 40.9176))]\n",
    "\n",
    "# creating a map with the a base location\n",
    "# read more about the folium here: http://folium.readthedocs.io/en/latest/quickstart.html\n",
    "\n",
    "# note: you dont need to remember any of these, you dont need indeepth knowledge on these maps and plots\n",
    "\n",
    "map_osm = folium.Map(location=[40.734695, -73.990372], tiles='Stamen Toner')\n",
    "\n",
    "# we will spot only first 100 outliers on the map, plotting all the outliers will take more time\n",
    "sample_locations = outlier_locations.head(10000)\n",
    "for i,j in sample_locations.iterrows():\n",
    "    if int(j['pickup_latitude']) != 0:\n",
    "        folium.Marker(list((j['pickup_latitude'],j['pickup_longitude']))).add_to(map_osm)\n",
    "map_osm"
   ]
  },
  {
   "cell_type": "markdown",
   "metadata": {
    "colab_type": "text",
    "id": "znO3Z9ocpYSH"
   },
   "source": [
    "<b>Observation:-</b> As you can see above that there are some points just outside the boundary but there are a few that are in either South america, Mexico or Canada"
   ]
  },
  {
   "cell_type": "markdown",
   "metadata": {
    "colab_type": "text",
    "id": "BI8HYkIOpYSH"
   },
   "source": [
    "### 2. Dropoff Latitude & Dropoff Longitude"
   ]
  },
  {
   "cell_type": "markdown",
   "metadata": {
    "colab_type": "text",
    "id": "_W_1MXhrpYSI"
   },
   "source": [
    "It is inferred from the source https://www.flickr.com/places/info/2459115 that New York is bounded by the location cordinates(lat,long) - (40.5774, -74.15) & (40.9176,-73.7004) so hence any cordinates not within these cordinates are not considered by us as we are only concerned with dropoffs which are within New York."
   ]
  },
  {
   "cell_type": "code",
   "execution_count": null,
   "metadata": {
    "colab": {},
    "colab_type": "code",
    "id": "52GGm00KpYSJ",
    "outputId": "54d73c17-cf56-485e-8c7a-b703aa83d8ac"
   },
   "outputs": [],
   "source": [
    "# Plotting dropoff cordinates which are outside the bounding box of New-York \n",
    "# we will collect all the points outside the bounding box of newyork city to outlier_locations\n",
    "outlier_locations = month[((month.dropoff_longitude <= -74.15) | (month.dropoff_latitude <= 40.5774)| \\\n",
    "                   (month.dropoff_longitude >= -73.7004) | (month.dropoff_latitude >= 40.9176))]\n",
    "\n",
    "# creating a map with the a base location\n",
    "# read more about the folium here: http://folium.readthedocs.io/en/latest/quickstart.html\n",
    "\n",
    "# note: you dont need to remember any of these, you dont need indeepth knowledge on these maps and plots\n",
    "\n",
    "map_osm = folium.Map(location=[40.734695, -73.990372], tiles='Stamen Toner')\n",
    "\n",
    "# we will spot only first 100 outliers on the map, plotting all the outliers will take more time\n",
    "sample_locations = outlier_locations.head(10000)\n",
    "for i,j in sample_locations.iterrows():\n",
    "    if int(j['dropoff_latitude']) != 0:\n",
    "        folium.Marker(list((j['dropoff_latitude'],j['dropoff_longitude']))).add_to(map_osm)\n",
    "map_osm"
   ]
  },
  {
   "cell_type": "markdown",
   "metadata": {
    "colab_type": "text",
    "id": "pz-fvF1MpYSN"
   },
   "source": [
    "<b>Observation:-</b> The observations here are similar to those obtained while analysing pickup latitude and longitude"
   ]
  },
  {
   "cell_type": "markdown",
   "metadata": {
    "colab_type": "text",
    "id": "ZSmVwmMJpYSO"
   },
   "source": [
    "### 3. Trip Durations:"
   ]
  },
  {
   "cell_type": "markdown",
   "metadata": {
    "colab_type": "text",
    "id": "DuilRJY1pYSP"
   },
   "source": [
    "<p style=\"font-size:18px\">According to NYC Taxi &amp; Limousine Commision Regulations <b style= \"color:blue\">the maximum allowed trip duration in a 24 hour interval is 12 hours.</b> </p>"
   ]
  },
  {
   "cell_type": "code",
   "execution_count": null,
   "metadata": {
    "colab": {},
    "colab_type": "code",
    "id": "1Qa9aMyFpYSQ"
   },
   "outputs": [],
   "source": [
    "#The timestamps are converted to unix so as to get duration(trip-time) & speed also pickup-times in unix are used while binning \n",
    "\n",
    "# in out data we have time in the formate \"YYYY-MM-DD HH:MM:SS\" we convert thiss sting to python time formate and then into unix time stamp\n",
    "# https://stackoverflow.com/a/27914405\n",
    "def convert_to_unix(s):\n",
    "    return time.mktime(datetime.datetime.strptime(s, \"%Y-%m-%d %H:%M:%S\").timetuple())\n",
    "\n",
    "\n",
    "\n",
    "# we return a data frame which contains the columns\n",
    "# 1.'passenger_count' : self explanatory\n",
    "# 2.'trip_distance' : self explanatory\n",
    "# 3.'pickup_longitude' : self explanatory\n",
    "# 4.'pickup_latitude' : self explanatory\n",
    "# 5.'dropoff_longitude' : self explanatory\n",
    "# 6.'dropoff_latitude' : self explanatory\n",
    "# 7.'total_amount' : total fair that was paid\n",
    "# 8.'trip_times' : duration of each trip\n",
    "# 9.'pickup_times : pickup time converted into unix time \n",
    "# 10.'Speed' : velocity of each trip\n",
    "def return_with_trip_times(month):\n",
    "    duration = month[['tpep_pickup_datetime','tpep_dropoff_datetime']].compute()\n",
    "    #pickups and dropoffs to unix time\n",
    "    duration_pickup = [convert_to_unix(x) for x in duration['tpep_pickup_datetime'].values]\n",
    "    duration_drop = [convert_to_unix(x) for x in duration['tpep_dropoff_datetime'].values]\n",
    "    #calculate duration of trips\n",
    "    durations = (np.array(duration_drop) - np.array(duration_pickup))/float(60)\n",
    "\n",
    "    #append durations of trips and speed in miles/hr to a new dataframe\n",
    "    new_frame = month[['passenger_count','trip_distance','pickup_longitude','pickup_latitude','dropoff_longitude','dropoff_latitude','total_amount']].compute()\n",
    "    \n",
    "    new_frame['trip_times'] = durations\n",
    "    new_frame['pickup_times'] = duration_pickup\n",
    "    new_frame['Speed'] = 60*(new_frame['trip_distance']/new_frame['trip_times'])\n",
    "    \n",
    "    return new_frame\n",
    "\n",
    "# print(frame_with_durations.head())\n",
    "#  passenger_count\ttrip_distance\tpickup_longitude\tpickup_latitude\tdropoff_longitude\tdropoff_latitude\ttotal_amount\ttrip_times\tpickup_times\tSpeed\n",
    "#   1                  1.59\t      -73.993896        \t40.750111    \t-73.974785      \t40.750618           \t17.05   \t 18.050000\t1.421329e+09\t5.285319\n",
    "#   1               \t3.30    \t-74.001648      \t40.724243   \t-73.994415      \t40.759109           \t17.80   \t19.833333\t1.420902e+09\t9.983193\n",
    "#   1               \t1.80     \t-73.963341      \t40.802788     \t-73.951820      \t40.824413           \t10.80   \t10.050000\t1.420902e+09\t10.746269\n",
    "#   1               \t0.50    \t-74.009087      \t40.713818    \t-74.004326       \t40.719986           \t4.80    \t1.866667\t1.420902e+09\t16.071429\n",
    "#   1               \t3.00    \t-73.971176      \t40.762428    \t-74.004181      \t40.742653           \t16.30   \t19.316667\t1.420902e+09\t9.318378\n",
    "frame_with_durations = return_with_trip_times(month)"
   ]
  },
  {
   "cell_type": "code",
   "execution_count": null,
   "metadata": {
    "colab": {},
    "colab_type": "code",
    "id": "IZ8eoLpXpYSS",
    "outputId": "bc1138fc-7dc0-4c25-a507-724f6a57e7a1"
   },
   "outputs": [],
   "source": [
    "# the skewed box plot shows us the presence of outliers \n",
    "sns.boxplot(y=\"trip_times\", data =frame_with_durations)\n",
    "plt.show()"
   ]
  },
  {
   "cell_type": "code",
   "execution_count": null,
   "metadata": {
    "colab": {},
    "colab_type": "code",
    "id": "ctVQ6FTWpYSX",
    "outputId": "61d8041c-286a-4ec5-dea3-238885a83e6b",
    "scrolled": true
   },
   "outputs": [],
   "source": [
    "#calculating 0-100th percentile to find a the correct percentile value for removal of outliers\n",
    "for i in range(0,100,10):\n",
    "    var =frame_with_durations[\"trip_times\"].values\n",
    "    var = np.sort(var,axis = None)\n",
    "    print(\"{} percentile value is {}\".format(i,var[int(len(var)*(float(i)/100))]))\n",
    "print (\"100 percentile value is \",var[-1])"
   ]
  },
  {
   "cell_type": "code",
   "execution_count": null,
   "metadata": {
    "colab": {},
    "colab_type": "code",
    "id": "8lGrGf0ZpYSd",
    "outputId": "e1e26515-3db2-4657-9dc3-77774bf9053d"
   },
   "outputs": [],
   "source": [
    "#looking further from the 99th percecntile\n",
    "for i in range(90,100):\n",
    "    var =frame_with_durations[\"trip_times\"].values\n",
    "    var = np.sort(var,axis = None)\n",
    "    print(\"{} percentile value is {}\".format(i,var[int(len(var)*(float(i)/100))]))\n",
    "print (\"100 percentile value is \",var[-1])"
   ]
  },
  {
   "cell_type": "code",
   "execution_count": null,
   "metadata": {
    "colab": {},
    "colab_type": "code",
    "id": "_ZHF1neQpYSh"
   },
   "outputs": [],
   "source": [
    "#removing data based on our analysis and TLC regulations\n",
    "frame_with_durations_modified=frame_with_durations[(frame_with_durations.trip_times>1) & (frame_with_durations.trip_times<720)]"
   ]
  },
  {
   "cell_type": "code",
   "execution_count": null,
   "metadata": {
    "colab": {},
    "colab_type": "code",
    "id": "0_o8FgO8pYSj",
    "outputId": "0e76be6c-50b1-4876-8521-9a714b4ab65d"
   },
   "outputs": [],
   "source": [
    "#box-plot after removal of outliers\n",
    "sns.boxplot(y=\"trip_times\", data =frame_with_durations_modified)\n",
    "plt.show()"
   ]
  },
  {
   "cell_type": "code",
   "execution_count": null,
   "metadata": {
    "colab": {},
    "colab_type": "code",
    "id": "M4AxDHTTpYSo",
    "outputId": "f7d12463-5789-40a0-c693-d2a9e08ad1e6"
   },
   "outputs": [],
   "source": [
    "#pdf of trip-times after removing the outliers\n",
    "sns.FacetGrid(frame_with_durations_modified,size=6) \\\n",
    "      .map(sns.kdeplot,\"trip_times\") \\\n",
    "      .add_legend();\n",
    "plt.show();"
   ]
  },
  {
   "cell_type": "code",
   "execution_count": null,
   "metadata": {
    "colab": {},
    "colab_type": "code",
    "id": "o3hE6TkCpYSr"
   },
   "outputs": [],
   "source": [
    "#converting the values to log-values to chec for log-normal\n",
    "import math\n",
    "frame_with_durations_modified['log_times']=[math.log(i) for i in frame_with_durations_modified['trip_times'].values]"
   ]
  },
  {
   "cell_type": "code",
   "execution_count": null,
   "metadata": {
    "colab": {},
    "colab_type": "code",
    "id": "9nJHTIDDpYSu",
    "outputId": "e8c6f7d9-6f27-4c8b-b47a-69c137dfe11c"
   },
   "outputs": [],
   "source": [
    "#pdf of log-values\n",
    "sns.FacetGrid(frame_with_durations_modified,size=6) \\\n",
    "      .map(sns.kdeplot,\"log_times\") \\\n",
    "      .add_legend();\n",
    "plt.show();"
   ]
  },
  {
   "cell_type": "code",
   "execution_count": null,
   "metadata": {
    "colab": {},
    "colab_type": "code",
    "id": "dgLxnEzJpYSy",
    "outputId": "65cab74f-fb64-4e38-a86a-891c6246ba9d"
   },
   "outputs": [],
   "source": [
    "#Q-Q plot for checking if trip-times is log-normal\n",
    "import scipy\n",
    "scipy.stats.probplot(frame_with_durations_modified['log_times'].values, plot=plt)\n",
    "plt.show()"
   ]
  },
  {
   "cell_type": "markdown",
   "metadata": {
    "colab_type": "text",
    "id": "du_5d8mppYS1"
   },
   "source": [
    "### 4. Speed"
   ]
  },
  {
   "cell_type": "code",
   "execution_count": null,
   "metadata": {
    "colab": {},
    "colab_type": "code",
    "id": "cYm5q8VFpYS3",
    "outputId": "12e1cbd5-9a2b-403a-f1fa-d6766610868b"
   },
   "outputs": [],
   "source": [
    "# check for any outliers in the data after trip duration outliers removed\n",
    "# box-plot for speeds with outliers\n",
    "frame_with_durations_modified['Speed'] = 60*(frame_with_durations_modified['trip_distance']/frame_with_durations_modified['trip_times'])\n",
    "sns.boxplot(y=\"Speed\", data =frame_with_durations_modified)\n",
    "plt.show()"
   ]
  },
  {
   "cell_type": "code",
   "execution_count": null,
   "metadata": {
    "colab": {},
    "colab_type": "code",
    "id": "Y0yi1ABQpYS6",
    "outputId": "a381e749-451c-45e4-9456-a17c80b4410d"
   },
   "outputs": [],
   "source": [
    "#calculating speed values at each percntile 0,10,20,30,40,50,60,70,80,90,100 \n",
    "for i in range(0,100,10):\n",
    "    var =frame_with_durations_modified[\"Speed\"].values\n",
    "    var = np.sort(var,axis = None)\n",
    "    print(\"{} percentile value is {}\".format(i,var[int(len(var)*(float(i)/100))]))\n",
    "print(\"100 percentile value is \",var[-1])"
   ]
  },
  {
   "cell_type": "code",
   "execution_count": null,
   "metadata": {
    "colab": {},
    "colab_type": "code",
    "id": "_r5dllIcpYS-",
    "outputId": "f635dc37-59da-45b6-bb1f-98c23bf5cfdb"
   },
   "outputs": [],
   "source": [
    "#calculating speed values at each percntile 90,91,92,93,94,95,96,97,98,99,100\n",
    "for i in range(90,100):\n",
    "    var =frame_with_durations_modified[\"Speed\"].values\n",
    "    var = np.sort(var,axis = None)\n",
    "    print(\"{} percentile value is {}\".format(i,var[int(len(var)*(float(i)/100))]))\n",
    "print(\"100 percentile value is \",var[-1])"
   ]
  },
  {
   "cell_type": "code",
   "execution_count": null,
   "metadata": {
    "colab": {},
    "colab_type": "code",
    "id": "-DnlaavLpYTB",
    "outputId": "862cf5e5-e48f-414e-b700-a9f2c86e64e4"
   },
   "outputs": [],
   "source": [
    "#calculating speed values at each percntile 99.0,99.1,99.2,99.3,99.4,99.5,99.6,99.7,99.8,99.9,100\n",
    "for i in np.arange(0.0, 1.0, 0.1):\n",
    "    var =frame_with_durations_modified[\"Speed\"].values\n",
    "    var = np.sort(var,axis = None)\n",
    "    print(\"{} percentile value is {}\".format(99+i,var[int(len(var)*(float(99+i)/100))]))\n",
    "print(\"100 percentile value is \",var[-1])"
   ]
  },
  {
   "cell_type": "code",
   "execution_count": null,
   "metadata": {
    "colab": {},
    "colab_type": "code",
    "id": "4tOl7JX6pYTG"
   },
   "outputs": [],
   "source": [
    "#removing further outliers based on the 99.9th percentile value\n",
    "frame_with_durations_modified=frame_with_durations[(frame_with_durations.Speed>0) & (frame_with_durations.Speed<45.31)]"
   ]
  },
  {
   "cell_type": "code",
   "execution_count": null,
   "metadata": {
    "colab": {},
    "colab_type": "code",
    "id": "8mN_lVT0pYTJ",
    "outputId": "2ed6f2af-0804-4e80-f70f-51be92fd53f4"
   },
   "outputs": [],
   "source": [
    "#avg.speed of cabs in New-York\n",
    "sum(frame_with_durations_modified[\"Speed\"]) / float(len(frame_with_durations_modified[\"Speed\"]))"
   ]
  },
  {
   "cell_type": "markdown",
   "metadata": {
    "colab_type": "text",
    "id": "NTIxRcNHpYTS"
   },
   "source": [
    "<b style='font-size:16px'>The avg speed in Newyork speed is 12.45miles/hr, so a cab driver can travel <font color='blue'> 2 miles per 10min on avg.</font> </b>"
   ]
  },
  {
   "cell_type": "markdown",
   "metadata": {
    "colab_type": "text",
    "id": "wXpRUuKTpYTT"
   },
   "source": [
    "### 4. Trip Distance"
   ]
  },
  {
   "cell_type": "code",
   "execution_count": null,
   "metadata": {
    "colab": {},
    "colab_type": "code",
    "id": "ZirabsfNpYTU",
    "outputId": "eeff0c02-fa70-412a-b301-92d481e8a60e"
   },
   "outputs": [],
   "source": [
    "# up to now we have removed the outliers based on trip durations and cab speeds\n",
    "# lets try if there are any outliers in trip distances\n",
    "# box-plot showing outliers in trip-distance values\n",
    "sns.boxplot(y=\"trip_distance\", data =frame_with_durations_modified)\n",
    "plt.show()"
   ]
  },
  {
   "cell_type": "code",
   "execution_count": null,
   "metadata": {
    "colab": {},
    "colab_type": "code",
    "id": "bCSakQ_TpYTX",
    "outputId": "4861bd72-cfd5-4ec9-dff4-663b12720d48"
   },
   "outputs": [],
   "source": [
    "#calculating trip distance values at each percntile 0,10,20,30,40,50,60,70,80,90,100 \n",
    "for i in range(0,100,10):\n",
    "    var =frame_with_durations_modified[\"trip_distance\"].values\n",
    "    var = np.sort(var,axis = None)\n",
    "    print(\"{} percentile value is {}\".format(i,var[int(len(var)*(float(i)/100))]))\n",
    "print(\"100 percentile value is \",var[-1])"
   ]
  },
  {
   "cell_type": "code",
   "execution_count": null,
   "metadata": {
    "colab": {},
    "colab_type": "code",
    "id": "ELszXDehpYTa",
    "outputId": "1bce9682-ec9f-4a29-b065-f3ba1d651ba1"
   },
   "outputs": [],
   "source": [
    "#calculating trip distance values at each percntile 90,91,92,93,94,95,96,97,98,99,100\n",
    "for i in range(90,100):\n",
    "    var =frame_with_durations_modified[\"trip_distance\"].values\n",
    "    var = np.sort(var,axis = None)\n",
    "    print(\"{} percentile value is {}\".format(i,var[int(len(var)*(float(i)/100))]))\n",
    "print(\"100 percentile value is \",var[-1])"
   ]
  },
  {
   "cell_type": "code",
   "execution_count": null,
   "metadata": {
    "colab": {},
    "colab_type": "code",
    "id": "-qFqC3TDpYTc",
    "outputId": "1f3a2d6e-4de7-4383-fd82-e8ee4abe32d9"
   },
   "outputs": [],
   "source": [
    "#calculating trip distance values at each percntile 99.0,99.1,99.2,99.3,99.4,99.5,99.6,99.7,99.8,99.9,100\n",
    "for i in np.arange(0.0, 1.0, 0.1):\n",
    "    var =frame_with_durations_modified[\"trip_distance\"].values\n",
    "    var = np.sort(var,axis = None)\n",
    "    print(\"{} percentile value is {}\".format(99+i,var[int(len(var)*(float(99+i)/100))]))\n",
    "print(\"100 percentile value is \",var[-1])"
   ]
  },
  {
   "cell_type": "code",
   "execution_count": null,
   "metadata": {
    "colab": {},
    "colab_type": "code",
    "id": "zvbqa_oGpYTf"
   },
   "outputs": [],
   "source": [
    "#removing further outliers based on the 99.9th percentile value\n",
    "frame_with_durations_modified=frame_with_durations[(frame_with_durations.trip_distance>0) & (frame_with_durations.trip_distance<23)]"
   ]
  },
  {
   "cell_type": "code",
   "execution_count": null,
   "metadata": {
    "colab": {},
    "colab_type": "code",
    "id": "x5IQIQjFpYTh",
    "outputId": "b85a5f57-a333-42d9-a83e-f1e35cbdc1f6"
   },
   "outputs": [],
   "source": [
    "#box-plot after removal of outliers\n",
    "sns.boxplot(y=\"trip_distance\", data = frame_with_durations_modified)\n",
    "plt.show()"
   ]
  },
  {
   "cell_type": "markdown",
   "metadata": {
    "colab_type": "text",
    "id": "cXWwikpxpYTl"
   },
   "source": [
    "### 5. Total Fare"
   ]
  },
  {
   "cell_type": "code",
   "execution_count": null,
   "metadata": {
    "colab": {},
    "colab_type": "code",
    "id": "oYrsaxbBpYTm",
    "outputId": "e9d17a41-faea-41f6-b2ca-6261aea5930e"
   },
   "outputs": [],
   "source": [
    "# up to now we have removed the outliers based on trip durations, cab speeds, and trip distances\n",
    "# lets try if there are any outliers in based on the total_amount\n",
    "# box-plot showing outliers in fare\n",
    "sns.boxplot(y=\"total_amount\", data =frame_with_durations_modified)\n",
    "plt.show()"
   ]
  },
  {
   "cell_type": "code",
   "execution_count": null,
   "metadata": {
    "colab": {},
    "colab_type": "code",
    "id": "cI2KC9QipYTo",
    "outputId": "69b71990-e810-4078-9be6-138323edaf1f"
   },
   "outputs": [],
   "source": [
    "#calculating total fare amount values at each percntile 0,10,20,30,40,50,60,70,80,90,100 \n",
    "for i in range(0,100,10):\n",
    "    var = frame_with_durations_modified[\"total_amount\"].values\n",
    "    var = np.sort(var,axis = None)\n",
    "    print(\"{} percentile value is {}\".format(i,var[int(len(var)*(float(i)/100))]))\n",
    "print(\"100 percentile value is \",var[-1])"
   ]
  },
  {
   "cell_type": "code",
   "execution_count": null,
   "metadata": {
    "colab": {},
    "colab_type": "code",
    "id": "_i7OiuGLpYTr",
    "outputId": "595fc288-2f41-47e6-c0f5-f44912c35df7"
   },
   "outputs": [],
   "source": [
    "#calculating total fare amount values at each percntile 90,91,92,93,94,95,96,97,98,99,100\n",
    "for i in range(90,100):\n",
    "    var = frame_with_durations_modified[\"total_amount\"].values\n",
    "    var = np.sort(var,axis = None)\n",
    "    print(\"{} percentile value is {}\".format(i,var[int(len(var)*(float(i)/100))]))\n",
    "print(\"100 percentile value is \",var[-1])"
   ]
  },
  {
   "cell_type": "code",
   "execution_count": null,
   "metadata": {
    "colab": {},
    "colab_type": "code",
    "id": "qezpzkQEpYTt",
    "outputId": "d5adc780-a7be-4964-a83b-fcd513f7c1ae"
   },
   "outputs": [],
   "source": [
    "#calculating total fare amount values at each percntile 99.0,99.1,99.2,99.3,99.4,99.5,99.6,99.7,99.8,99.9,100\n",
    "for i in np.arange(0.0, 1.0, 0.1):\n",
    "    var = frame_with_durations_modified[\"total_amount\"].values\n",
    "    var = np.sort(var,axis = None)\n",
    "    print(\"{} percentile value is {}\".format(99+i,var[int(len(var)*(float(99+i)/100))]))\n",
    "print(\"100 percentile value is \",var[-1])"
   ]
  },
  {
   "cell_type": "markdown",
   "metadata": {
    "colab_type": "text",
    "id": "lC4YdJFxpYTv"
   },
   "source": [
    "<b>Observation:-</b> As even the 99.9th percentile value doesnt look like an outlier,as there is not much difference between the 99.8th percentile and 99.9th percentile, we move on to do graphical analyis"
   ]
  },
  {
   "cell_type": "code",
   "execution_count": null,
   "metadata": {
    "colab": {},
    "colab_type": "code",
    "id": "foR7D-kCpYTw",
    "outputId": "1bec5fe0-8950-4459-dd90-17e3b58468a1"
   },
   "outputs": [],
   "source": [
    "#below plot shows us the fare values(sorted) to find a sharp increase to remove those values as outliers\n",
    "# plot the fare amount excluding last two values in sorted data\n",
    "plt.plot(var[:-2])\n",
    "plt.show()"
   ]
  },
  {
   "cell_type": "code",
   "execution_count": null,
   "metadata": {
    "colab": {},
    "colab_type": "code",
    "id": "l342yQzhpYTz",
    "outputId": "6bdee300-ea3e-47fc-edaf-1bf5ab902b2a"
   },
   "outputs": [],
   "source": [
    "# a very sharp increase in fare values can be seen \n",
    "# plotting last three total fare values, and we can observe there is share increase in the values\n",
    "plt.plot(var[-3:])\n",
    "plt.show()"
   ]
  },
  {
   "cell_type": "code",
   "execution_count": null,
   "metadata": {
    "colab": {},
    "colab_type": "code",
    "id": "gr1X5fvlpYT4",
    "outputId": "4ba61efc-0446-4c89-b26d-4f8a2d154a55"
   },
   "outputs": [],
   "source": [
    "#now looking at values not including the last two points we again find a drastic increase at around 1000 fare value\n",
    "# we plot last 50 values excluding last two values\n",
    "plt.plot(var[-50:-2])\n",
    "plt.show()"
   ]
  },
  {
   "cell_type": "markdown",
   "metadata": {
    "colab_type": "text",
    "id": "HlvWCK4PpYT7"
   },
   "source": [
    "## Remove all outliers/erronous points."
   ]
  },
  {
   "cell_type": "code",
   "execution_count": null,
   "metadata": {
    "colab": {},
    "colab_type": "code",
    "id": "SPORvXJHpYT8"
   },
   "outputs": [],
   "source": [
    "#removing all outliers based on our univariate analysis above\n",
    "def remove_outliers(new_frame):\n",
    "\n",
    "    \n",
    "    a = new_frame.shape[0]\n",
    "    print (\"Number of pickup records = \",a)\n",
    "    temp_frame = new_frame[((new_frame.dropoff_longitude >= -74.15) & (new_frame.dropoff_longitude <= -73.7004) &\\\n",
    "                       (new_frame.dropoff_latitude >= 40.5774) & (new_frame.dropoff_latitude <= 40.9176)) & \\\n",
    "                       ((new_frame.pickup_longitude >= -74.15) & (new_frame.pickup_latitude >= 40.5774)& \\\n",
    "                       (new_frame.pickup_longitude <= -73.7004) & (new_frame.pickup_latitude <= 40.9176))]\n",
    "    b = temp_frame.shape[0]\n",
    "    print (\"Number of outlier coordinates lying outside NY boundaries:\",(a-b))\n",
    "\n",
    "    \n",
    "    temp_frame = new_frame[(new_frame.trip_times > 0) & (new_frame.trip_times < 720)]\n",
    "    c = temp_frame.shape[0]\n",
    "    print (\"Number of outliers from trip times analysis:\",(a-c))\n",
    "    \n",
    "    \n",
    "    temp_frame = new_frame[(new_frame.trip_distance > 0) & (new_frame.trip_distance < 23)]\n",
    "    d = temp_frame.shape[0]\n",
    "    print (\"Number of outliers from trip distance analysis:\",(a-d))\n",
    "    \n",
    "    temp_frame = new_frame[(new_frame.Speed <= 65) & (new_frame.Speed >= 0)]\n",
    "    e = temp_frame.shape[0]\n",
    "    print (\"Number of outliers from speed analysis:\",(a-e))\n",
    "    \n",
    "    temp_frame = new_frame[(new_frame.total_amount <1000) & (new_frame.total_amount >0)]\n",
    "    f = temp_frame.shape[0]\n",
    "    print (\"Number of outliers from fare analysis:\",(a-f))\n",
    "    \n",
    "    \n",
    "    new_frame = new_frame[((new_frame.dropoff_longitude >= -74.15) & (new_frame.dropoff_longitude <= -73.7004) &\\\n",
    "                       (new_frame.dropoff_latitude >= 40.5774) & (new_frame.dropoff_latitude <= 40.9176)) & \\\n",
    "                       ((new_frame.pickup_longitude >= -74.15) & (new_frame.pickup_latitude >= 40.5774)& \\\n",
    "                       (new_frame.pickup_longitude <= -73.7004) & (new_frame.pickup_latitude <= 40.9176))]\n",
    "    \n",
    "    new_frame = new_frame[(new_frame.trip_times > 0) & (new_frame.trip_times < 720)]\n",
    "    new_frame = new_frame[(new_frame.trip_distance > 0) & (new_frame.trip_distance < 23)]\n",
    "    new_frame = new_frame[(new_frame.Speed < 45.31) & (new_frame.Speed > 0)]\n",
    "    new_frame = new_frame[(new_frame.total_amount <1000) & (new_frame.total_amount >0)]\n",
    "    \n",
    "    print (\"Total outliers removed\",a - new_frame.shape[0])\n",
    "    print (\"---\")\n",
    "    return new_frame"
   ]
  },
  {
   "cell_type": "code",
   "execution_count": null,
   "metadata": {
    "colab": {},
    "colab_type": "code",
    "id": "gLt_0naFpYT-",
    "outputId": "b9346ed9-12b2-4c9e-f6a4-c7386fe13f53",
    "scrolled": false
   },
   "outputs": [],
   "source": [
    "print (\"Removing outliers in the month of Jan-2015\")\n",
    "print (\"----\")\n",
    "frame_with_durations_outliers_removed = remove_outliers(frame_with_durations)\n",
    "print(\"fraction of data points that remain after removing outliers\", float(len(frame_with_durations_outliers_removed))/len(frame_with_durations))"
   ]
  },
  {
   "cell_type": "markdown",
   "metadata": {
    "colab_type": "text",
    "id": "wiSR_ZaspYUA"
   },
   "source": [
    "# Data-preperation\n",
    "## Clustering/Segmentation"
   ]
  },
  {
   "cell_type": "code",
   "execution_count": null,
   "metadata": {
    "colab": {},
    "colab_type": "code",
    "id": "bdy3QNcupYUB",
    "outputId": "45e00b98-477e-415d-d1c7-fa5fc6c230f0",
    "scrolled": false
   },
   "outputs": [],
   "source": [
    "#trying different cluster sizes to choose the right K in K-means\n",
    "coords = frame_with_durations_outliers_removed[['pickup_latitude', 'pickup_longitude']].values\n",
    "neighbours=[]\n",
    "\n",
    "def find_min_distance(cluster_centers, cluster_len):\n",
    "    nice_points = 0\n",
    "    wrong_points = 0\n",
    "    less2 = []\n",
    "    more2 = []\n",
    "    min_dist=1000\n",
    "    for i in range(0, cluster_len):\n",
    "        nice_points = 0\n",
    "        wrong_points = 0\n",
    "        for j in range(0, cluster_len):\n",
    "            if j!=i:\n",
    "                distance = gpxpy.geo.haversine_distance(cluster_centers[i][0], cluster_centers[i][1],cluster_centers[j][0], cluster_centers[j][1])\n",
    "                min_dist = min(min_dist,distance/(1.60934*1000))\n",
    "                if (distance/(1.60934*1000)) <= 2:\n",
    "                    nice_points +=1\n",
    "                else:\n",
    "                    wrong_points += 1\n",
    "        less2.append(nice_points)\n",
    "        more2.append(wrong_points)\n",
    "    neighbours.append(less2)\n",
    "    print (\"On choosing a cluster size of \",cluster_len,\"\\nAvg. Number of Clusters within the vicinity (i.e. intercluster-distance < 2):\", np.ceil(sum(less2)/len(less2)), \"\\nAvg. Number of Clusters outside the vicinity (i.e. intercluster-distance > 2):\", np.ceil(sum(more2)/len(more2)),\"\\nMin inter-cluster distance = \",min_dist,\"\\n---\")\n",
    "\n",
    "def find_clusters(increment):\n",
    "    kmeans = MiniBatchKMeans(n_clusters=increment, batch_size=10000,random_state=42).fit(coords)\n",
    "    frame_with_durations_outliers_removed['pickup_cluster'] = kmeans.predict(frame_with_durations_outliers_removed[['pickup_latitude', 'pickup_longitude']])\n",
    "    cluster_centers = kmeans.cluster_centers_\n",
    "    cluster_len = len(cluster_centers)\n",
    "    return cluster_centers, cluster_len\n",
    "\n",
    "# we need to choose number of clusters so that, there are more number of cluster regions \n",
    "#that are close to any cluster center\n",
    "# and make sure that the minimum inter cluster should not be very less\n",
    "for increment in range(10, 100, 10):\n",
    "    cluster_centers, cluster_len = find_clusters(increment)\n",
    "    find_min_distance(cluster_centers, cluster_len)            "
   ]
  },
  {
   "cell_type": "markdown",
   "metadata": {
    "colab_type": "text",
    "id": "9w0v8KAzpYUE"
   },
   "source": [
    "### Inference:\n",
    "- The main objective was to find a optimal min. distance(Which roughly estimates to the radius of a cluster) between the clusters which we got was 40"
   ]
  },
  {
   "cell_type": "code",
   "execution_count": null,
   "metadata": {
    "colab": {},
    "colab_type": "code",
    "id": "U9hu-gmfpYUF"
   },
   "outputs": [],
   "source": [
    "# if check for the 50 clusters you can observe that there are two clusters with only 0.3 miles apart from each other\n",
    "# so we choose 40 clusters for solve the further problem\n",
    "\n",
    "# Getting 40 clusters using the kmeans \n",
    "kmeans = MiniBatchKMeans(n_clusters=40, batch_size=10000,random_state=0).fit(coords)\n",
    "frame_with_durations_outliers_removed['pickup_cluster'] = kmeans.predict(frame_with_durations_outliers_removed[['pickup_latitude', 'pickup_longitude']])"
   ]
  },
  {
   "cell_type": "markdown",
   "metadata": {
    "colab_type": "text",
    "id": "5i2xz9z_pYUI"
   },
   "source": [
    "### Plotting the cluster centers:"
   ]
  },
  {
   "cell_type": "code",
   "execution_count": null,
   "metadata": {
    "colab": {},
    "colab_type": "code",
    "id": "GNUtiOAGpYUJ",
    "outputId": "960ac46a-3fca-4bd3-ed3d-f11f01f751a6",
    "scrolled": false
   },
   "outputs": [],
   "source": [
    "# Plotting the cluster centers on OSM\n",
    "cluster_centers = kmeans.cluster_centers_\n",
    "cluster_len = len(cluster_centers)\n",
    "map_osm = folium.Map(location=[40.734695, -73.990372], tiles='Stamen Toner')\n",
    "for i in range(cluster_len):\n",
    "    folium.Marker(list((cluster_centers[i][0],cluster_centers[i][1])), popup=(str(cluster_centers[i][0])+str(cluster_centers[i][1]))).add_to(map_osm)\n",
    "map_osm"
   ]
  },
  {
   "cell_type": "markdown",
   "metadata": {
    "colab_type": "text",
    "id": "hwjprgJipYUM"
   },
   "source": [
    "### Plotting the clusters:"
   ]
  },
  {
   "cell_type": "code",
   "execution_count": null,
   "metadata": {
    "colab": {},
    "colab_type": "code",
    "id": "1xrUz8KRpYUN",
    "outputId": "d2b37409-8654-4f58-91bd-30cce95dac8a"
   },
   "outputs": [],
   "source": [
    "#Visualising the clusters on a map\n",
    "def plot_clusters(frame):\n",
    "    city_long_border = (-74.03, -73.75)\n",
    "    city_lat_border = (40.63, 40.85)\n",
    "    fig, ax = plt.subplots(ncols=1, nrows=1)\n",
    "    ax.scatter(frame.pickup_longitude.values[:100000], frame.pickup_latitude.values[:100000], s=10, lw=0,\n",
    "               c=frame.pickup_cluster.values[:100000], cmap='tab20', alpha=0.2)\n",
    "    ax.set_xlim(city_long_border)\n",
    "    ax.set_ylim(city_lat_border)\n",
    "    ax.set_xlabel('Longitude')\n",
    "    ax.set_ylabel('Latitude')\n",
    "    plt.show()\n",
    "\n",
    "plot_clusters(frame_with_durations_outliers_removed)"
   ]
  },
  {
   "cell_type": "markdown",
   "metadata": {
    "colab_type": "text",
    "id": "r-RK9PzspYUP"
   },
   "source": [
    "## Time-binning"
   ]
  },
  {
   "cell_type": "code",
   "execution_count": null,
   "metadata": {
    "colab": {},
    "colab_type": "code",
    "id": "WhGxh1VXpYUQ"
   },
   "outputs": [],
   "source": [
    "#Refer:https://www.unixtimestamp.com/\n",
    "# 1420070400 : 2015-01-01 00:00:00 \n",
    "# 1422748800 : 2015-02-01 00:00:00 \n",
    "# 1425168000 : 2015-03-01 00:00:00\n",
    "# 1427846400 : 2015-04-01 00:00:00 \n",
    "# 1430438400 : 2015-05-01 00:00:00 \n",
    "# 1433116800 : 2015-06-01 00:00:00\n",
    "\n",
    "# 1451606400 : 2016-01-01 00:00:00 \n",
    "# 1454284800 : 2016-02-01 00:00:00 \n",
    "# 1456790400 : 2016-03-01 00:00:00\n",
    "# 1459468800 : 2016-04-01 00:00:00 \n",
    "# 1462060800 : 2016-05-01 00:00:00 \n",
    "# 1464739200 : 2016-06-01 00:00:00\n",
    "\n",
    "def add_pickup_bins(frame,month,year):\n",
    "    unix_pickup_times=[i for i in frame['pickup_times'].values]\n",
    "    unix_times = [[1420070400,1422748800,1425168000,1427846400,1430438400,1433116800],\\\n",
    "                    [1451606400,1454284800,1456790400,1459468800,1462060800,1464739200]]\n",
    "    \n",
    "    start_pickup_unix=unix_times[year-2015][month-1]\n",
    "    # https://www.timeanddate.com/time/zones/est\n",
    "    # (int((i-start_pickup_unix)/600)+33) : our unix time is in gmt to we are converting it to est\n",
    "    tenminutewise_binned_unix_pickup_times=[(int((i-start_pickup_unix)/600)+33) for i in unix_pickup_times]\n",
    "    frame['pickup_bins'] = np.array(tenminutewise_binned_unix_pickup_times)\n",
    "    return frame"
   ]
  },
  {
   "cell_type": "code",
   "execution_count": null,
   "metadata": {
    "colab": {},
    "colab_type": "code",
    "id": "9bO_QAAGpYUR"
   },
   "outputs": [],
   "source": [
    "# clustering, making pickup bins and grouping by pickup cluster and pickup bins\n",
    "frame_with_durations_outliers_removed['pickup_cluster'] = kmeans.predict(frame_with_durations_outliers_removed[['pickup_latitude', 'pickup_longitude']])\n",
    "jan_2015_frame = add_pickup_bins(frame_with_durations_outliers_removed,1,2015)\n",
    "jan_2015_groupby = jan_2015_frame[['pickup_cluster','pickup_bins','trip_distance']].groupby(['pickup_cluster','pickup_bins']).count()"
   ]
  },
  {
   "cell_type": "code",
   "execution_count": null,
   "metadata": {
    "colab": {},
    "colab_type": "code",
    "id": "Ne-s1QW_pYUT",
    "outputId": "b49abc6d-1e6e-40f2-cf47-663a2f1d6e48"
   },
   "outputs": [],
   "source": [
    "# we add two more columns 'pickup_cluster'(to which cluster it belogns to) \n",
    "# and 'pickup_bins' (to which 10min intravel the trip belongs to)\n",
    "jan_2015_frame.head()"
   ]
  },
  {
   "cell_type": "code",
   "execution_count": null,
   "metadata": {
    "colab": {},
    "colab_type": "code",
    "id": "Q56tfNUmpYUW",
    "outputId": "9dda59f4-59c0-4557-e4fd-9ce226d98225"
   },
   "outputs": [],
   "source": [
    "# hear the trip_distance represents the number of pickups that are happend in that particular 10min intravel\n",
    "# this data frame has two indices\n",
    "# primary index: pickup_cluster (cluster number)\n",
    "# secondary index : pickup_bins (we devid whole months time into 10min intravels 24*31*60/10 =4464bins)\n",
    "jan_2015_groupby.head()"
   ]
  },
  {
   "cell_type": "code",
   "execution_count": null,
   "metadata": {
    "colab": {},
    "colab_type": "code",
    "id": "sLMjW_depYUa",
    "outputId": "f2bbb0cd-e103-4168-e07f-5da5267fec9a",
    "scrolled": true
   },
   "outputs": [],
   "source": [
    "# upto now we cleaned data and prepared data for the month 2015,\n",
    "\n",
    "# now do the same operations for months Jan, Feb, March of 2016\n",
    "# 1. get the dataframe which inlcudes only required colums\n",
    "# 2. adding trip times, speed, unix time stamp of pickup_time\n",
    "# 4. remove the outliers based on trip_times, speed, trip_duration, total_amount\n",
    "# 5. add pickup_cluster to each data point\n",
    "# 6. add pickup_bin (index of 10min intravel to which that trip belongs to)\n",
    "# 7. group by data, based on 'pickup_cluster' and 'pickuo_bin'\n",
    "\n",
    "# Data Preparation for the months of Jan,Feb and March 2016\n",
    "def datapreparation(month,kmeans,month_no,year_no):\n",
    "    \n",
    "    print (\"Return with trip times..\")\n",
    "\n",
    "    frame_with_durations = return_with_trip_times(month)\n",
    "    \n",
    "    print (\"Remove outliers..\")\n",
    "    frame_with_durations_outliers_removed = remove_outliers(frame_with_durations)\n",
    "    \n",
    "    print (\"Estimating clusters..\")\n",
    "    frame_with_durations_outliers_removed['pickup_cluster'] = kmeans.predict(frame_with_durations_outliers_removed[['pickup_latitude', 'pickup_longitude']])\n",
    "    #frame_with_durations_outliers_removed_2016['pickup_cluster'] = kmeans.predict(frame_with_durations_outliers_removed_2016[['pickup_latitude', 'pickup_longitude']])\n",
    "\n",
    "    print (\"Final groupbying..\")\n",
    "    final_updated_frame = add_pickup_bins(frame_with_durations_outliers_removed,month_no,year_no)\n",
    "    final_groupby_frame = final_updated_frame[['pickup_cluster','pickup_bins','trip_distance']].groupby(['pickup_cluster','pickup_bins']).count()\n",
    "    \n",
    "    return final_updated_frame,final_groupby_frame\n",
    "    \n",
    "month_jan_2016 = dd.read_csv('yellow_tripdata_2016-01.csv')\n",
    "month_feb_2016 = dd.read_csv('yellow_tripdata_2016-02.csv')\n",
    "month_mar_2016 = dd.read_csv('yellow_tripdata_2016-03.csv')\n",
    "\n",
    "jan_2016_frame,jan_2016_groupby = datapreparation(month_jan_2016,kmeans,1,2016)\n",
    "feb_2016_frame,feb_2016_groupby = datapreparation(month_feb_2016,kmeans,2,2016)\n",
    "mar_2016_frame,mar_2016_groupby = datapreparation(month_mar_2016,kmeans,3,2016)"
   ]
  },
  {
   "cell_type": "markdown",
   "metadata": {
    "colab_type": "text",
    "id": "HEW9vuBwpYUc"
   },
   "source": [
    "## Smoothing"
   ]
  },
  {
   "cell_type": "code",
   "execution_count": null,
   "metadata": {
    "colab": {},
    "colab_type": "code",
    "id": "rUMSCEHEpYUd"
   },
   "outputs": [],
   "source": [
    "# Gets the unique bins where pickup values are present for each each reigion\n",
    "\n",
    "# for each cluster region we will collect all the indices of 10min intravels in which the pickups are happened\n",
    "# we got an observation that there are some pickpbins that doesnt have any pickups\n",
    "def return_unq_pickup_bins(frame):\n",
    "    values = []\n",
    "    for i in range(0,40):\n",
    "        new = frame[frame['pickup_cluster'] == i]\n",
    "        list_unq = list(set(new['pickup_bins']))\n",
    "        list_unq.sort()\n",
    "        values.append(list_unq)\n",
    "    return values"
   ]
  },
  {
   "cell_type": "code",
   "execution_count": null,
   "metadata": {
    "colab": {},
    "colab_type": "code",
    "id": "VeYcUCUxpYUf"
   },
   "outputs": [],
   "source": [
    "# for every month we get all indices of 10min intravels in which atleast one pickup got happened\n",
    "\n",
    "#jan (2015-16)\n",
    "jan_2015_unique = return_unq_pickup_bins(jan_2015_frame)\n",
    "jan_2016_unique = return_unq_pickup_bins(jan_2016_frame)\n",
    "\n",
    "#feb (2016)\n",
    "feb_2016_unique = return_unq_pickup_bins(feb_2016_frame)\n",
    "\n",
    "#march (2016)\n",
    "mar_2016_unique = return_unq_pickup_bins(mar_2016_frame)"
   ]
  },
  {
   "cell_type": "code",
   "execution_count": null,
   "metadata": {
    "colab": {},
    "colab_type": "code",
    "id": "Z5aZogYEpYUg",
    "outputId": "fb3386a0-2a07-4ab1-ba84-8cd014d8d1c3",
    "scrolled": false
   },
   "outputs": [],
   "source": [
    "# for each cluster number of 10min intravels with 0 pickups\n",
    "for i in range(40):\n",
    "    print(\"for the \",i,\"th cluster number of 10min intavels with zero pickups: \",4464 - len(set(jan_2015_unique[i])))\n",
    "    print('-'*60)"
   ]
  },
  {
   "cell_type": "markdown",
   "metadata": {
    "colab_type": "text",
    "id": "-Ocy5bDipYUj"
   },
   "source": [
    "there are two ways to fill up these values\n",
    "<ul>\n",
    "<li> Fill the missing value with 0's</li>\n",
    "<li> Fill the missing values with the avg values\n",
    "<ul>\n",
    "<li> Case 1:(values missing at the start)  <br>Ex1: \\_ \\_ \\_ x =>ceil(x/4), ceil(x/4), ceil(x/4), ceil(x/4) <br> Ex2: \\_ \\_ x => ceil(x/3), ceil(x/3), ceil(x/3) </li>\n",
    "<li> Case 2:(values missing in middle) <br>Ex1: x \\_ \\_ y => ceil((x+y)/4), ceil((x+y)/4), ceil((x+y)/4), ceil((x+y)/4) <br> Ex2: x \\_ \\_ \\_ y => ceil((x+y)/5), ceil((x+y)/5), ceil((x+y)/5), ceil((x+y)/5), ceil((x+y)/5) </li>\n",
    "<li> Case 3:(values missing at the end)  <br>Ex1: x \\_ \\_ \\_  => ceil(x/4), ceil(x/4), ceil(x/4), ceil(x/4) <br> Ex2: x \\_  => ceil(x/2), ceil(x/2) </li>\n",
    "</ul>\n",
    "</li>\n",
    "</ul>"
   ]
  },
  {
   "cell_type": "code",
   "execution_count": null,
   "metadata": {
    "colab": {},
    "colab_type": "code",
    "id": "B84diUuKpYUj"
   },
   "outputs": [],
   "source": [
    "# Fills a value of zero for every bin where no pickup data is present \n",
    "# the count_values: number pickps that are happened in each region for each 10min intravel\n",
    "# there wont be any value if there are no picksups.\n",
    "# values: number of unique bins\n",
    "\n",
    "# for every 10min intravel(pickup_bin) we will check it is there in our unique bin,\n",
    "# if it is there we will add the count_values[index] to smoothed data\n",
    "# if not we add 0 to the smoothed data\n",
    "# we finally return smoothed data\n",
    "def fill_missing(count_values,values):\n",
    "    smoothed_regions=[]\n",
    "    ind=0\n",
    "    for r in range(0,40):\n",
    "        smoothed_bins=[]\n",
    "        for i in range(4464):\n",
    "            if i in values[r]:\n",
    "                smoothed_bins.append(count_values[ind])\n",
    "                ind+=1\n",
    "            else:\n",
    "                smoothed_bins.append(0)\n",
    "        smoothed_regions.extend(smoothed_bins)\n",
    "    return smoothed_regions"
   ]
  },
  {
   "cell_type": "code",
   "execution_count": null,
   "metadata": {
    "colab": {},
    "colab_type": "code",
    "id": "qtwtQnhQpYUl"
   },
   "outputs": [],
   "source": [
    "# Fills a value of zero for every bin where no pickup data is present \n",
    "# the count_values: number pickps that are happened in each region for each 10min intravel\n",
    "# there wont be any value if there are no picksups.\n",
    "# values: number of unique bins\n",
    "\n",
    "# for every 10min intravel(pickup_bin) we will check it is there in our unique bin,\n",
    "# if it is there we will add the count_values[index] to smoothed data\n",
    "# if not we add smoothed data (which is calculated based on the methods that are discussed in the above markdown cell)\n",
    "# we finally return smoothed data\n",
    "def smoothing(count_values,values):\n",
    "    smoothed_regions=[] # stores list of final smoothed values of each reigion\n",
    "    ind=0\n",
    "    repeat=0 \n",
    "    smoothed_value=0\n",
    "    for r in range(0,40):\n",
    "        smoothed_bins=[] #stores the final smoothed values\n",
    "        repeat=0\n",
    "        for i in range(4464):\n",
    "            if repeat!=0: # prevents iteration for a value which is already visited/resolved\n",
    "                repeat-=1\n",
    "                continue\n",
    "            if i in values[r]: #checks if the pickup-bin exists \n",
    "                smoothed_bins.append(count_values[ind]) # appends the value of the pickup bin if it exists\n",
    "            else:\n",
    "                if i!=0:\n",
    "                    right_hand_limit=0\n",
    "                    for j in range(i,4464):\n",
    "                        if  j not in values[r]: #searches for the left-limit or the pickup-bin value which has a pickup value\n",
    "                            continue\n",
    "                        else:\n",
    "                            right_hand_limit=j\n",
    "                            break\n",
    "                    if right_hand_limit==0:\n",
    "                    #Case 1: When we have the last/last few values are found to be missing,hence we have no right-limit here\n",
    "                        smoothed_value=count_values[ind-1]*1.0/((4463-i)+2)*1.0                               \n",
    "                        for j in range(i,4464):                              \n",
    "                            smoothed_bins.append(math.ceil(smoothed_value))\n",
    "                        smoothed_bins[i-1] = math.ceil(smoothed_value)\n",
    "                        repeat=(4463-i)\n",
    "                        ind-=1\n",
    "                    else:\n",
    "                    #Case 2: When we have the missing values between two known values\n",
    "                        smoothed_value=(count_values[ind-1]+count_values[ind])*1.0/((right_hand_limit-i)+2)*1.0             \n",
    "                        for j in range(i,right_hand_limit+1):\n",
    "                            smoothed_bins.append(math.ceil(smoothed_value))\n",
    "                        smoothed_bins[i-1] = math.ceil(smoothed_value)\n",
    "                        repeat=(right_hand_limit-i)\n",
    "                else:\n",
    "                    #Case 3: When we have the first/first few values are found to be missing,hence we have no left-limit here\n",
    "                    right_hand_limit=0\n",
    "                    for j in range(i,4464):\n",
    "                        if  j not in values[r]:\n",
    "                            continue\n",
    "                        else:\n",
    "                            right_hand_limit=j\n",
    "                            break\n",
    "                    smoothed_value=count_values[ind]*1.0/((right_hand_limit-i)+1)*1.0\n",
    "                    for j in range(i,right_hand_limit+1):\n",
    "                            smoothed_bins.append(math.ceil(smoothed_value))\n",
    "                    repeat=(right_hand_limit-i)\n",
    "            ind+=1\n",
    "        smoothed_regions.extend(smoothed_bins)\n",
    "    return smoothed_regions\n"
   ]
  },
  {
   "cell_type": "code",
   "execution_count": null,
   "metadata": {
    "colab": {},
    "colab_type": "code",
    "id": "cGn9mQ-UpYUn"
   },
   "outputs": [],
   "source": [
    "#Filling Missing values of Jan-2015 with 0\n",
    "# here in jan_2015_groupby dataframe the trip_distance represents the number of pickups that are happened\n",
    "jan_2015_fill = fill_missing(jan_2015_groupby['trip_distance'].values,jan_2015_unique)\n",
    "\n",
    "#Smoothing Missing values of Jan-2015\n",
    "jan_2015_smooth = smoothing(jan_2015_groupby['trip_distance'].values,jan_2015_unique)"
   ]
  },
  {
   "cell_type": "code",
   "execution_count": null,
   "metadata": {
    "colab": {},
    "colab_type": "code",
    "id": "gh1VGbXUpYUp",
    "outputId": "825770f3-c6a3-428e-c5a6-8531d06cab7f"
   },
   "outputs": [],
   "source": [
    "# number of 10min indices for jan 2015= 24*31*60/10 = 4464\n",
    "# number of 10min indices for jan 2016 = 24*31*60/10 = 4464\n",
    "# number of 10min indices for feb 2016 = 24*29*60/10 = 4176\n",
    "# number of 10min indices for march 2016 = 24*30*60/10 = 4320\n",
    "# for each cluster we will have 4464 values, therefore 40*4464 = 178560 (length of the jan_2015_fill)\n",
    "print(\"number of 10min intravels among all the clusters \",len(jan_2015_fill))"
   ]
  },
  {
   "cell_type": "code",
   "execution_count": null,
   "metadata": {
    "colab": {},
    "colab_type": "code",
    "id": "QrJ2Maw_pYUr",
    "outputId": "270ad648-f3fd-441f-b29e-8b4d774a4c5b",
    "scrolled": false
   },
   "outputs": [],
   "source": [
    "# Smoothing vs Filling\n",
    "# sample plot that shows two variations of filling missing values\n",
    "# we have taken the number of pickups for cluster region 2\n",
    "plt.figure(figsize=(10,5))\n",
    "plt.plot(jan_2015_fill[4464:8920], label=\"zero filled values\")\n",
    "plt.plot(jan_2015_smooth[4464:8920], label=\"filled with avg values\")\n",
    "plt.legend()\n",
    "plt.show()"
   ]
  },
  {
   "cell_type": "code",
   "execution_count": null,
   "metadata": {
    "colab": {},
    "colab_type": "code",
    "id": "juSevxU_pYUu"
   },
   "outputs": [],
   "source": [
    "# why we choose, these methods and which method is used for which data?\n",
    "\n",
    "# Ans: consider we have data of some month in 2015 jan 1st, 10 _ _ _ 20, i.e there are 10 pickups that are happened in 1st \n",
    "# 10st 10min intravel, 0 pickups happened in 2nd 10mins intravel, 0 pickups happened in 3rd 10min intravel \n",
    "# and 20 pickups happened in 4th 10min intravel.\n",
    "# in fill_missing method we replace these values like 10, 0, 0, 20\n",
    "# where as in smoothing method we replace these values as 6,6,6,6,6, if you can check the number of pickups \n",
    "# that are happened in the first 40min are same in both cases, but if you can observe that we looking at the future values \n",
    "# wheen you are using smoothing we are looking at the future number of pickups which might cause a data leakage.\n",
    "\n",
    "# so we use smoothing for jan 2015th data since it acts as our training data\n",
    "# and we use simple fill_misssing method for 2016th data."
   ]
  },
  {
   "cell_type": "code",
   "execution_count": null,
   "metadata": {
    "colab": {},
    "colab_type": "code",
    "id": "EHGsXfb0pYUz"
   },
   "outputs": [],
   "source": [
    "# Jan-2015 data is smoothed, Jan,Feb & March 2016 data missing values are filled with zero\n",
    "jan_2015_smooth = smoothing(jan_2015_groupby['trip_distance'].values,jan_2015_unique)\n",
    "jan_2016_smooth = fill_missing(jan_2016_groupby['trip_distance'].values,jan_2016_unique)\n",
    "feb_2016_smooth = fill_missing(feb_2016_groupby['trip_distance'].values,feb_2016_unique)\n",
    "mar_2016_smooth = fill_missing(mar_2016_groupby['trip_distance'].values,mar_2016_unique)\n",
    "\n",
    "# Making list of all the values of pickup data in every bin for a period of 3 months and storing them region-wise \n",
    "regions_cum = []\n",
    "\n",
    "# a =[1,2,3]\n",
    "# b = [2,3,4]\n",
    "# a+b = [1, 2, 3, 2, 3, 4]\n",
    "\n",
    "# number of 10min indices for jan 2015= 24*31*60/10 = 4464\n",
    "# number of 10min indices for jan 2016 = 24*31*60/10 = 4464\n",
    "# number of 10min indices for feb 2016 = 24*29*60/10 = 4176\n",
    "# number of 10min indices for march 2016 = 24*31*60/10 = 4464\n",
    "# regions_cum: it will contain 40 lists, each list will contain 4464+4176+4464 values which represents the number of pickups \n",
    "# that are happened for three months in 2016 data\n",
    "\n",
    "for i in range(0,40):\n",
    "    regions_cum.append(jan_2016_smooth[4464*i:4464*(i+1)]+feb_2016_smooth[4176*i:4176*(i+1)]+mar_2016_smooth[4464*i:4464*(i+1)])\n",
    "\n",
    "# print(len(regions_cum))\n",
    "# 40\n",
    "# print(len(regions_cum[0]))\n",
    "# 13104"
   ]
  },
  {
   "cell_type": "markdown",
   "metadata": {
    "colab_type": "text",
    "id": "XnipIdfYpYU0"
   },
   "source": [
    "## Time series and Fourier Transforms"
   ]
  },
  {
   "cell_type": "code",
   "execution_count": null,
   "metadata": {
    "colab": {},
    "colab_type": "code",
    "id": "ud1K-HcZpYU2",
    "outputId": "506387e6-b606-4c9d-f956-f5691301db45",
    "scrolled": true
   },
   "outputs": [],
   "source": [
    "def uniqueish_color():\n",
    "    \"\"\"There're better ways to generate unique colors, but this isn't awful.\"\"\"\n",
    "    return plt.cm.gist_ncar(np.random.random())\n",
    "first_x = list(range(0,4464))\n",
    "second_x = list(range(4464,8640))\n",
    "third_x = list(range(8640,13104))\n",
    "for i in range(40):\n",
    "    plt.figure(figsize=(10,4))\n",
    "    plt.plot(first_x,regions_cum[i][:4464], color=uniqueish_color(), label='2016 Jan month data')\n",
    "    plt.plot(second_x,regions_cum[i][4464:8640], color=uniqueish_color(), label='2016 feb month data')\n",
    "    plt.plot(third_x,regions_cum[i][8640:], color=uniqueish_color(), label='2016 march month data')\n",
    "    plt.legend()\n",
    "    plt.show()"
   ]
  },
  {
   "cell_type": "code",
   "execution_count": null,
   "metadata": {
    "colab": {},
    "colab_type": "code",
    "id": "76vu5IXCpYU8",
    "outputId": "ada73f2d-ff31-4d62-f6d9-ef79d41db650",
    "scrolled": false
   },
   "outputs": [],
   "source": [
    "# getting peaks: https://blog.ytotech.com/2015/11/01/findpeaks-in-python/\n",
    "# read more about fft function : https://docs.scipy.org/doc/numpy/reference/generated/numpy.fft.fft.html\n",
    "Y  = np.fft.fft(np.array(jan_2016_smooth)[0:4460])\n",
    "# read more about the fftfreq: https://docs.scipy.org/doc/numpy/reference/generated/numpy.fft.fftfreq.html  \n",
    "freq = np.fft.fftfreq(4460, 1)\n",
    "n = len(freq)\n",
    "plt.figure()\n",
    "plt.plot( freq[:int(n/2)], np.abs(Y)[:int(n/2)] )\n",
    "plt.xlabel(\"Frequency\")\n",
    "plt.ylabel(\"Amplitude\")\n",
    "plt.show()"
   ]
  },
  {
   "cell_type": "code",
   "execution_count": null,
   "metadata": {
    "colab": {},
    "colab_type": "code",
    "id": "J9iVFeu0pYU-"
   },
   "outputs": [],
   "source": [
    "#Preparing the Dataframe only with x(i) values as jan-2015 data and y(i) values as jan-2016\n",
    "ratios_jan = pd.DataFrame()\n",
    "ratios_jan['Given']=jan_2015_smooth\n",
    "ratios_jan['Prediction']=jan_2016_smooth\n",
    "ratios_jan['Ratios']=ratios_jan['Prediction']*1.0/ratios_jan['Given']*1.0"
   ]
  },
  {
   "cell_type": "markdown",
   "metadata": {
    "colab_type": "text",
    "id": "e7hsq8chpYU_"
   },
   "source": [
    "## Modelling: Baseline Models\n",
    "\n",
    "Now we get into modelling in order to forecast the pickup densities for the months of Jan, Feb and March of 2016 for which we are using multiple models with two variations \n",
    "1. Using Ratios of the 2016 data to the 2015 data i.e $\\begin{align} R_{t} = P^{2016}_{t} / P^{2015}_{t} \\end{align}$\n",
    "2. Using Previous known values of the 2016 data itself to predict the future values"
   ]
  },
  {
   "cell_type": "markdown",
   "metadata": {
    "colab_type": "text",
    "id": "NomEUpKJpYVA"
   },
   "source": [
    "### Simple Moving Averages\n",
    "The First Model used is the Moving Averages Model which uses the previous n values in order to predict the next value <br> "
   ]
  },
  {
   "cell_type": "markdown",
   "metadata": {
    "colab_type": "text",
    "id": "KiXJynDKpYVB"
   },
   "source": [
    "Using Ratio Values - $\\begin{align}R_{t} = ( R_{t-1} + R_{t-2} + R_{t-3} .... R_{t-n} )/n \\end{align}$"
   ]
  },
  {
   "cell_type": "code",
   "execution_count": null,
   "metadata": {
    "colab": {},
    "colab_type": "code",
    "id": "5fvHpsEbpYVB"
   },
   "outputs": [],
   "source": [
    "def MA_R_Predictions(ratios,month):\n",
    "    predicted_ratio=(ratios['Ratios'].values)[0]\n",
    "    error=[]\n",
    "    predicted_values=[]\n",
    "    window_size=3\n",
    "    predicted_ratio_values=[]\n",
    "    for i in range(0,4464*40):\n",
    "        if i%4464==0:\n",
    "            predicted_ratio_values.append(0)\n",
    "            predicted_values.append(0)\n",
    "            error.append(0)\n",
    "            continue\n",
    "        predicted_ratio_values.append(predicted_ratio)\n",
    "        predicted_values.append(int(((ratios['Given'].values)[i])*predicted_ratio))\n",
    "        error.append(abs((math.pow(int(((ratios['Given'].values)[i])*predicted_ratio)-(ratios['Prediction'].values)[i],1))))\n",
    "        if i+1>=window_size:\n",
    "            predicted_ratio=sum((ratios['Ratios'].values)[(i+1)-window_size:(i+1)])/window_size\n",
    "        else:\n",
    "            predicted_ratio=sum((ratios['Ratios'].values)[0:(i+1)])/(i+1)\n",
    "            \n",
    "    \n",
    "    ratios['MA_R_Predicted'] = predicted_values\n",
    "    ratios['MA_R_Error'] = error\n",
    "    mape_err = (sum(error)/len(error))/(sum(ratios['Prediction'].values)/len(ratios['Prediction'].values))\n",
    "    mse_err = sum([e**2 for e in error])/len(error)\n",
    "    return ratios,mape_err,mse_err"
   ]
  },
  {
   "cell_type": "markdown",
   "metadata": {
    "colab_type": "text",
    "id": "B761jWmJpYVH"
   },
   "source": [
    "For the above the Hyperparameter is the window-size (n) which is tuned manually and it is found that the window-size of 3 is optimal for getting the best results using Moving Averages using previous Ratio values therefore we get $\\begin{align}R_{t} = ( R_{t-1} + R_{t-2} + R_{t-3})/3 \\end{align}$"
   ]
  },
  {
   "cell_type": "markdown",
   "metadata": {
    "colab_type": "text",
    "id": "uDl5QIpwpYVI"
   },
   "source": [
    "Next we use the Moving averages of the 2016  values itself to predict the future value using $\\begin{align}P_{t} = ( P_{t-1} + P_{t-2} + P_{t-3} .... P_{t-n} )/n \\end{align}$"
   ]
  },
  {
   "cell_type": "code",
   "execution_count": null,
   "metadata": {
    "colab": {},
    "colab_type": "code",
    "id": "NsdCFFs_pYVI"
   },
   "outputs": [],
   "source": [
    "def MA_P_Predictions(ratios,month):\n",
    "    predicted_value=(ratios['Prediction'].values)[0]\n",
    "    error=[]\n",
    "    predicted_values=[]\n",
    "    window_size=1\n",
    "    predicted_ratio_values=[]\n",
    "    for i in range(0,4464*40):\n",
    "        predicted_values.append(predicted_value)\n",
    "        error.append(abs((math.pow(predicted_value-(ratios['Prediction'].values)[i],1))))\n",
    "        if i+1>=window_size:\n",
    "            predicted_value=int(sum((ratios['Prediction'].values)[(i+1)-window_size:(i+1)])/window_size)\n",
    "        else:\n",
    "            predicted_value=int(sum((ratios['Prediction'].values)[0:(i+1)])/(i+1))\n",
    "            \n",
    "    ratios['MA_P_Predicted'] = predicted_values\n",
    "    ratios['MA_P_Error'] = error\n",
    "    mape_err = (sum(error)/len(error))/(sum(ratios['Prediction'].values)/len(ratios['Prediction'].values))\n",
    "    mse_err = sum([e**2 for e in error])/len(error)\n",
    "    return ratios,mape_err,mse_err"
   ]
  },
  {
   "cell_type": "markdown",
   "metadata": {
    "colab_type": "text",
    "id": "JXXPFJ4zpYVM"
   },
   "source": [
    "For the above the Hyperparameter is the window-size (n) which is tuned manually and it is found that the window-size of 1 is optimal for getting the best results using Moving Averages using previous 2016 values therefore we get $\\begin{align}P_{t} = P_{t-1} \\end{align}$"
   ]
  },
  {
   "cell_type": "markdown",
   "metadata": {
    "colab_type": "text",
    "id": "YxUx4evtpYVM"
   },
   "source": [
    "### Weighted Moving Averages\n",
    "The Moving Avergaes Model used gave equal importance to all the values in the window used, but we know intuitively that the future is more likely to be similar to the latest values and less similar to the older values. Weighted Averages converts this analogy into a mathematical relationship giving the highest weight while computing the averages to the latest previous value and decreasing weights to the subsequent older ones<br>"
   ]
  },
  {
   "cell_type": "markdown",
   "metadata": {
    "colab_type": "text",
    "id": "FM42drlhpYVM"
   },
   "source": [
    "Weighted Moving Averages using Ratio Values - $\\begin{align}R_{t} = ( N*R_{t-1} + (N-1)*R_{t-2} + (N-2)*R_{t-3} .... 1*R_{t-n} )/(N*(N+1)/2) \\end{align}$"
   ]
  },
  {
   "cell_type": "code",
   "execution_count": null,
   "metadata": {
    "colab": {},
    "colab_type": "code",
    "id": "vXv6SxDWpYVN"
   },
   "outputs": [],
   "source": [
    "def WA_R_Predictions(ratios,month):\n",
    "    predicted_ratio=(ratios['Ratios'].values)[0]\n",
    "    alpha=0.5\n",
    "    error=[]\n",
    "    predicted_values=[]\n",
    "    window_size=5\n",
    "    predicted_ratio_values=[]\n",
    "    for i in range(0,4464*40):\n",
    "        if i%4464==0:\n",
    "            predicted_ratio_values.append(0)\n",
    "            predicted_values.append(0)\n",
    "            error.append(0)\n",
    "            continue\n",
    "        predicted_ratio_values.append(predicted_ratio)\n",
    "        predicted_values.append(int(((ratios['Given'].values)[i])*predicted_ratio))\n",
    "        error.append(abs((math.pow(int(((ratios['Given'].values)[i])*predicted_ratio)-(ratios['Prediction'].values)[i],1))))\n",
    "        if i+1>=window_size:\n",
    "            sum_values=0\n",
    "            sum_of_coeff=0\n",
    "            for j in range(window_size,0,-1):\n",
    "                sum_values += j*(ratios['Ratios'].values)[i-window_size+j]\n",
    "                sum_of_coeff+=j\n",
    "            predicted_ratio=sum_values/sum_of_coeff\n",
    "        else:\n",
    "            sum_values=0\n",
    "            sum_of_coeff=0\n",
    "            for j in range(i+1,0,-1):\n",
    "                sum_values += j*(ratios['Ratios'].values)[j-1]\n",
    "                sum_of_coeff+=j\n",
    "            predicted_ratio=sum_values/sum_of_coeff\n",
    "            \n",
    "    ratios['WA_R_Predicted'] = predicted_values\n",
    "    ratios['WA_R_Error'] = error\n",
    "    mape_err = (sum(error)/len(error))/(sum(ratios['Prediction'].values)/len(ratios['Prediction'].values))\n",
    "    mse_err = sum([e**2 for e in error])/len(error)\n",
    "    return ratios,mape_err,mse_err"
   ]
  },
  {
   "cell_type": "markdown",
   "metadata": {
    "colab_type": "text",
    "id": "zfNtyYV_pYVP"
   },
   "source": [
    "For the above the Hyperparameter is the window-size (n) which is tuned manually and it is found that the window-size of 5 is optimal for getting the best results using Weighted Moving Averages using previous Ratio values therefore we get $\\begin{align} R_{t} = ( 5*R_{t-1} + 4*R_{t-2} + 3*R_{t-3} + 2*R_{t-4} + R_{t-5} )/15 \\end{align}$"
   ]
  },
  {
   "cell_type": "markdown",
   "metadata": {
    "colab_type": "text",
    "id": "uFAt3OVNpYVQ"
   },
   "source": [
    "Weighted Moving Averages using Previous 2016 Values - $\\begin{align}P_{t} = ( N*P_{t-1} + (N-1)*P_{t-2} + (N-2)*P_{t-3} .... 1*P_{t-n} )/(N*(N+1)/2) \\end{align}$"
   ]
  },
  {
   "cell_type": "code",
   "execution_count": null,
   "metadata": {
    "colab": {},
    "colab_type": "code",
    "id": "XTIinxMwpYVR"
   },
   "outputs": [],
   "source": [
    "def WA_P_Predictions(ratios,month):\n",
    "    predicted_value=(ratios['Prediction'].values)[0]\n",
    "    error=[]\n",
    "    predicted_values=[]\n",
    "    window_size=2\n",
    "    for i in range(0,4464*40):\n",
    "        predicted_values.append(predicted_value)\n",
    "        error.append(abs((math.pow(predicted_value-(ratios['Prediction'].values)[i],1))))\n",
    "        if i+1>=window_size:\n",
    "            sum_values=0\n",
    "            sum_of_coeff=0\n",
    "            for j in range(window_size,0,-1):\n",
    "                sum_values += j*(ratios['Prediction'].values)[i-window_size+j]\n",
    "                sum_of_coeff+=j\n",
    "            predicted_value=int(sum_values/sum_of_coeff)\n",
    "\n",
    "        else:\n",
    "            sum_values=0\n",
    "            sum_of_coeff=0\n",
    "            for j in range(i+1,0,-1):\n",
    "                sum_values += j*(ratios['Prediction'].values)[j-1]\n",
    "                sum_of_coeff+=j\n",
    "            predicted_value=int(sum_values/sum_of_coeff)\n",
    "    \n",
    "    ratios['WA_P_Predicted'] = predicted_values\n",
    "    ratios['WA_P_Error'] = error\n",
    "    mape_err = (sum(error)/len(error))/(sum(ratios['Prediction'].values)/len(ratios['Prediction'].values))\n",
    "    mse_err = sum([e**2 for e in error])/len(error)\n",
    "    return ratios,mape_err,mse_err"
   ]
  },
  {
   "cell_type": "markdown",
   "metadata": {
    "colab_type": "text",
    "id": "ZgyD6f_FpYVS"
   },
   "source": [
    "For the above the Hyperparameter is the window-size (n) which is tuned manually and it is found that the window-size of 2 is optimal for getting the best results using Weighted Moving Averages using previous 2016 values therefore we get $\\begin{align} P_{t} = ( 2*P_{t-1} + P_{t-2} )/3 \\end{align}$"
   ]
  },
  {
   "cell_type": "markdown",
   "metadata": {
    "colab_type": "text",
    "id": "B3ySZxBwpYVT"
   },
   "source": [
    "### Exponential  Weighted Moving Averages\n",
    " https://en.wikipedia.org/wiki/Moving_average#Exponential_moving_average\n",
    "Through weighted averaged we have satisfied the analogy of giving higher weights to the latest value and decreasing weights to the subsequent ones but we still do not know which is the correct weighting scheme as there are infinetly many possibilities in which we can assign weights in a non-increasing order and tune the the hyperparameter window-size. To simplify this process we use Exponential Moving Averages which is a more logical way towards assigning weights and at the same time also using an optimal window-size.\n",
    "\n",
    "In exponential moving averages we use a single hyperparameter alpha $\\begin{align}(\\alpha)\\end{align}$ which is a value between 0 & 1 and based on the value of the hyperparameter alpha the weights and the window sizes are configured.<br>\n",
    "For eg. If $\\begin{align}\\alpha=0.9\\end{align}$ then the number of days on which the value of the current iteration is based is~$\\begin{align}1/(1-\\alpha)=10\\end{align}$ i.e. we consider values 10 days prior before we predict the value for the current iteration. Also the weights are assigned using $\\begin{align}2/(N+1)=0.18\\end{align}$ ,where N = number of prior values being considered, hence from this it is implied that the first or latest value is assigned a weight of 0.18 which keeps exponentially decreasing for the subsequent values."
   ]
  },
  {
   "cell_type": "markdown",
   "metadata": {
    "colab_type": "text",
    "id": "pYi3_WazpYVT"
   },
   "source": [
    "$\\begin{align}R^{'}_{t} = \\alpha*R_{t-1} + (1-\\alpha)*R^{'}_{t-1}  \\end{align}$"
   ]
  },
  {
   "cell_type": "code",
   "execution_count": null,
   "metadata": {
    "colab": {},
    "colab_type": "code",
    "id": "WxEbvtmNpYVU"
   },
   "outputs": [],
   "source": [
    "def EA_R1_Predictions(ratios,month):\n",
    "    predicted_ratio=(ratios['Ratios'].values)[0]\n",
    "    alpha=0.6\n",
    "    error=[]\n",
    "    predicted_values=[]\n",
    "    predicted_ratio_values=[]\n",
    "    for i in range(0,4464*40):\n",
    "        if i%4464==0:\n",
    "            predicted_ratio_values.append(0)\n",
    "            predicted_values.append(0)\n",
    "            error.append(0)\n",
    "            continue\n",
    "        predicted_ratio_values.append(predicted_ratio)\n",
    "        predicted_values.append(int(((ratios['Given'].values)[i])*predicted_ratio))\n",
    "        error.append(abs((math.pow(int(((ratios['Given'].values)[i])*predicted_ratio)-(ratios['Prediction'].values)[i],1))))\n",
    "        predicted_ratio = (alpha*predicted_ratio) + (1-alpha)*((ratios['Ratios'].values)[i])\n",
    "    \n",
    "    ratios['EA_R1_Predicted'] = predicted_values\n",
    "    ratios['EA_R1_Error'] = error\n",
    "    mape_err = (sum(error)/len(error))/(sum(ratios['Prediction'].values)/len(ratios['Prediction'].values))\n",
    "    mse_err = sum([e**2 for e in error])/len(error)\n",
    "    return ratios,mape_err,mse_err"
   ]
  },
  {
   "cell_type": "markdown",
   "metadata": {
    "colab_type": "text",
    "id": "9Gy0JcqypYVV"
   },
   "source": [
    "$\\begin{align}P^{'}_{t} = \\alpha*P_{t-1} + (1-\\alpha)*P^{'}_{t-1}  \\end{align}$"
   ]
  },
  {
   "cell_type": "code",
   "execution_count": null,
   "metadata": {
    "colab": {},
    "colab_type": "code",
    "id": "VMXz3FqwpYVV"
   },
   "outputs": [],
   "source": [
    "def EA_P1_Predictions(ratios,month):\n",
    "    predicted_value= (ratios['Prediction'].values)[0]\n",
    "    alpha=0.3\n",
    "    error=[]\n",
    "    predicted_values=[]\n",
    "    for i in range(0,4464*40):\n",
    "        if i%4464==0:\n",
    "            predicted_values.append(0)\n",
    "            error.append(0)\n",
    "            continue\n",
    "        predicted_values.append(predicted_value)\n",
    "        error.append(abs((math.pow(predicted_value-(ratios['Prediction'].values)[i],1))))\n",
    "        predicted_value =int((alpha*predicted_value) + (1-alpha)*((ratios['Prediction'].values)[i]))\n",
    "    \n",
    "    ratios['EA_P1_Predicted'] = predicted_values\n",
    "    ratios['EA_P1_Error'] = error\n",
    "    mape_err = (sum(error)/len(error))/(sum(ratios['Prediction'].values)/len(ratios['Prediction'].values))\n",
    "    mse_err = sum([e**2 for e in error])/len(error)\n",
    "    return ratios,mape_err,mse_err"
   ]
  },
  {
   "cell_type": "code",
   "execution_count": null,
   "metadata": {
    "colab": {},
    "colab_type": "code",
    "id": "1X11ZE7epYVW"
   },
   "outputs": [],
   "source": [
    "mean_err=[0]*10\n",
    "median_err=[0]*10\n",
    "ratios_jan,mean_err[0],median_err[0]=MA_R_Predictions(ratios_jan,'jan')\n",
    "ratios_jan,mean_err[1],median_err[1]=MA_P_Predictions(ratios_jan,'jan')\n",
    "ratios_jan,mean_err[2],median_err[2]=WA_R_Predictions(ratios_jan,'jan')\n",
    "ratios_jan,mean_err[3],median_err[3]=WA_P_Predictions(ratios_jan,'jan')\n",
    "ratios_jan,mean_err[4],median_err[4]=EA_R1_Predictions(ratios_jan,'jan')\n",
    "ratios_jan,mean_err[5],median_err[5]=EA_P1_Predictions(ratios_jan,'jan')"
   ]
  },
  {
   "cell_type": "markdown",
   "metadata": {
    "colab_type": "text",
    "id": "F1DYm5pFpYVX"
   },
   "source": [
    "## Comparison between baseline models\n",
    "We have chosen our error metric for comparison between models as <b>MAPE (Mean Absolute Percentage Error)</b> so that we can know that on an average how good is our model with predictions and <b>MSE (Mean Squared Error)</b> is also used so that we have a clearer understanding as to how well our forecasting model performs with outliers so that we make sure that there is not much of a error margin between our prediction and the actual value"
   ]
  },
  {
   "cell_type": "code",
   "execution_count": null,
   "metadata": {
    "colab": {},
    "colab_type": "code",
    "id": "Q2y5V4hppYVX",
    "outputId": "132dc425-bd4d-4ed1-da95-8f6e4f6ee7a5"
   },
   "outputs": [],
   "source": [
    "print (\"Error Metric Matrix (Forecasting Methods) - MAPE & MSE\")\n",
    "print (\"--------------------------------------------------------------------------------------------------------\")\n",
    "print (\"Moving Averages (Ratios) -                             MAPE: \",mean_err[0],\"      MSE: \",median_err[0])\n",
    "print (\"Moving Averages (2016 Values) -                        MAPE: \",mean_err[1],\"       MSE: \",median_err[1])\n",
    "print (\"--------------------------------------------------------------------------------------------------------\")\n",
    "print (\"Weighted Moving Averages (Ratios) -                    MAPE: \",mean_err[2],\"      MSE: \",median_err[2])\n",
    "print (\"Weighted Moving Averages (2016 Values) -               MAPE: \",mean_err[3],\"      MSE: \",median_err[3])\n",
    "print (\"--------------------------------------------------------------------------------------------------------\")\n",
    "print (\"Exponential Moving Averages (Ratios) -              MAPE: \",mean_err[4],\"      MSE: \",median_err[4])\n",
    "print (\"Exponential Moving Averages (2016 Values) -         MAPE: \",mean_err[5],\"      MSE: \",median_err[5])"
   ]
  },
  {
   "cell_type": "markdown",
   "metadata": {
    "colab_type": "text",
    "id": "8SqIWer2pYVa"
   },
   "source": [
    "<b>Plese Note:-</b> The above comparisons are made using Jan 2015 and Jan 2016 only"
   ]
  },
  {
   "cell_type": "markdown",
   "metadata": {
    "colab_type": "text",
    "id": "mioBTOTppYVa"
   },
   "source": [
    "From the above matrix it is inferred that the best forecasting model for our prediction would be:-\n",
    "$\\begin{align}P^{'}_{t} = \\alpha*P_{t-1} + (1-\\alpha)*P^{'}_{t-1}  \\end{align}$ i.e Exponential Moving Averages using 2016 Values"
   ]
  },
  {
   "cell_type": "markdown",
   "metadata": {
    "colab_type": "text",
    "id": "eoV1TT2qpYVa"
   },
   "source": [
    "## Regression Models"
   ]
  },
  {
   "cell_type": "markdown",
   "metadata": {
    "colab_type": "text",
    "id": "eN4agQdupYVb"
   },
   "source": [
    "### Train-Test Split\n",
    "Before we start predictions using the tree based regression models we take 3 months of 2016 pickup data and split it such that for every region we have 70% data in train and 30% in test, ordered date-wise for every region"
   ]
  },
  {
   "cell_type": "code",
   "execution_count": null,
   "metadata": {
    "colab": {},
    "colab_type": "code",
    "id": "wiVsOBxYpYVb",
    "scrolled": true
   },
   "outputs": [],
   "source": [
    "# Preparing data to be split into train and test, The below prepares data in cumulative form which will be later split into test and train\n",
    "# number of 10min indices for jan 2015= 24*31*60/10 = 4464\n",
    "# number of 10min indices for jan 2016 = 24*31*60/10 = 4464\n",
    "# number of 10min indices for feb 2016 = 24*29*60/10 = 4176\n",
    "# number of 10min indices for march 2016 = 24*31*60/10 = 4464\n",
    "# regions_cum: it will contain 40 lists, each list will contain 4464+4176+4464 values which represents the number of pickups \n",
    "# that are happened for three months in 2016 data\n",
    "\n",
    "# print(len(regions_cum))\n",
    "# 40\n",
    "# print(len(regions_cum[0]))\n",
    "# 12960\n",
    "\n",
    "# we take number of pickups that are happened in last 5 10min intravels\n",
    "number_of_time_stamps = 5\n",
    "\n",
    "# output varaible\n",
    "# it is list of lists\n",
    "# it will contain number of pickups 13099 for each cluster\n",
    "output = []\n",
    "\n",
    "\n",
    "# tsne_lat will contain 13104-5=13099 times lattitude of cluster center for every cluster\n",
    "# Ex: [[cent_lat 13099times],[cent_lat 13099times], [cent_lat 13099times].... 40 lists]\n",
    "# it is list of lists\n",
    "tsne_lat = []\n",
    "\n",
    "\n",
    "# tsne_lon will contain 13104-5=13099 times logitude of cluster center for every cluster\n",
    "# Ex: [[cent_long 13099times],[cent_long 13099times], [cent_long 13099times].... 40 lists]\n",
    "# it is list of lists\n",
    "tsne_lon = []\n",
    "\n",
    "# we will code each day \n",
    "# sunday = 0, monday=1, tue = 2, wed=3, thur=4, fri=5,sat=6\n",
    "# for every cluster we will be adding 13099 values, each value represent to which day of the week that pickup bin belongs to\n",
    "# it is list of lists\n",
    "tsne_weekday = []\n",
    "\n",
    "# its an numbpy array, of shape (523960, 5)\n",
    "# each row corresponds to an entry in out data\n",
    "# for the first row we will have [f0,f1,f2,f3,f4] fi=number of pickups happened in i+1th 10min intravel(bin)\n",
    "# the second row will have [f1,f2,f3,f4,f5]\n",
    "# the third row will have [f2,f3,f4,f5,f6]\n",
    "# and so on...\n",
    "tsne_feature = []\n",
    "\n",
    "\n",
    "tsne_feature = [0]*number_of_time_stamps\n",
    "for i in range(0,40):\n",
    "    tsne_lat.append([kmeans.cluster_centers_[i][0]]*13099)\n",
    "    tsne_lon.append([kmeans.cluster_centers_[i][1]]*13099)\n",
    "    # jan 1st 2016 is thursday, so we start our day from 4: \"(int(k/144))%7+4\"\n",
    "    # our prediction start from 5th 10min intravel since we need to have number of pickups that are happened in last 5 pickup bins\n",
    "    tsne_weekday.append([int(((int(k/144))%7+4)%7) for k in range(5,4464+4176+4464)])\n",
    "    # regions_cum is a list of lists [[x1,x2,x3..x13104], [x1,x2,x3..x13104], [x1,x2,x3..x13104], [x1,x2,x3..x13104], [x1,x2,x3..x13104], .. 40 lsits]\n",
    "    tsne_feature = np.vstack((tsne_feature, [regions_cum[i][r:r+number_of_time_stamps] for r in range(0,len(regions_cum[i])-number_of_time_stamps)]))\n",
    "    output.append(regions_cum[i][5:])\n",
    "tsne_feature = tsne_feature[1:]"
   ]
  },
  {
   "cell_type": "code",
   "execution_count": null,
   "metadata": {
    "colab": {},
    "colab_type": "code",
    "id": "HMv1rC51pYVc",
    "outputId": "11a6a133-7aba-4377-d852-93b6681852c9"
   },
   "outputs": [],
   "source": [
    "len(tsne_lat[0])*len(tsne_lat) == tsne_feature.shape[0] == len(tsne_weekday)*len(tsne_weekday[0]) == 40*13099 == len(output)*len(output[0])"
   ]
  },
  {
   "cell_type": "code",
   "execution_count": null,
   "metadata": {
    "colab": {},
    "colab_type": "code",
    "id": "ofQ8zCtgpYVe"
   },
   "outputs": [],
   "source": [
    "# Getting the predictions of exponential moving averages to be used as a feature in cumulative form\n",
    "\n",
    "# upto now we computed 8 features for every data point that starts from 50th min of the day\n",
    "# 1. cluster center lattitude\n",
    "# 2. cluster center longitude\n",
    "# 3. day of the week \n",
    "# 4. f_t_1: number of pickups that are happened previous t-1th 10min intravel\n",
    "# 5. f_t_2: number of pickups that are happened previous t-2th 10min intravel\n",
    "# 6. f_t_3: number of pickups that are happened previous t-3th 10min intravel\n",
    "# 7. f_t_4: number of pickups that are happened previous t-4th 10min intravel\n",
    "# 8. f_t_5: number of pickups that are happened previous t-5th 10min intravel\n",
    "\n",
    "# from the baseline models we said the exponential weighted moving avarage gives us the best error\n",
    "# we will try to add the same exponential weighted moving avarage at t as a feature to our data\n",
    "# exponential weighted moving avarage => p'(t) = alpha*p'(t-1) + (1-alpha)*P(t-1) \n",
    "alpha=0.3\n",
    "\n",
    "# it is a temporary array that store exponential weighted moving avarage for each 10min intravel, \n",
    "# for each cluster it will get reset\n",
    "# for every cluster it contains 13104 values\n",
    "predicted_values=[]\n",
    "\n",
    "# it is similar like tsne_lat\n",
    "# it is list of lists\n",
    "# predict_list is a list of lists [[x5,x6,x7..x13104], [x5,x6,x7..x13104], [x5,x6,x7..x13104], [x5,x6,x7..x13104], [x5,x6,x7..x13104], .. 40 lsits]\n",
    "predict_list = []\n",
    "tsne_flat_exp_avg = []\n",
    "for r in range(0,40):\n",
    "    for i in range(0,13104):\n",
    "        if i==0:\n",
    "            predicted_value= regions_cum[r][0]\n",
    "            predicted_values.append(0)\n",
    "            continue\n",
    "        predicted_values.append(predicted_value)\n",
    "        predicted_value =int((alpha*predicted_value) + (1-alpha)*(regions_cum[r][i]))\n",
    "    predict_list.append(predicted_values[5:])\n",
    "    predicted_values=[]"
   ]
  },
  {
   "cell_type": "code",
   "execution_count": null,
   "metadata": {
    "colab": {},
    "colab_type": "code",
    "id": "31AvW-MApYVf",
    "outputId": "c340d12a-b4d2-4c98-a50d-aa34835318a8"
   },
   "outputs": [],
   "source": [
    "# train, test split : 70% 30% split\n",
    "# Before we start predictions using the tree based regression models we take 3 months of 2016 pickup data \n",
    "# and split it such that for every region we have 70% data in train and 30% in test,\n",
    "# ordered date-wise for every region\n",
    "print(\"size of train data :\", int(13099*0.7))\n",
    "print(\"size of test data :\", int(13099*0.3))"
   ]
  },
  {
   "cell_type": "code",
   "execution_count": null,
   "metadata": {
    "colab": {},
    "colab_type": "code",
    "id": "Ty3ywNTepYVh"
   },
   "outputs": [],
   "source": [
    "# extracting first 9169 timestamp values i.e 70% of 13099 (total timestamps) for our training data\n",
    "train_features =  [tsne_feature[i*13099:(13099*i+9169)] for i in range(0,40)]\n",
    "# temp = [0]*(12955 - 9068)\n",
    "test_features = [tsne_feature[(13099*(i))+9169:13099*(i+1)] for i in range(0,40)]"
   ]
  },
  {
   "cell_type": "code",
   "execution_count": null,
   "metadata": {
    "colab": {},
    "colab_type": "code",
    "id": "9T0p_qhipYVi",
    "outputId": "0175f0a5-d675-4568-ca3a-3535fc267a4b"
   },
   "outputs": [],
   "source": [
    "print(\"Number of data clusters\",len(train_features), \"Number of data points in trian data\", len(train_features[0]), \"Each data point contains\", len(train_features[0][0]),\"features\")\n",
    "print(\"Number of data clusters\",len(train_features), \"Number of data points in test data\", len(test_features[0]), \"Each data point contains\", len(test_features[0][0]),\"features\")"
   ]
  },
  {
   "cell_type": "code",
   "execution_count": null,
   "metadata": {
    "colab": {},
    "colab_type": "code",
    "id": "cUrc4FPepYVk"
   },
   "outputs": [],
   "source": [
    "# extracting first 9169 timestamp values i.e 70% of 13099 (total timestamps) for our training data\n",
    "tsne_train_flat_lat = [i[:9169] for i in tsne_lat]\n",
    "tsne_train_flat_lon = [i[:9169] for i in tsne_lon]\n",
    "tsne_train_flat_weekday = [i[:9169] for i in tsne_weekday]\n",
    "tsne_train_flat_output = [i[:9169] for i in output]\n",
    "tsne_train_flat_exp_avg = [i[:9169] for i in predict_list]"
   ]
  },
  {
   "cell_type": "code",
   "execution_count": null,
   "metadata": {
    "colab": {},
    "colab_type": "code",
    "id": "jJ4h3S58pYVl"
   },
   "outputs": [],
   "source": [
    "# extracting the rest of the timestamp values i.e 30% of 12956 (total timestamps) for our test data\n",
    "tsne_test_flat_lat = [i[9169:] for i in tsne_lat]\n",
    "tsne_test_flat_lon = [i[9169:] for i in tsne_lon]\n",
    "tsne_test_flat_weekday = [i[9169:] for i in tsne_weekday]\n",
    "tsne_test_flat_output = [i[9169:] for i in output]\n",
    "tsne_test_flat_exp_avg = [i[9169:] for i in predict_list]"
   ]
  },
  {
   "cell_type": "code",
   "execution_count": null,
   "metadata": {
    "colab": {},
    "colab_type": "code",
    "id": "A3_aVVZnpYVm"
   },
   "outputs": [],
   "source": [
    "# the above contains values in the form of list of lists (i.e. list of values of each region), here we make all of them in one list\n",
    "train_new_features = []\n",
    "for i in range(0,40):\n",
    "    train_new_features.extend(train_features[i])\n",
    "test_new_features = []\n",
    "for i in range(0,40):\n",
    "    test_new_features.extend(test_features[i])"
   ]
  },
  {
   "cell_type": "code",
   "execution_count": null,
   "metadata": {
    "colab": {},
    "colab_type": "code",
    "id": "CacNoTj8pYVo"
   },
   "outputs": [],
   "source": [
    "# converting lists of lists into sinle list i.e flatten\n",
    "# a  = [[1,2,3,4],[4,6,7,8]]\n",
    "# print(sum(a,[]))\n",
    "# [1, 2, 3, 4, 4, 6, 7, 8]\n",
    "\n",
    "tsne_train_lat = sum(tsne_train_flat_lat, [])\n",
    "tsne_train_lon = sum(tsne_train_flat_lon, [])\n",
    "tsne_train_weekday = sum(tsne_train_flat_weekday, [])\n",
    "tsne_train_output = sum(tsne_train_flat_output, [])\n",
    "tsne_train_exp_avg = sum(tsne_train_flat_exp_avg,[])"
   ]
  },
  {
   "cell_type": "code",
   "execution_count": null,
   "metadata": {
    "colab": {},
    "colab_type": "code",
    "id": "vAHbGnkopYVs"
   },
   "outputs": [],
   "source": [
    "# converting lists of lists into sinle list i.e flatten\n",
    "# a  = [[1,2,3,4],[4,6,7,8]]\n",
    "# print(sum(a,[]))\n",
    "# [1, 2, 3, 4, 4, 6, 7, 8]\n",
    "\n",
    "tsne_test_lat = sum(tsne_test_flat_lat, [])\n",
    "tsne_test_lon = sum(tsne_test_flat_lon, [])\n",
    "tsne_test_weekday = sum(tsne_test_flat_weekday, [])\n",
    "tsne_test_output = sum(tsne_test_flat_output, [])\n",
    "tsne_test_exp_avg = sum(tsne_test_flat_exp_avg,[])"
   ]
  },
  {
   "cell_type": "code",
   "execution_count": null,
   "metadata": {
    "colab": {},
    "colab_type": "code",
    "id": "j5ND-T1apYVt",
    "outputId": "fceeca31-3d06-489e-e31e-2c8ea157bdb9"
   },
   "outputs": [],
   "source": [
    "# Preparing the data frame for our train data\n",
    "columns = ['ft_5','ft_4','ft_3','ft_2','ft_1']\n",
    "df_train = pd.DataFrame(data=train_new_features, columns=columns) \n",
    "df_train['lat'] = tsne_train_lat\n",
    "df_train['lon'] = tsne_train_lon\n",
    "df_train['weekday'] = tsne_train_weekday\n",
    "df_train['exp_avg'] = tsne_train_exp_avg\n",
    "\n",
    "print(df_train.shape)"
   ]
  },
  {
   "cell_type": "code",
   "execution_count": null,
   "metadata": {
    "colab": {},
    "colab_type": "code",
    "id": "aa8LZ28GpYVw",
    "outputId": "70804aeb-965f-4a5c-cb23-9e5a97d2b29a"
   },
   "outputs": [],
   "source": [
    "# Preparing the data frame for our train data\n",
    "df_test = pd.DataFrame(data=test_new_features, columns=columns) \n",
    "df_test['lat'] = tsne_test_lat\n",
    "df_test['lon'] = tsne_test_lon\n",
    "df_test['weekday'] = tsne_test_weekday\n",
    "df_test['exp_avg'] = tsne_test_exp_avg\n",
    "print(df_test.shape)"
   ]
  },
  {
   "cell_type": "code",
   "execution_count": null,
   "metadata": {
    "colab": {},
    "colab_type": "code",
    "id": "eQj1LfMnpYVx",
    "outputId": "a369ae64-f86b-4990-ca77-9f650b553423"
   },
   "outputs": [],
   "source": [
    "df_test.head()"
   ]
  },
  {
   "cell_type": "markdown",
   "metadata": {
    "colab_type": "text",
    "id": "rykiaxYlpYVz"
   },
   "source": [
    "### Using Linear Regression"
   ]
  },
  {
   "cell_type": "code",
   "execution_count": null,
   "metadata": {
    "colab": {},
    "colab_type": "code",
    "id": "a4-FX3CdpYV0"
   },
   "outputs": [],
   "source": [
    "# find more about LinearRegression function here http://scikit-learn.org/stable/modules/generated/sklearn.linear_model.LinearRegression.html\n",
    "# -------------------------\n",
    "# default paramters\n",
    "# sklearn.linear_model.LinearRegression(fit_intercept=True, normalize=False, copy_X=True, n_jobs=1)\n",
    "\n",
    "# some of methods of LinearRegression()\n",
    "# fit(X, y[, sample_weight])\tFit linear model.\n",
    "# get_params([deep])\tGet parameters for this estimator.\n",
    "# predict(X)\tPredict using the linear model\n",
    "# score(X, y[, sample_weight])\tReturns the coefficient of determination R^2 of the prediction.\n",
    "# set_params(**params)\tSet the parameters of this estimator.\n",
    "# -----------------------\n",
    "# video link: https://www.appliedaicourse.com/course/applied-ai-course-online/lessons/geometric-intuition-1-2-copy-8/\n",
    "# -----------------------\n",
    "\n",
    "from sklearn.linear_model import LinearRegression\n",
    "lr_reg=LinearRegression().fit(df_train, tsne_train_output)\n",
    "\n",
    "y_pred = lr_reg.predict(df_test)\n",
    "lr_test_predictions = [round(value) for value in y_pred]\n",
    "y_pred = lr_reg.predict(df_train)\n",
    "lr_train_predictions = [round(value) for value in y_pred]"
   ]
  },
  {
   "cell_type": "markdown",
   "metadata": {
    "colab_type": "text",
    "id": "CbdQSLMipYV1"
   },
   "source": [
    "### Using Random Forest Regressor"
   ]
  },
  {
   "cell_type": "code",
   "execution_count": null,
   "metadata": {
    "colab": {},
    "colab_type": "code",
    "id": "1yH4SyUqpYV1",
    "outputId": "c868401f-5974-4c63-90db-be1ad4ee2207"
   },
   "outputs": [],
   "source": [
    "# Training a hyper-parameter tuned random forest regressor on our train data\n",
    "# find more about LinearRegression function here http://scikit-learn.org/stable/modules/generated/sklearn.ensemble.RandomForestRegressor.html\n",
    "# -------------------------\n",
    "# default paramters\n",
    "# sklearn.ensemble.RandomForestRegressor(n_estimators=10, criterion=’mse’, max_depth=None, min_samples_split=2, \n",
    "# min_samples_leaf=1, min_weight_fraction_leaf=0.0, max_features=’auto’, max_leaf_nodes=None, min_impurity_decrease=0.0, \n",
    "# min_impurity_split=None, bootstrap=True, oob_score=False, n_jobs=1, random_state=None, verbose=0, warm_start=False)\n",
    "\n",
    "# some of methods of RandomForestRegressor()\n",
    "# apply(X)\tApply trees in the forest to X, return leaf indices.\n",
    "# decision_path(X)\tReturn the decision path in the forest\n",
    "# fit(X, y[, sample_weight])\tBuild a forest of trees from the training set (X, y).\n",
    "# get_params([deep])\tGet parameters for this estimator.\n",
    "# predict(X)\tPredict regression target for X.\n",
    "# score(X, y[, sample_weight])\tReturns the coefficient of determination R^2 of the prediction.\n",
    "# -----------------------\n",
    "# video link1: https://www.appliedaicourse.com/course/applied-ai-course-online/lessons/regression-using-decision-trees-2/\n",
    "# video link2: https://www.appliedaicourse.com/course/applied-ai-course-online/lessons/what-are-ensembles/\n",
    "# -----------------------\n",
    "\n",
    "regr1 = RandomForestRegressor(max_features='sqrt',min_samples_leaf=4,min_samples_split=3,n_estimators=40, n_jobs=-1)\n",
    "regr1.fit(df_train, tsne_train_output)"
   ]
  },
  {
   "cell_type": "code",
   "execution_count": null,
   "metadata": {
    "colab": {},
    "colab_type": "code",
    "id": "CB0zPii6pYV3"
   },
   "outputs": [],
   "source": [
    "# Predicting on test data using our trained random forest model \n",
    "\n",
    "# the models regr1 is already hyper parameter tuned\n",
    "# the parameters that we got above are found using grid search\n",
    "\n",
    "y_pred = regr1.predict(df_test)\n",
    "rndf_test_predictions = [round(value) for value in y_pred]\n",
    "y_pred = regr1.predict(df_train)\n",
    "rndf_train_predictions = [round(value) for value in y_pred]"
   ]
  },
  {
   "cell_type": "code",
   "execution_count": null,
   "metadata": {
    "colab": {},
    "colab_type": "code",
    "id": "iAw-LW-PpYV5",
    "outputId": "c112d47f-6cb6-4be2-f212-469777c8d17e"
   },
   "outputs": [],
   "source": [
    "#feature importances based on analysis using random forest\n",
    "print (df_train.columns)\n",
    "print (regr1.feature_importances_)"
   ]
  },
  {
   "cell_type": "markdown",
   "metadata": {
    "colab_type": "text",
    "id": "4p0IhKaSpYV6"
   },
   "source": [
    "### Using XgBoost Regressor"
   ]
  },
  {
   "cell_type": "code",
   "execution_count": null,
   "metadata": {
    "colab": {},
    "colab_type": "code",
    "id": "nP3gp-0kpYV7",
    "outputId": "f87b350e-7419-4706-eb0e-ff01b298572c"
   },
   "outputs": [],
   "source": [
    "# Training a hyper-parameter tuned Xg-Boost regressor on our train data\n",
    "\n",
    "# find more about XGBRegressor function here http://xgboost.readthedocs.io/en/latest/python/python_api.html?#module-xgboost.sklearn\n",
    "# -------------------------\n",
    "# default paramters\n",
    "# xgboost.XGBRegressor(max_depth=3, learning_rate=0.1, n_estimators=100, silent=True, objective='reg:linear', \n",
    "# booster='gbtree', n_jobs=1, nthread=None, gamma=0, min_child_weight=1, max_delta_step=0, subsample=1, colsample_bytree=1, \n",
    "# colsample_bylevel=1, reg_alpha=0, reg_lambda=1, scale_pos_weight=1, base_score=0.5, random_state=0, seed=None, \n",
    "# missing=None, **kwargs)\n",
    "\n",
    "# some of methods of RandomForestRegressor()\n",
    "# fit(X, y, sample_weight=None, eval_set=None, eval_metric=None, early_stopping_rounds=None, verbose=True, xgb_model=None)\n",
    "# get_params([deep])\tGet parameters for this estimator.\n",
    "# predict(data, output_margin=False, ntree_limit=0) : Predict with data. NOTE: This function is not thread safe.\n",
    "# get_score(importance_type='weight') -> get the feature importance\n",
    "# -----------------------\n",
    "# video link1: https://www.appliedaicourse.com/course/applied-ai-course-online/lessons/regression-using-decision-trees-2/\n",
    "# video link2: https://www.appliedaicourse.com/course/applied-ai-course-online/lessons/what-are-ensembles/\n",
    "# -----------------------\n",
    "\n",
    "x_model = xgb.XGBRegressor(\n",
    " learning_rate =0.1,\n",
    " n_estimators=1000,\n",
    " max_depth=3,\n",
    " min_child_weight=3,\n",
    " gamma=0,\n",
    " subsample=0.8,\n",
    " reg_alpha=200, reg_lambda=200,\n",
    " colsample_bytree=0.8,nthread=4)\n",
    "x_model.fit(df_train, tsne_train_output)"
   ]
  },
  {
   "cell_type": "code",
   "execution_count": null,
   "metadata": {
    "colab": {},
    "colab_type": "code",
    "id": "vTuNZOc6pYV_"
   },
   "outputs": [],
   "source": [
    "#predicting with our trained Xg-Boost regressor\n",
    "# the models x_model is already hyper parameter tuned\n",
    "# the parameters that we got above are found using grid search\n",
    "\n",
    "y_pred = x_model.predict(df_test)\n",
    "xgb_test_predictions = [round(value) for value in y_pred]\n",
    "y_pred = x_model.predict(df_train)\n",
    "xgb_train_predictions = [round(value) for value in y_pred]"
   ]
  },
  {
   "cell_type": "code",
   "execution_count": null,
   "metadata": {
    "colab": {},
    "colab_type": "code",
    "id": "T3U0SLHApYWA",
    "outputId": "bd2a8dec-2724-4047-b073-28b0fd98411d"
   },
   "outputs": [],
   "source": [
    "#feature importances\n",
    "print(df_train.columns)\n",
    "x_model.feature_importances_"
   ]
  },
  {
   "cell_type": "markdown",
   "metadata": {},
   "source": [
    "## Assignmnet task: Adding Fourier feature and training all the models with Hyperparameter tuning"
   ]
  },
  {
   "cell_type": "markdown",
   "metadata": {},
   "source": [
    "### Fourier features (Frequency and amplitude)"
   ]
  },
  {
   "cell_type": "code",
   "execution_count": null,
   "metadata": {},
   "outputs": [],
   "source": [
    "# getting peaks: https://blog.ytotech.com/2015/11/01/findpeaks-in-python/\n",
    "# read more about fft function : https://docs.scipy.org/doc/numpy/reference/generated/numpy.fft.fft.html\n",
    "\n",
    "amplitude = []\n",
    "frequency = []\n",
    "for i in range(40):\n",
    "    amp  = np.fft.fft(np.array(jan_2015_smooth)[0:4464])\n",
    "# read more about the fftfreq: https://docs.scipy.org/doc/numpy/reference/generated/numpy.fft.fftfreq.html  \n",
    "    freq = np.fft.fftfreq(4464, 1)\n",
    "    ampli_indices = np.argsort(amp)[1:]       \n",
    "    amplitude_values = []\n",
    "    frequency_values = []\n",
    "    for j in range(0, 5):   #taking top five amplitudes and frequencies\n",
    "        amplitude_values.append(amp[ampli_indices[j]])\n",
    "        frequency_values.append(freq[ampli_indices[j]])\n",
    "    #Taking top 4 frequency and amplitude values \n",
    "    for k in range(4464):    #those top 5 frequencies and amplitudes are same for all the points in one cluster\n",
    "        amplitude.append(amplitude_values)\n",
    "        frequency.append(frequency_values) "
   ]
  },
  {
   "cell_type": "code",
   "execution_count": null,
   "metadata": {},
   "outputs": [],
   "source": [
    "freq_feature_train = [frequency[i*13099:(13099*i+9169)] for i in range(0,40)]\n",
    "freq_feature_test = [frequency[(13099*(i))+9169:13099*(i+1)] for i in range(0,40)]\n",
    "\n",
    "amp_feature_train = [amplitude[i*13099:(13099*i+9169)] for i in range(0,40)]\n",
    "amp_feature_test = [amplitude[(13099*(i))+9169:13099*(i+1)] for i in range(0,40)]"
   ]
  },
  {
   "cell_type": "code",
   "execution_count": null,
   "metadata": {},
   "outputs": [],
   "source": [
    "# extracting first 9169 timestamp values i.e 70% of 13099 (total timestamps) for our training data\n",
    "freq_feature_train = [i[:9169] for i in freq_feature_train]\n",
    "amp_feature_train = [i[:9169] for i in amp_feature_train]\n",
    "\n",
    "#extracting 30% data for our test data\n",
    "freq_feature_test = [i[9169:] for i in freq_feature_test]\n",
    "amp_feature_test = [i[9169:] for i in amp_feature_test]"
   ]
  },
  {
   "cell_type": "code",
   "execution_count": null,
   "metadata": {},
   "outputs": [],
   "source": [
    "freq_feature_train[0][0]"
   ]
  },
  {
   "cell_type": "code",
   "execution_count": null,
   "metadata": {},
   "outputs": [],
   "source": [
    "fet_freq_amp_train = np.hstack((freq_feature_train, amp_feature_train))"
   ]
  },
  {
   "cell_type": "code",
   "execution_count": null,
   "metadata": {},
   "outputs": [],
   "source": [
    "fet_freq_amp_train.shape"
   ]
  },
  {
   "cell_type": "code",
   "execution_count": null,
   "metadata": {},
   "outputs": [],
   "source": [
    "df_train.shape"
   ]
  },
  {
   "cell_type": "markdown",
   "metadata": {
    "colab_type": "text",
    "id": "HN_F4XI9pYWB"
   },
   "source": [
    "### Calculating the error metric values for various models"
   ]
  },
  {
   "cell_type": "code",
   "execution_count": null,
   "metadata": {
    "colab": {},
    "colab_type": "code",
    "id": "wxWASeeEpYWB"
   },
   "outputs": [],
   "source": [
    "train_mape=[]\n",
    "test_mape=[]\n",
    "\n",
    "train_mape.append((mean_absolute_error(tsne_train_output,df_train['ft_1'].values))/(sum(tsne_train_output)/len(tsne_train_output)))\n",
    "train_mape.append((mean_absolute_error(tsne_train_output,df_train['exp_avg'].values))/(sum(tsne_train_output)/len(tsne_train_output)))\n",
    "train_mape.append((mean_absolute_error(tsne_train_output,rndf_train_predictions))/(sum(tsne_train_output)/len(tsne_train_output)))\n",
    "train_mape.append((mean_absolute_error(tsne_train_output, xgb_train_predictions))/(sum(tsne_train_output)/len(tsne_train_output)))\n",
    "train_mape.append((mean_absolute_error(tsne_train_output, lr_train_predictions))/(sum(tsne_train_output)/len(tsne_train_output)))\n",
    "\n",
    "test_mape.append((mean_absolute_error(tsne_test_output, df_test['ft_1'].values))/(sum(tsne_test_output)/len(tsne_test_output)))\n",
    "test_mape.append((mean_absolute_error(tsne_test_output, df_test['exp_avg'].values))/(sum(tsne_test_output)/len(tsne_test_output)))\n",
    "test_mape.append((mean_absolute_error(tsne_test_output, rndf_test_predictions))/(sum(tsne_test_output)/len(tsne_test_output)))\n",
    "test_mape.append((mean_absolute_error(tsne_test_output, xgb_test_predictions))/(sum(tsne_test_output)/len(tsne_test_output)))\n",
    "test_mape.append((mean_absolute_error(tsne_test_output, lr_test_predictions))/(sum(tsne_test_output)/len(tsne_test_output)))"
   ]
  },
  {
   "cell_type": "code",
   "execution_count": null,
   "metadata": {
    "colab": {},
    "colab_type": "code",
    "id": "HVAsA4-IpYWC",
    "outputId": "d83ffcc4-67fa-4e08-a15b-0e8df84291b5"
   },
   "outputs": [],
   "source": [
    "print (\"Error Metric Matrix (Tree Based Regression Methods) -  MAPE\")\n",
    "print (\"--------------------------------------------------------------------------------------------------------\")\n",
    "print (\"Baseline Model -                             Train: \",train_mape[0],\"      Test: \",test_mape[0])\n",
    "print (\"Exponential Averages Forecasting -           Train: \",train_mape[1],\"      Test: \",test_mape[1])\n",
    "print (\"Linear Regression -                         Train: \",train_mape[3],\"      Test: \",test_mape[3])\n",
    "print (\"Random Forest Regression -                   Train: \",train_mape[2],\"     Test: \",test_mape[2])"
   ]
  },
  {
   "cell_type": "markdown",
   "metadata": {
    "colab_type": "text",
    "id": "dsWghvyVpYWE"
   },
   "source": [
    "### Error Metric Matrix"
   ]
  },
  {
   "cell_type": "code",
   "execution_count": null,
   "metadata": {
    "colab": {},
    "colab_type": "code",
    "id": "ajqLUxkjpYWE",
    "outputId": "4ad278c1-0b12-44bf-b30b-ab58857e8796"
   },
   "outputs": [],
   "source": [
    "print (\"Error Metric Matrix (Tree Based Regression Methods) -  MAPE\")\n",
    "print (\"--------------------------------------------------------------------------------------------------------\")\n",
    "print (\"Baseline Model -                             Train: \",train_mape[0],\"      Test: \",test_mape[0])\n",
    "print (\"Exponential Averages Forecasting -           Train: \",train_mape[1],\"      Test: \",test_mape[1])\n",
    "print (\"Linear Regression -                         Train: \",train_mape[4],\"      Test: \",test_mape[4])\n",
    "print (\"Random Forest Regression -                   Train: \",train_mape[2],\"     Test: \",test_mape[2])\n",
    "print (\"XgBoost Regression -                         Train: \",train_mape[3],\"      Test: \",test_mape[3])\n",
    "print (\"--------------------------------------------------------------------------------------------------------\")"
   ]
  },
  {
   "cell_type": "markdown",
   "metadata": {
    "colab_type": "text",
    "id": "2tvbI-GkpYWF"
   },
   "source": [
    "# Assignments\n",
    "\n",
    "        "
   ]
  },
  {
   "cell_type": "code",
   "execution_count": null,
   "metadata": {
    "colab": {},
    "colab_type": "code",
    "id": "JvEcs6bfpYWG",
    "outputId": "13ef25c8-7c41-4f6f-9fa5-a7085a7e4d2a"
   },
   "outputs": [],
   "source": [
    "'''\n",
    "Task 1: Incorporate Fourier features as features into Regression models and measure MAPE. <br>\n",
    "\n",
    "Task 2: Perform hyper-parameter tuning for Regression models.\n",
    "        2a. Linear Regression: Grid Search\n",
    "        2b. Random Forest: Random Search \n",
    "        2c. Xgboost: Random Search\n",
    "Task 3: Explore more time-series features using Google search/Quora/Stackoverflow\n",
    "to reduce the MAPE to < 12%\n",
    "'''"
   ]
  }
 ],
 "metadata": {
  "colab": {
   "name": "NYC Final.ipynb",
   "provenance": [],
   "version": "0.3.2"
  },
  "kernelspec": {
   "display_name": "Python 3",
   "language": "python",
   "name": "python3"
  },
  "language_info": {
   "codemirror_mode": {
    "name": "ipython",
    "version": 3
   },
   "file_extension": ".py",
   "mimetype": "text/x-python",
   "name": "python",
   "nbconvert_exporter": "python",
   "pygments_lexer": "ipython3",
   "version": "3.7.3"
  }
 },
 "nbformat": 4,
 "nbformat_minor": 1
}
