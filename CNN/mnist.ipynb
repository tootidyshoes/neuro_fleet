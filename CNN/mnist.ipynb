{
 "cells": [
  {
   "cell_type": "code",
   "execution_count": 1,
   "metadata": {},
   "outputs": [
    {
     "name": "stderr",
     "output_type": "stream",
     "text": [
      "Using TensorFlow backend.\n"
     ]
    }
   ],
   "source": [
    "import tensorflow as tf\n",
    "import keras\n",
    "from keras.utils import np_utils\n",
    "from keras.datasets import mnist\n",
    "from keras.models import Sequential\n",
    "from keras.layers import Input, InputLayer, Dense, Dropout, ZeroPadding2D, Flatten, Activation\n",
    "from keras.layers import Conv2D, MaxPooling2D\n",
    "from keras.initializers import he_normal\n",
    "from keras.layers.normalization import BatchNormalization\n",
    "from keras.optimizers import Adam\n",
    "from keras import backend as K\n",
    "from keras.preprocessing.image import ImageDataGenerator\n",
    "import numpy as np"
   ]
  },
  {
   "cell_type": "code",
   "execution_count": 2,
   "metadata": {},
   "outputs": [],
   "source": [
    "#Softmax output dim\n",
    "num_classes = 10\n",
    "batch_size = 140\n",
    "epochs = 20"
   ]
  },
  {
   "cell_type": "code",
   "execution_count": 3,
   "metadata": {},
   "outputs": [],
   "source": [
    "#Input\n",
    "img_rows, img_cols = 28, 28\n",
    "\n",
    "(X_train, y_train), (X_test, y_test) = mnist.load_data()\n",
    "\n",
    "if K.image_data_format()=='channels_first':\n",
    "    X_train = X_train.reshape(X_train.shape[0], 1, img_rows, img_cols)\n",
    "    X_test = X_test.reshape(X_test.shape[0], 1, img_rows, img_cols)\n",
    "    input_shape = (1, img_rows, img_cols)\n",
    "    \n",
    "else:\n",
    "    X_train = X_train.reshape(X_train.shape[0],  img_rows, img_cols,1)\n",
    "    X_test = X_test.reshape(X_test.shape[0],  img_rows, img_cols, 1)\n",
    "    input_shape = (img_rows, img_cols, 1)\n",
    "    "
   ]
  },
  {
   "cell_type": "code",
   "execution_count": 4,
   "metadata": {},
   "outputs": [
    {
     "data": {
      "text/plain": [
       "(60000, 28, 28, 1)"
      ]
     },
     "execution_count": 4,
     "metadata": {},
     "output_type": "execute_result"
    }
   ],
   "source": [
    "X_train.shape"
   ]
  },
  {
   "cell_type": "code",
   "execution_count": 5,
   "metadata": {},
   "outputs": [
    {
     "data": {
      "text/plain": [
       "(10000, 28, 28, 1)"
      ]
     },
     "execution_count": 5,
     "metadata": {},
     "output_type": "execute_result"
    }
   ],
   "source": [
    "X_test.shape"
   ]
  },
  {
   "cell_type": "code",
   "execution_count": 6,
   "metadata": {},
   "outputs": [],
   "source": [
    "# Data Normalization\n",
    "X_train = X_train.astype('float32')\n",
    "X_test = X_test.astype('float32')\n",
    "\n",
    "X_train /= 255\n",
    "X_test /= 255\n",
    "\n",
    "old_v = tf.logging.get_verbosity\n",
    "tf.logging.set_verbosity(tf.logging.ERROR)"
   ]
  },
  {
   "cell_type": "code",
   "execution_count": 7,
   "metadata": {},
   "outputs": [],
   "source": [
    "X_train[0:30000]=np.fliplr(X_train[0:30000])\n",
    "X_test[0:5000]=np.fliplr(X_test[0:5000])"
   ]
  },
  {
   "cell_type": "code",
   "execution_count": 8,
   "metadata": {},
   "outputs": [
    {
     "data": {
      "text/plain": [
       "numpy.ndarray"
      ]
     },
     "execution_count": 8,
     "metadata": {},
     "output_type": "execute_result"
    }
   ],
   "source": [
    "type(X_train)"
   ]
  },
  {
   "cell_type": "code",
   "execution_count": 10,
   "metadata": {},
   "outputs": [
    {
     "data": {
      "text/plain": [
       "<matplotlib.image.AxesImage at 0x1e5ca7405c0>"
      ]
     },
     "execution_count": 10,
     "metadata": {},
     "output_type": "execute_result"
    },
    {
     "data": {
      "image/png": "[encoded data removed]",
      "text/plain": [
       "<Figure size 432x288 with 1 Axes>"
      ]
     },
     "metadata": {
      "needs_background": "light"
     },
     "output_type": "display_data"
    }
   ],
   "source": [
    "import matplotlib.pyplot as plt\n",
    "plt.imshow(X_train[299].reshape(28,28))"
   ]
  },
  {
   "cell_type": "code",
   "execution_count": 18,
   "metadata": {},
   "outputs": [
    {
     "name": "stdout",
     "output_type": "stream",
     "text": [
      "_________________________________________________________________\n",
      "Layer (type)                 Output Shape              Param #   \n",
      "=================================================================\n",
      "conv2d_1 (Conv2D)            (None, 28, 28, 16)        160       \n",
      "_________________________________________________________________\n",
      "conv2d_2 (Conv2D)            (None, 28, 28, 16)        2320      \n",
      "_________________________________________________________________\n",
      "max_pooling2d_1 (MaxPooling2 (None, 14, 14, 16)        0         \n",
      "_________________________________________________________________\n",
      "batch_normalization_1 (Batch (None, 14, 14, 16)        64        \n",
      "_________________________________________________________________\n",
      "dropout_1 (Dropout)          (None, 14, 14, 16)        0         \n",
      "_________________________________________________________________\n",
      "conv2d_3 (Conv2D)            (None, 14, 14, 16)        2320      \n",
      "_________________________________________________________________\n",
      "conv2d_4 (Conv2D)            (None, 14, 14, 16)        2320      \n",
      "_________________________________________________________________\n",
      "max_pooling2d_2 (MaxPooling2 (None, 7, 7, 16)          0         \n",
      "_________________________________________________________________\n",
      "dropout_2 (Dropout)          (None, 7, 7, 16)          0         \n",
      "_________________________________________________________________\n",
      "flatten_1 (Flatten)          (None, 784)               0         \n",
      "_________________________________________________________________\n",
      "dense_1 (Dense)              (None, 512)               401920    \n",
      "_________________________________________________________________\n",
      "batch_normalization_2 (Batch (None, 512)               2048      \n",
      "_________________________________________________________________\n",
      "dropout_3 (Dropout)          (None, 512)               0         \n",
      "_________________________________________________________________\n",
      "dense_2 (Dense)              (None, 64)                32832     \n",
      "_________________________________________________________________\n",
      "batch_normalization_3 (Batch (None, 64)                256       \n",
      "_________________________________________________________________\n",
      "dropout_4 (Dropout)          (None, 64)                0         \n",
      "_________________________________________________________________\n",
      "dense_3 (Dense)              (None, 10)                650       \n",
      "=================================================================\n",
      "Total params: 444,890\n",
      "Trainable params: 443,706\n",
      "Non-trainable params: 1,184\n",
      "_________________________________________________________________\n",
      "None \n",
      "\n",
      "Train on 60000 samples, validate on 10000 samples\n",
      "Epoch 1/20\n",
      "60000/60000 [==============================] - 67s 1ms/step - loss: 0.5274 - acc: 0.8351 - val_loss: 0.1312 - val_acc: 0.9574\n",
      "Epoch 2/20\n",
      "60000/60000 [==============================] - 65s 1ms/step - loss: 0.1818 - acc: 0.9440 - val_loss: 0.0924 - val_acc: 0.9706\n",
      "Epoch 3/20\n",
      "60000/60000 [==============================] - 65s 1ms/step - loss: 0.1323 - acc: 0.9587 - val_loss: 0.0742 - val_acc: 0.9755\n",
      "Epoch 4/20\n",
      "60000/60000 [==============================] - 62s 1ms/step - loss: 0.1083 - acc: 0.9662 - val_loss: 0.0626 - val_acc: 0.9805\n",
      "Epoch 5/20\n",
      "60000/60000 [==============================] - 74s 1ms/step - loss: 0.0953 - acc: 0.9699 - val_loss: 0.0610 - val_acc: 0.9810\n",
      "Epoch 6/20\n",
      "60000/60000 [==============================] - 70s 1ms/step - loss: 0.0838 - acc: 0.9738 - val_loss: 0.0574 - val_acc: 0.9824\n",
      "Epoch 7/20\n",
      "60000/60000 [==============================] - 69s 1ms/step - loss: 0.0765 - acc: 0.9764 - val_loss: 0.0569 - val_acc: 0.9821\n",
      "Epoch 8/20\n",
      "60000/60000 [==============================] - 69s 1ms/step - loss: 0.0705 - acc: 0.9776 - val_loss: 0.0669 - val_acc: 0.9793\n",
      "Epoch 9/20\n",
      "60000/60000 [==============================] - 69s 1ms/step - loss: 0.0648 - acc: 0.9792 - val_loss: 0.0530 - val_acc: 0.9828\n",
      "Epoch 10/20\n",
      "60000/60000 [==============================] - 76s 1ms/step - loss: 0.0630 - acc: 0.9797 - val_loss: 0.0463 - val_acc: 0.9846\n",
      "Epoch 11/20\n",
      "60000/60000 [==============================] - 70s 1ms/step - loss: 0.0594 - acc: 0.9814 - val_loss: 0.0502 - val_acc: 0.9841\n",
      "Epoch 12/20\n",
      "60000/60000 [==============================] - 69s 1ms/step - loss: 0.0566 - acc: 0.9818 - val_loss: 0.0405 - val_acc: 0.9871\n",
      "Epoch 13/20\n",
      "60000/60000 [==============================] - 69s 1ms/step - loss: 0.0531 - acc: 0.9827 - val_loss: 0.0534 - val_acc: 0.9829\n",
      "Epoch 14/20\n",
      "60000/60000 [==============================] - 69s 1ms/step - loss: 0.0495 - acc: 0.9845 - val_loss: 0.0518 - val_acc: 0.9837\n",
      "Epoch 15/20\n",
      "60000/60000 [==============================] - 69s 1ms/step - loss: 0.0455 - acc: 0.9855 - val_loss: 0.0431 - val_acc: 0.9861\n",
      "Epoch 16/20\n",
      "60000/60000 [==============================] - 69s 1ms/step - loss: 0.0495 - acc: 0.9840 - val_loss: 0.0415 - val_acc: 0.9870\n",
      "Epoch 17/20\n",
      "60000/60000 [==============================] - 69s 1ms/step - loss: 0.0438 - acc: 0.9853 - val_loss: 0.0460 - val_acc: 0.9857\n",
      "Epoch 18/20\n",
      "60000/60000 [==============================] - 69s 1ms/step - loss: 0.0437 - acc: 0.9860 - val_loss: 0.0455 - val_acc: 0.9861\n",
      "Epoch 19/20\n",
      "60000/60000 [==============================] - 69s 1ms/step - loss: 0.0398 - acc: 0.9870 - val_loss: 0.0434 - val_acc: 0.9869\n",
      "Epoch 20/20\n",
      "60000/60000 [==============================] - 71s 1ms/step - loss: 0.0401 - acc: 0.9873 - val_loss: 0.0376 - val_acc: 0.9881\n"
     ]
    }
   ],
   "source": [
    "# Converting y_train 10-D vector\n",
    "y_train = keras.utils.to_categorical(y_train, num_classes)\n",
    "y_test = keras.utils.to_categorical(y_test, num_classes)\n",
    "\n",
    "# Model\n",
    "\n",
    "model = Sequential()\n",
    "\n",
    "model.add(Conv2D(filters=16, kernel_size=(3,3), strides =(1,1), padding = 'same',\n",
    "                 activation = 'relu', input_shape = input_shape,\n",
    "                 kernel_initializer = he_normal(seed=None)))\n",
    "\n",
    "model.add(Conv2D(filters=16, kernel_size=(3,3), strides =(1,1), padding = 'same',\n",
    "                 activation = 'relu', kernel_initializer = he_normal(seed=None)))\n",
    "\n",
    "model.add(MaxPooling2D(pool_size=(2,2), strides=2))\n",
    "\n",
    "model.add(BatchNormalization())\n",
    "\n",
    "model.add(Dropout(0.25))\n",
    "\n",
    "model.add(Conv2D(filters=16, kernel_size=(3,3), strides =(1,1), padding = 'same',\n",
    "                 activation = 'relu', kernel_initializer = he_normal(seed=None)))\n",
    "\n",
    "model.add(Conv2D(filters=16, kernel_size=(3,3), strides =(1,1), padding = 'same',\n",
    "                 activation = 'relu', kernel_initializer = he_normal(seed=None)))\n",
    "\n",
    "model.add(MaxPooling2D(pool_size=(2,2), strides=2))\n",
    "\n",
    "model.add(Dropout(0.25))\n",
    "\n",
    "model.add(Flatten())\n",
    "\n",
    "model.add(Dense(units = 512, activation='relu', kernel_initializer= he_normal(seed=None)))\n",
    "\n",
    "model.add(BatchNormalization())\n",
    "\n",
    "model.add(Dropout(0.25))\n",
    "\n",
    "model.add(Dense(units = 64, activation='relu', kernel_initializer= he_normal(seed=None)))\n",
    "\n",
    "model.add(BatchNormalization())\n",
    "\n",
    "model.add(Dropout(0.25))\n",
    "\n",
    "model.add(Dense(units = num_classes, activation='softmax'))\n",
    "\n",
    "model.compile(optimizer = 'adam', loss = 'categorical_crossentropy', metrics = ['accuracy'])\n",
    "\n",
    "print(model.summary(), '\\n')\n",
    "\n",
    "history = model.fit(X_train, y_train, batch_size = batch_size,\n",
    "                    epochs = epochs, verbose = 1, validation_data = (X_test, y_test))\n"
   ]
  },
  {
   "cell_type": "code",
   "execution_count": 19,
   "metadata": {},
   "outputs": [],
   "source": [
    "model.save('mnist.h5')\n",
    "model.save_weights('mnist_weights.h5')\n",
    "\n",
    "from sklearn.metrics import roc_auc_score\n",
    "def auc (y_true, y_pred):\n",
    "    return tf.py_function(roc_auc_score, (y_true, y_pred), tf.double)"
   ]
  },
  {
   "cell_type": "code",
   "execution_count": null,
   "metadata": {},
   "outputs": [],
   "source": []
  }
 ],
 "metadata": {
  "kernelspec": {
   "display_name": "Python 3",
   "language": "python",
   "name": "python3"
  },
  "language_info": {
   "codemirror_mode": {
    "name": "ipython",
    "version": 3
   },
   "file_extension": ".py",
   "mimetype": "text/x-python",
   "name": "python",
   "nbconvert_exporter": "python",
   "pygments_lexer": "ipython3",
   "version": "3.6.9"
  }
 },
 "nbformat": 4,
 "nbformat_minor": 2
}
